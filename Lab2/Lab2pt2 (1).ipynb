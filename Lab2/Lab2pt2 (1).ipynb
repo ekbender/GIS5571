{
 "cells": [
  {
   "cell_type": "code",
   "execution_count": 1,
   "metadata": {},
   "outputs": [],
   "source": [
    "import io\n",
    "import arcpy\n",
    "import pandas as pd\n",
    "import requests\n",
    "from arcgis.features import GeoAccessor, GeoSeriesAccessor, FeatureSet\n",
    "from arcgis.widgets import MapView\n",
    "from zipfile import ZipFile\n",
    "import os\n",
    "from osgeo import ogr\n",
    "from arcgis.geometry import SpatialReference\n",
    "import sys\n",
    "from arcpy.sa import *\n",
    "import arcpy\n",
    "\n",
    "from arcpy import env"
   ]
  },
  {
   "cell_type": "code",
   "execution_count": 2,
   "metadata": {},
   "outputs": [],
   "source": [
    "from arcgis import GIS\n",
    "gis = GIS()"
   ]
  },
  {
   "cell_type": "code",
   "execution_count": 3,
   "metadata": {},
   "outputs": [],
   "source": [
    "# I created a points layer called \"Dory\" with her start and end point"
   ]
  },
  {
   "cell_type": "code",
   "execution_count": 4,
   "metadata": {},
   "outputs": [],
   "source": [
    "#access landcover dataset via api\n",
    "landcover_link = r'https://resources.gisdata.mn.gov/pub/gdrs/data/pub/edu_umn/base_landcover_minnesota/tif_base_landcover_minnesota.zip'\n",
    "\n",
    "mngeo_response = requests.get(landcover_link, allow_redirects=True)"
   ]
  },
  {
   "cell_type": "code",
   "execution_count": 5,
   "metadata": {},
   "outputs": [
    {
     "data": {
      "text/plain": [
       "97106583"
      ]
     },
     "execution_count": 5,
     "metadata": {},
     "output_type": "execute_result"
    }
   ],
   "source": [
    "#open a new file and use the dot interface. write to put data in the file\n",
    "open(\"C:\\\\Users\\\\bende287\\Downloads\\\\tif_base_landcover_minnesota.zip\", 'wb').write(mngeo_response.content)"
   ]
  },
  {
   "cell_type": "code",
   "execution_count": 6,
   "metadata": {},
   "outputs": [
    {
     "name": "stdout",
     "output_type": "stream",
     "text": [
      "File Name                                             Modified             Size\n",
      "landcover_impervious_statewide2013_v2.tif      2016-07-21 11:21:44   1691043568\n",
      "metadata/metadata.html                         2016-10-21 11:43:38        31278\n",
      "metadata/metadata.xml                          2016-10-25 10:58:54        17434\n",
      "metadata/preview.jpg                           2016-10-21 11:43:38       320230\n",
      "metadata/Thumbs.db                             2016-11-22 13:50:36        22528\n",
      "Extracting all files now..\n",
      "Done!\n"
     ]
    }
   ],
   "source": [
    "#unzip file\n",
    "with ZipFile(r\"C:\\Users\\bende287\\Downloads\\tif_base_landcover_minnesota.zip\", 'r') as z:\n",
    "    z.printdir()\n",
    "    \n",
    "    print('Extracting all files now..')\n",
    "    z.extractall(r\"C:\\Users\\bende287\\Downloads\\tif_base_landcover_minnesota\")\n",
    "    print('Done!')"
   ]
  },
  {
   "cell_type": "code",
   "execution_count": 7,
   "metadata": {},
   "outputs": [],
   "source": [
    "#access dem dataset via api\n",
    "dem_url = r'https://resources.gisdata.mn.gov/pub/gdrs/data/pub/us_mn_state_dnr/elev_30m_digital_elevation_model/fgdb_elev_30m_digital_elevation_model.zip'\n",
    "dem_response = requests.get(dem_url, allow_redirects=True)"
   ]
  },
  {
   "cell_type": "code",
   "execution_count": 8,
   "metadata": {},
   "outputs": [
    {
     "data": {
      "text/plain": [
       "402844618"
      ]
     },
     "execution_count": 8,
     "metadata": {},
     "output_type": "execute_result"
    }
   ],
   "source": [
    "#open a new file and use the dot interface. write to put data in the file\n",
    "open(\"C:\\\\Users\\\\bende287\\Downloads\\\\fgdb_elev_30m_digital_elevation_model.zip\", 'wb').write(dem_response.content)"
   ]
  },
  {
   "cell_type": "code",
   "execution_count": 9,
   "metadata": {},
   "outputs": [
    {
     "name": "stdout",
     "output_type": "stream",
     "text": [
      "File Name                                             Modified             Size\n",
      "Digital Elevation Model - 30m Resolution.lyr   2011-06-14 11:56:48       140800\n",
      "metadata/metadata.html                         2021-02-24 09:08:54        12251\n",
      "metadata/metadata.xml                          2021-02-24 09:08:50         5308\n",
      "metadata/old/metadata.html.2012_03_06_12_26_44 2012-03-06 12:26:44        28704\n",
      "metadata/old/metadata.html.2012_03_06_12_28_21 2012-03-06 12:28:20        28704\n",
      "metadata/old/metadata.html.2012_03_06_12_30_53 2012-03-06 12:30:52        28704\n",
      "metadata/old/metadata.xml.2012_03_06_12_26_44  2012-03-06 12:26:44         7942\n",
      "metadata/old/metadata.xml.2012_03_06_12_30_53  2012-03-06 12:30:52         7942\n",
      "metadata/old/metadata.xml.2012_03_06_12_28_21  2012-03-06 12:28:20         7942\n",
      "metadata/shdr_clrim3/shdr_clrim3.sgml          2010-06-09 18:00:26         7576\n",
      "metadata/shdr_clrim3/shdr_clrim3.xml           2010-06-09 17:38:16         7600\n",
      "metadata/shdr_clrim3/shdr_clrim3.html          2011-01-27 14:55:20        28106\n",
      "metadata/elev_dem30ra3/metadata.html           2010-06-16 11:46:32        28704\n",
      "metadata/elev_dem30ra3/metadata.xml            2010-06-16 11:46:32         7920\n",
      "metadata/elev_dem30ra3/metadata.sgml           2010-06-16 11:46:32         7896\n",
      "metadata/shdr_bwim3/metadata.html              2011-01-27 14:47:02        27645\n",
      "metadata/shdr_bwim3/metadata.xml               2010-06-09 17:37:24         7103\n",
      "metadata/shdr_bwim3/metadata.sgml              2010-06-09 17:59:34         7079\n",
      "elev_30m_digital_elevation_model.gdb/a0000000e.gdbtable 2011-04-13 13:10:46        18203\n",
      "elev_30m_digital_elevation_model.gdb/a0000000d.gdbtablx 2011-04-13 13:10:46         5152\n",
      "elev_30m_digital_elevation_model.gdb/a00000016.gdbtablx 2011-04-13 15:19:28         5152\n",
      "elev_30m_digital_elevation_model.gdb/a00000010.gdbtable 2011-04-13 15:14:22          224\n",
      "elev_30m_digital_elevation_model.gdb/a0000000e.gdbindexes 2011-04-13 13:10:26           66\n",
      "elev_30m_digital_elevation_model.gdb/a00000006.CatRelTypesByBackwardLabel.atx 2022-08-31 09:21:36        12310\n",
      "elev_30m_digital_elevation_model.gdb/a00000010.gdbindexes 2011-04-13 15:12:46           70\n",
      "elev_30m_digital_elevation_model.gdb/a00000004.gdbtable 2012-01-09 12:56:54       738899\n",
      "elev_30m_digital_elevation_model.gdb/a00000016.gdbtable 2011-04-13 15:19:28         3056\n",
      "elev_30m_digital_elevation_model.gdb/a00000012.gdbtable 2011-04-13 15:14:22    179769639\n",
      "elev_30m_digital_elevation_model.gdb/a00000006.gdbindexes 2011-04-13 13:07:00          602\n",
      "elev_30m_digital_elevation_model.gdb/a00000012.col_index.atx 2011-04-13 15:14:22       348182\n",
      "elev_30m_digital_elevation_model.gdb/a00000007.gdbindexes 2011-04-13 13:07:00          296\n",
      "elev_30m_digital_elevation_model.gdb/a00000017.gdbtablx 2011-04-13 15:19:18       174112\n",
      "elev_30m_digital_elevation_model.gdb/a00000014.gdbindexes 2011-04-13 15:17:02          112\n",
      "elev_30m_digital_elevation_model.gdb/a0000000c.gdbtablx 2011-04-13 13:10:26       107552\n",
      "elev_30m_digital_elevation_model.gdb/a00000004.CatItemsByType.atx 2012-01-09 12:56:54         4118\n",
      "elev_30m_digital_elevation_model.gdb/a00000013.gdbindexes 2011-04-13 15:12:46           86\n",
      "elev_30m_digital_elevation_model.gdb/a00000006.CatRelTypesByOriginItemTypeID.atx 2022-08-31 09:21:36         4118\n",
      "elev_30m_digital_elevation_model.gdb/a00000015.gdbtable 2011-04-13 15:19:18          224\n",
      "elev_30m_digital_elevation_model.gdb/a00000005.FDO_UUID.atx 2012-01-09 12:56:54         4118\n",
      "elev_30m_digital_elevation_model.gdb/a00000007.gdbtable 2022-08-31 09:21:36         2021\n",
      "elev_30m_digital_elevation_model.gdb/a00000011.gdbtable 2011-04-13 15:14:34         3056\n",
      "elev_30m_digital_elevation_model.gdb/a00000009.gdbtablx 2011-04-13 13:10:46         5152\n",
      "elev_30m_digital_elevation_model.gdb/a00000004.gdbindexes 2011-04-13 13:06:58          310\n",
      "elev_30m_digital_elevation_model.gdb/a0000000c.blk_key_index.atx 2011-04-13 13:10:26      2048022\n",
      "elev_30m_digital_elevation_model.gdb/a00000017.blk_key_index.atx 2011-04-13 15:19:18      3407894\n",
      "elev_30m_digital_elevation_model.gdb/a0000000f.gdbtablx 2011-04-13 15:14:34         5152\n",
      "elev_30m_digital_elevation_model.gdb/a00000014.spx 2011-04-13 15:17:02         4118\n",
      "elev_30m_digital_elevation_model.gdb/a00000018.gdbtablx 2011-04-13 15:19:28         5152\n",
      "elev_30m_digital_elevation_model.gdb/a00000012.gdbindexes 2011-04-13 15:12:46          240\n",
      "elev_30m_digital_elevation_model.gdb/a00000004.horizon 2022-08-31 09:21:36           32\n",
      "elev_30m_digital_elevation_model.gdb/a0000000c.col_index.atx 2011-04-13 13:10:26       204822\n",
      "elev_30m_digital_elevation_model.gdb/a00000005.CatRelsByDestinationID.atx 2012-01-09 12:56:54         4118\n",
      "elev_30m_digital_elevation_model.gdb/a00000015.gdbindexes 2011-04-13 15:17:02           70\n",
      "elev_30m_digital_elevation_model.gdb/a00000001.gdbtable 2012-01-09 12:56:54         2279\n",
      "elev_30m_digital_elevation_model.gdb/a00000013.gdbtable 2011-04-13 15:14:34          598\n",
      "elev_30m_digital_elevation_model.gdb/a0000000b.gdbtablx 2011-04-13 13:10:46         5152\n",
      "elev_30m_digital_elevation_model.gdb/a00000007.CatItemTypesByUUID.atx 2022-08-31 09:21:36         4118\n",
      "elev_30m_digital_elevation_model.gdb/a00000003.gdbindexes 2011-04-13 13:06:58           42\n",
      "elev_30m_digital_elevation_model.gdb/a00000017.gdbindexes 2011-04-13 15:17:02          240\n",
      "elev_30m_digital_elevation_model.gdb/a0000000a.gdbindexes 2011-04-13 13:07:46           70\n",
      "elev_30m_digital_elevation_model.gdb/a0000000a.gdbtablx 2012-10-15 12:27:32         5152\n",
      "elev_30m_digital_elevation_model.gdb/a00000007.gdbtablx 2022-08-31 09:21:36         5152\n",
      "elev_30m_digital_elevation_model.gdb/a00000009.horizon 2022-08-31 09:21:36           32\n",
      "elev_30m_digital_elevation_model.gdb/a0000000b.gdbindexes 2011-04-13 13:07:46           66\n",
      "elev_30m_digital_elevation_model.gdb/a00000001.gdbtablx 2012-01-09 12:56:54         5152\n",
      "elev_30m_digital_elevation_model.gdb/a00000001.TablesByName.atx 2012-01-09 12:56:54        36886\n",
      "elev_30m_digital_elevation_model.gdb/a00000006.CatRelTypesByUUID.atx 2022-08-31 09:21:36         4118\n",
      "elev_30m_digital_elevation_model.gdb/a00000011.gdbtablx 2011-04-13 15:14:34         5152\n",
      "elev_30m_digital_elevation_model.gdb/a00000013.gdbtablx 2011-04-13 15:14:34         5152\n",
      "elev_30m_digital_elevation_model.gdb/a00000005.CatRelsByType.atx 2012-01-09 12:56:54         4118\n",
      "elev_30m_digital_elevation_model.gdb/a00000004.gdbtablx 2012-01-09 12:56:54         5152\n",
      "elev_30m_digital_elevation_model.gdb/a00000007.CatItemTypesByName.atx 2022-08-31 09:21:36        12310\n",
      "elev_30m_digital_elevation_model.gdb/a00000004.spx 2012-01-09 12:56:54       389142\n",
      "elev_30m_digital_elevation_model.gdb/a00000005.gdbtable 2012-01-09 12:56:54         6395\n",
      "elev_30m_digital_elevation_model.gdb/a00000016.freelist 2011-04-13 15:19:28         4440\n",
      "elev_30m_digital_elevation_model.gdb/a0000000a.gdbtable 2011-04-13 13:10:26          224\n",
      "elev_30m_digital_elevation_model.gdb/a0000000f.gdbindexes 2011-04-13 15:12:46          112\n",
      "elev_30m_digital_elevation_model.gdb/a00000012.blk_key_index.atx 2011-04-13 15:14:22      3407894\n",
      "elev_30m_digital_elevation_model.gdb/a00000002.gdbtablx 2011-04-13 13:06:58         5152\n",
      "elev_30m_digital_elevation_model.gdb/a00000017.gdbtable 2011-04-13 15:19:18     66078433\n",
      "elev_30m_digital_elevation_model.gdb/a0000000c.gdbtable 2011-04-13 13:10:26    158932473\n",
      "elev_30m_digital_elevation_model.gdb/a00000011.gdbindexes 2011-04-13 15:12:46           66\n",
      "elev_30m_digital_elevation_model.gdb/a00000002.gdbtable 2011-04-13 13:06:58         1456\n",
      "elev_30m_digital_elevation_model.gdb/a00000001.freelist 2012-01-09 12:56:54        16728\n",
      "elev_30m_digital_elevation_model.gdb/a00000004.freelist 2012-01-09 12:56:54        45400\n",
      "elev_30m_digital_elevation_model.gdb/a00000006.CatRelTypesByForwardLabel.atx 2022-08-31 09:21:36        12310\n",
      "elev_30m_digital_elevation_model.gdb/a00000005.gdbtablx 2012-01-09 12:56:54         5152\n",
      "elev_30m_digital_elevation_model.gdb/a0000000d.gdbtable 2011-04-13 13:10:46          598\n",
      "elev_30m_digital_elevation_model.gdb/a00000018.gdbindexes 2011-04-13 15:17:02           86\n",
      "elev_30m_digital_elevation_model.gdb/a00000001.gdbindexes 2011-04-13 13:06:58          110\n",
      "elev_30m_digital_elevation_model.gdb/a0000000e.gdbtablx 2011-04-13 13:10:46        10272\n",
      "elev_30m_digital_elevation_model.gdb/a00000003.gdbtable 2011-10-25 10:19:28         2305\n",
      "elev_30m_digital_elevation_model.gdb/a00000005.freelist 2012-01-09 12:56:54         4440\n",
      "elev_30m_digital_elevation_model.gdb/a00000006.CatRelTypesByDestItemTypeID.atx 2022-08-31 09:21:36         4118\n",
      "elev_30m_digital_elevation_model.gdb/a00000007.CatItemTypesByParentTypeID.atx 2022-08-31 09:21:36         4118\n",
      "elev_30m_digital_elevation_model.gdb/a00000005.CatRelsByOriginID.atx 2012-01-09 12:56:54         4118\n",
      "elev_30m_digital_elevation_model.gdb/a0000000b.freelist 2011-04-13 13:10:46         4440\n",
      "elev_30m_digital_elevation_model.gdb/a00000018.gdbtable 2011-04-13 15:19:28          598\n",
      "elev_30m_digital_elevation_model.gdb/a00000010.gdbtablx 2012-04-19 11:34:44         5152\n",
      "elev_30m_digital_elevation_model.gdb/a0000000d.gdbindexes 2011-04-13 13:07:46           86\n",
      "elev_30m_digital_elevation_model.gdb/a0000000c.row_index.atx 2011-04-13 13:10:26       262166\n",
      "elev_30m_digital_elevation_model.gdb/gdb       2011-04-13 13:07:00            4\n",
      "elev_30m_digital_elevation_model.gdb/a00000005.gdbindexes 2011-04-13 13:07:00          318\n",
      "elev_30m_digital_elevation_model.gdb/a00000016.gdbindexes 2011-04-13 15:17:02           66\n",
      "elev_30m_digital_elevation_model.gdb/a00000003.gdbtablx 2011-10-25 10:19:28         5152\n",
      "elev_30m_digital_elevation_model.gdb/a00000017.row_index.atx 2011-04-13 15:19:18       409622\n",
      "elev_30m_digital_elevation_model.gdb/a0000000f.horizon 2022-08-31 09:21:36           32\n",
      "elev_30m_digital_elevation_model.gdb/a00000009.gdbtable 2011-04-13 13:10:46         2221\n",
      "elev_30m_digital_elevation_model.gdb/timestamps 2022-08-31 09:21:36          400\n",
      "elev_30m_digital_elevation_model.gdb/a00000012.row_index.atx 2011-04-13 15:14:22       409622\n",
      "elev_30m_digital_elevation_model.gdb/a0000000c.gdbindexes 2011-04-13 13:07:46          240\n",
      "elev_30m_digital_elevation_model.gdb/a00000009.spx 2011-04-13 13:07:46         4118\n",
      "elev_30m_digital_elevation_model.gdb/a00000012.gdbtablx 2011-04-13 15:14:22       174112\n",
      "elev_30m_digital_elevation_model.gdb/a00000014.gdbtable 2011-04-13 15:19:28         2265\n",
      "elev_30m_digital_elevation_model.gdb/a00000006.CatRelTypesByName.atx 2022-08-31 09:21:36        12310\n",
      "elev_30m_digital_elevation_model.gdb/a00000009.gdbindexes 2011-04-13 13:07:46          112\n",
      "elev_30m_digital_elevation_model.gdb/a00000014.horizon 2022-08-31 09:21:36           32\n",
      "elev_30m_digital_elevation_model.gdb/a00000015.gdbtablx 2012-10-15 12:23:36         5152\n",
      "elev_30m_digital_elevation_model.gdb/a00000006.gdbtable 2022-08-31 09:21:36         3626\n",
      "elev_30m_digital_elevation_model.gdb/a0000000f.gdbtable 2011-04-13 15:14:34         2265\n",
      "elev_30m_digital_elevation_model.gdb/a00000011.freelist 2011-04-13 15:14:34         4440\n",
      "elev_30m_digital_elevation_model.gdb/a00000006.gdbtablx 2022-08-31 09:21:36         5152\n",
      "elev_30m_digital_elevation_model.gdb/a00000017.col_index.atx 2011-04-13 15:19:18       348182\n",
      "elev_30m_digital_elevation_model.gdb/a00000014.gdbtablx 2011-04-13 15:19:28         5152\n",
      "elev_30m_digital_elevation_model.gdb/a00000004.FDO_UUID.atx 2012-01-09 12:56:54         4118\n",
      "elev_30m_digital_elevation_model.gdb/a0000000b.gdbtable 2011-04-13 13:10:46         2319\n",
      "elev_30m_digital_elevation_model.gdb/a00000004.CatItemsByPhysicalName.atx 2012-01-09 12:56:54        28694\n",
      "elev_30m_digital_elevation_model.gdb/a0000000f.spx 2011-04-13 15:12:46         4118\n",
      "Extracting all files now..\n",
      "Done!\n"
     ]
    }
   ],
   "source": [
    "#unzip file\n",
    "with ZipFile(r\"C:\\Users\\bende287\\Downloads\\fgdb_elev_30m_digital_elevation_model.zip\", 'r') as a:\n",
    "    a.printdir()\n",
    "    \n",
    "    print('Extracting all files now..')\n",
    "    a.extractall(r\"C:\\Users\\bende287\\Downloads\\fgdb_elev_30m_digital_elevation_model\")\n",
    "    print('Done!')"
   ]
  },
  {
   "cell_type": "code",
   "execution_count": 10,
   "metadata": {},
   "outputs": [
    {
     "data": {
      "text/html": [
       "<div class='gpresult'><h2>Messages</h2><div id='messages'>Start Time: Saturday, October 26, 2024 11:34:35 AM<br>No compatible GPU device has been detected.<br>Succeeded at Saturday, October 26, 2024 11:35:10 AM (Elapsed Time: 35.00 seconds)<br></div><div id = 'default' /></div></div>"
      ],
      "text/plain": [
       "<Result 'C:\\\\Users\\\\bende287\\\\Documents\\\\ArcGIS\\\\Projects\\\\MyProject1\\\\MyProject1.gdb\\\\Slope_digita1'>"
      ]
     },
     "execution_count": 10,
     "metadata": {},
     "output_type": "execute_result"
    }
   ],
   "source": [
    "#identify slope from each raster cell\n",
    "arcpy.ddd.Slope(\n",
    "    in_raster=r\"C:\\Users\\bende287\\Downloads\\fgdb_elev_30m_digital_elevation_model\\elev_30m_digital_elevation_model.gdb\\digital_elevation_model_30m\\Band_1\",\n",
    "    out_raster=r\"C:\\Users\\bende287\\Documents\\ArcGIS\\Projects\\MyProject1\\MyProject1.gdb\\Slope_digita1\",\n",
    "    output_measurement=\"DEGREE\",\n",
    "    z_factor=1,\n",
    "    method=\"PLANAR\",\n",
    "    z_unit=\"METER\",\n",
    "    analysis_target_device=\"GPU_THEN_CPU\"\n",
    ")"
   ]
  },
  {
   "cell_type": "code",
   "execution_count": 11,
   "metadata": {
    "scrolled": true
   },
   "outputs": [
    {
     "data": {
      "text/html": [
       "<div class='gpresult'><h2>Messages</h2><div id='messages'>Start Time: Saturday, October 26, 2024 11:35:16 AM<br>Building Pyramids...<br>Succeeded at Saturday, October 26, 2024 11:35:43 AM (Elapsed Time: 26.76 seconds)<br></div><div id = 'default' /></div></div>"
      ],
      "text/plain": [
       "<Result 'C:\\\\Users\\\\bende287\\\\Documents\\\\ArcGIS\\\\Projects\\\\MyProject1\\\\MyProject1.gdb\\\\Slope_digita1_Clip1'>"
      ]
     },
     "execution_count": 11,
     "metadata": {},
     "output_type": "execute_result"
    }
   ],
   "source": [
    "#clip slope layer\n",
    "arcpy.management.Clip(\n",
    "    in_raster=\"Slope_digita1\",\n",
    "    rectangle=\"558788.5 4862723.5 596543.5 4900928.5\",\n",
    "    out_raster=r\"C:\\Users\\bende287\\Documents\\ArcGIS\\Projects\\MyProject1\\MyProject1.gdb\\Slope_digita1_Clip1\",\n",
    "    in_template_dataset=\"landcover_impervious_st_Clip1\",\n",
    "    nodata_value=\"3.4e+38\",\n",
    "    clipping_geometry=\"NONE\",\n",
    "    maintain_clipping_extent=\"NO_MAINTAIN_EXTENT\"\n",
    ")"
   ]
  },
  {
   "cell_type": "code",
   "execution_count": 12,
   "metadata": {},
   "outputs": [
    {
     "data": {
      "text/html": [
       "<div class='gpresult'><h2>Messages</h2><div id='messages'>Start Time: Saturday, October 26, 2024 11:36:15 AM<br>Succeeded at Saturday, October 26, 2024 11:36:41 AM (Elapsed Time: 26.54 seconds)<br></div><div id = 'default' /></div></div>"
      ],
      "text/plain": [
       "<Result 'C:\\\\Users\\\\bende287\\\\Documents\\\\ArcGIS\\\\Projects\\\\MyProject1\\\\MyProject1.gdb\\\\Reclass_Slope'>"
      ]
     },
     "execution_count": 12,
     "metadata": {},
     "output_type": "execute_result"
    }
   ],
   "source": [
    "#reclassify slope layer on a 1-4 scale\n",
    "arcpy.ddd.Reclassify(\n",
    "    in_raster=\"Slope_digita1\",\n",
    "    reclass_field=\"VALUE\",\n",
    "    remap=\"0 8.53 1;8.53 16.700000 2;16.7 30.960000 3;30.96 90 4\",\n",
    "    out_raster=r\"C:\\Users\\bende287\\Documents\\ArcGIS\\Projects\\MyProject1\\MyProject1.gdb\\Reclass_Slope\",\n",
    "    missing_values=\"DATA\"\n",
    ")"
   ]
  },
  {
   "cell_type": "code",
   "execution_count": 13,
   "metadata": {},
   "outputs": [],
   "source": [
    "#reclassify landcover layer on same scale-- called \"out_raster\"\n",
    "with arcpy.EnvManager(scratchWorkspace=r\"C:\\Users\\bende287\\Documents\\ArcGIS\\Projects\\MyProject1\\MyProject1.gdb\"):\n",
    "    out_raster = arcpy.sa.Reclassify(\n",
    "        in_raster=\"landcover_impervious_st_Clip1\",\n",
    "        reclass_field=\"Value\",\n",
    "        remap=\" 0 101 1; 101 104 3; 104 108 2; 109 111 4\",\n",
    "        missing_values=0\n",
    "    )\n",
    "    out_raster.save(r\"C:\\Users\\bende287\\Documents\\ArcGIS\\Projects\\MyProject1\\MyProject1.gdb\\Reclass_landcover1024\")"
   ]
  },
  {
   "cell_type": "code",
   "execution_count": 14,
   "metadata": {},
   "outputs": [],
   "source": [
    "#here i am giving more influence to the landcover layer\n",
    "weightedlandcover = Raster(\"out_raster\")*0.66"
   ]
  },
  {
   "cell_type": "code",
   "execution_count": 15,
   "metadata": {},
   "outputs": [],
   "source": [
    "weightedslope = Raster(\"Reclass_Slope\")*0.34"
   ]
  },
  {
   "cell_type": "code",
   "execution_count": 16,
   "metadata": {},
   "outputs": [],
   "source": [
    "#using map algebra to combine our weighted datasets and create a cost surface to input into optimal region connections\n",
    "combined_datasets = Raster(\"weightedslope\") + Raster(\"weightedlandcover\")"
   ]
  },
  {
   "cell_type": "code",
   "execution_count": 17,
   "metadata": {
    "scrolled": true
   },
   "outputs": [
    {
     "data": {
      "text/html": [
       "<div class='gpresult'><h2>Messages</h2><div id='messages'>Start Time: Saturday, October 26, 2024 11:38:13 AM<br>Optimal Region Connections: Input Features rasterized to C:\\\\Users\\\\bende287\\\\AppData\\\\Local\\\\Temp\\\\ArcGISProTemp5072\\\\{38D0D6D1-0F47-43BE-8ADC-6A41E5217436}50727300.crf.<br>Optimal Region Connections: Allocating analysis area to input regions.<br>Temporary data will be created in C:\\\\Users\\\\bende287\\\\AppData\\\\Local\\\\Temp\\\\ArcGISProTemp5072\\\\sd465560d_947e_447b_93a5_f3b35b62410f<br>39 MB of temporary storage is estimated to be needed. 30,789 MB of storage is currently available.<br>2024-10-26T11:38:29.587: Initialization Phase ...<br>2024-10-26T11:38:29.650: Completion Phase ...<br>39 MB of temporary storage was used.<br>Optimal Region Connections: Connecting regions.<br>Temporary data will be created in C:\\\\Users\\\\bende287\\\\AppData\\\\Local\\\\Temp\\\\ArcGISProTemp5072\\\\sa21fca64_188d_4f78_b4b6_23df388650e2<br>52 MB of temporary storage is estimated to be needed. 30,789 MB of storage is currently available.<br>2024-10-26T11:38:34.910: Initialization Phase ...<br>2024-10-26T11:38:35.216: Completion Phase ...<br>52 MB of temporary storage was used.<br>Succeeded at Saturday, October 26, 2024 11:38:44 AM (Elapsed Time: 30.78 seconds)<br></div><div id = 'default' /></div></div>"
      ],
      "text/plain": [
       "<geoprocessing server result object object at 0x000001D2A6C37240>"
      ]
     },
     "execution_count": 17,
     "metadata": {},
     "output_type": "execute_result"
    }
   ],
   "source": [
    "#this will create a line output connecting our two points, the route will be based on the cost surface\n",
    "arcpy.sa.OptimalRegionConnections(\n",
    "    in_regions=\"Dory\",\n",
    "    out_feature_class=r\"C:\\Users\\bende287\\Documents\\ArcGIS\\Projects\\MyProject1\\MyProject1.gdb\\Optimal_Dory1\",\n",
    "    in_barrier_data=None,\n",
    "    in_cost_raster=\"combined_datasets\",\n",
    "    out_neighbor_paths=None,\n",
    "    distance_method=\"PLANAR\",\n",
    "    connections_within_regions=\"GENERATE_CONNECTIONS\"\n",
    ")"
   ]
  },
  {
   "cell_type": "code",
   "execution_count": 21,
   "metadata": {},
   "outputs": [
    {
     "data": {
      "text/html": [
       "<div class='gpresult'><h2>Messages</h2><div id='messages'>Start Time: Saturday, October 26, 2024 11:59:01 AM<br>Optimal Region Connections: Input Features rasterized to C:\\\\Users\\\\bende287\\\\AppData\\\\Local\\\\Temp\\\\ArcGISProTemp5072\\\\{6A68CD4F-FBD9-44C8-87BB-E48D720F0961}50727300.crf.<br>Optimal Region Connections: Allocating analysis area to input regions.<br>Temporary data will be created in C:\\\\Users\\\\bende287\\\\AppData\\\\Local\\\\Temp\\\\ArcGISProTemp5072\\\\s888b3379_082e_4169_87d4_55a74b16a3b3<br>39 MB of temporary storage is estimated to be needed. 30,853 MB of storage is currently available.<br>2024-10-26T11:59:02.511: Initialization Phase ...<br>2024-10-26T11:59:02.574: Completion Phase ...<br>39 MB of temporary storage was used.<br>Optimal Region Connections: Connecting regions.<br>Temporary data will be created in C:\\\\Users\\\\bende287\\\\AppData\\\\Local\\\\Temp\\\\ArcGISProTemp5072\\\\s4257f983_e490_4a62_88cd_3f5adc9e1122<br>52 MB of temporary storage is estimated to be needed. 30,853 MB of storage is currently available.<br>2024-10-26T11:59:03.761: Initialization Phase ...<br>2024-10-26T11:59:04.065: Completion Phase ...<br>52 MB of temporary storage was used.<br>Succeeded at Saturday, October 26, 2024 11:59:04 AM (Elapsed Time: 3.15 seconds)<br></div><div id = 'default' /></div></div>"
      ],
      "text/plain": [
       "<geoprocessing server result object object at 0x000001D2BC1B57A0>"
      ]
     },
     "execution_count": 21,
     "metadata": {},
     "output_type": "execute_result"
    }
   ],
   "source": [
    "#testing out more weighting schemes for the uncertainty analysis\n",
    "#still giving more importance to land cover layer here \n",
    "weightedlandcover2 = Raster(\"out_raster\")*0.85\n",
    "\n",
    "weightedslope2 = Raster(\"Reclass_Slope\")*0.15\n",
    "\n",
    "#using map algebra to combine our weighted datasets and create a cost surface to input into the optimal region connections function\n",
    "combined_dataset2 = Raster(\"weightedslope2\") + Raster(\"weightedlandcover2\")\n",
    "\n",
    "arcpy.sa.OptimalRegionConnections(\n",
    "    in_regions=\"Dory\",\n",
    "    out_feature_class=r\"C:\\Users\\bende287\\Documents\\ArcGIS\\Projects\\MyProject1\\MyProject1.gdb\\Optimal_Dory2\",\n",
    "    in_barrier_data=None,\n",
    "    in_cost_raster=\"combined_dataset2\",\n",
    "    out_neighbor_paths=None,\n",
    "    distance_method=\"PLANAR\",\n",
    "    connections_within_regions=\"GENERATE_CONNECTIONS\"\n",
    ")"
   ]
  },
  {
   "cell_type": "code",
   "execution_count": 23,
   "metadata": {},
   "outputs": [
    {
     "data": {
      "text/html": [
       "<div class='gpresult'><h2>Messages</h2><div id='messages'>Start Time: Saturday, October 26, 2024 11:59:45 AM<br>Optimal Region Connections: Input Features rasterized to C:\\\\Users\\\\bende287\\\\AppData\\\\Local\\\\Temp\\\\ArcGISProTemp5072\\\\{8EA92D28-2144-4F00-8F01-AA763EDEB00E}50727300.crf.<br>Optimal Region Connections: Allocating analysis area to input regions.<br>Temporary data will be created in C:\\\\Users\\\\bende287\\\\AppData\\\\Local\\\\Temp\\\\ArcGISProTemp5072\\\\se58bc80d_2a9c_4624_ac30_9bf9654d498f<br>39 MB of temporary storage is estimated to be needed. 30,859 MB of storage is currently available.<br>2024-10-26T11:59:46.486: Initialization Phase ...<br>2024-10-26T11:59:46.550: Completion Phase ...<br>39 MB of temporary storage was used.<br>Optimal Region Connections: Connecting regions.<br>Temporary data will be created in C:\\\\Users\\\\bende287\\\\AppData\\\\Local\\\\Temp\\\\ArcGISProTemp5072\\\\s34091564_3033_45a4_8252_999f14d74ac2<br>52 MB of temporary storage is estimated to be needed. 30,859 MB of storage is currently available.<br>2024-10-26T11:59:47.749: Initialization Phase ...<br>2024-10-26T11:59:48.053: Completion Phase ...<br>52 MB of temporary storage was used.<br>Succeeded at Saturday, October 26, 2024 11:59:48 AM (Elapsed Time: 3.12 seconds)<br></div><div id = 'default' /></div></div>"
      ],
      "text/plain": [
       "<geoprocessing server result object object at 0x000001D2BB2BDA10>"
      ]
     },
     "execution_count": 23,
     "metadata": {},
     "output_type": "execute_result"
    }
   ],
   "source": [
    "#testing out more weighting schemes for the uncertainty analysis-- this time giving more importance to slope layer\n",
    "\n",
    "weightedlandcover3 = Raster(\"out_raster\")*0.40\n",
    "\n",
    "weightedslope3 = Raster(\"Reclass_Slope\")*0.60\n",
    "\n",
    "#using map algebra to combine our weighted datasets and create a cost surface to input into the optimal region connections function\n",
    "combined_dataset3 = Raster(\"weightedslope3\") + Raster(\"weightedlandcover3\")\n",
    "\n",
    "arcpy.sa.OptimalRegionConnections(\n",
    "    in_regions=\"Dory\",\n",
    "    out_feature_class=r\"C:\\Users\\bende287\\Documents\\ArcGIS\\Projects\\MyProject1\\MyProject1.gdb\\Optimal_Dory3\",\n",
    "    in_barrier_data=None,\n",
    "    in_cost_raster=\"combined_dataset3\",\n",
    "    out_neighbor_paths=None,\n",
    "    distance_method=\"PLANAR\",\n",
    "    connections_within_regions=\"GENERATE_CONNECTIONS\"\n",
    ")"
   ]
  }
 ],
 "metadata": {
  "kernelspec": {
   "display_name": "ArcGISPro",
   "language": "Python",
   "name": "python3"
  },
  "language_info": {
   "file_extension": ".py",
   "name": "python",
   "version": "3"
  }
 },
 "nbformat": 4,
 "nbformat_minor": 2
}
