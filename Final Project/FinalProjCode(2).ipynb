{
 "cells": [
  {
   "cell_type": "code",
   "execution_count": 5,
   "metadata": {},
   "outputs": [],
   "source": [
    "import io\n",
    "import arcpy\n",
    "import pandas as pd\n",
    "import requests\n",
    "from arcgis.features import GeoAccessor, GeoSeriesAccessor, FeatureSet\n",
    "from arcgis.widgets import MapView\n",
    "from zipfile import ZipFile\n",
    "import os\n",
    "from osgeo import ogr\n",
    "from arcgis.geometry import SpatialReference\n",
    "import sys\n",
    "from arcpy.sa import *\n",
    "import arcpy\n",
    "import numpy as np\n",
    "from arcpy import env"
   ]
  },
  {
   "cell_type": "code",
   "execution_count": 6,
   "metadata": {},
   "outputs": [],
   "source": [
    "from arcgis import GIS\n",
    "gis = GIS()"
   ]
  },
  {
   "cell_type": "code",
   "execution_count": 3,
   "metadata": {},
   "outputs": [],
   "source": [
    "#access transit stop dataset via api\n",
    "transitstops_link = r'https://resources.gisdata.mn.gov/pub/gdrs/data/pub/us_mn_state_metc/trans_transit_stops/shp_trans_transit_stops.zip'\n",
    "\n",
    "stops_response = requests.get(transitstops_link, allow_redirects=True)"
   ]
  },
  {
   "cell_type": "code",
   "execution_count": 4,
   "metadata": {},
   "outputs": [
    {
     "data": {
      "text/plain": [
       "2412933"
      ]
     },
     "execution_count": 4,
     "metadata": {},
     "output_type": "execute_result"
    }
   ],
   "source": [
    "#open a new file and use the dot interface. write to put data in the file\n",
    "open(\"C:\\\\Users\\\\bende287\\Downloads\\\\shp_trans_transit_stops.zip\", 'wb').write(stops_response.content)"
   ]
  },
  {
   "cell_type": "code",
   "execution_count": 5,
   "metadata": {},
   "outputs": [
    {
     "name": "stdout",
     "output_type": "stream",
     "text": [
      "File Name                                             Modified             Size\n",
      "STOP_RouteListByStop.cpg                       2024-12-09 00:10:20            5\n",
      "STOP_RouteListByStop.dbf                       2024-12-09 00:10:20       372546\n",
      "STOP_RouteListByStop.dbf.xml                   2024-12-09 00:10:20         5286\n",
      "TransitStops.cpg                               2024-12-09 00:10:22            5\n",
      "TransitStops.dbf                               2024-12-09 00:10:22     23389979\n",
      "TransitStops.prj                               2024-12-09 00:10:20          424\n",
      "TransitStops.sbn                               2024-12-09 00:10:22       209388\n",
      "TransitStops.sbx                               2024-12-09 00:10:22         5948\n",
      "TransitStops.shp                               2024-12-09 00:10:22       608176\n",
      "TransitStops.shp.xml                           2024-12-09 00:10:22        22609\n",
      "TransitStops.shx                               2024-12-09 00:10:22       173836\n",
      "metadata/metadata.html                         2024-12-07 06:11:04        15533\n",
      "metadata/metadata.xml                          2024-12-07 06:11:04         8565\n",
      "metadata/TransitDatasets_Commons.pdf           2024-12-07 06:11:04       709458\n",
      "Extracting all files now..\n",
      "Done!\n"
     ]
    }
   ],
   "source": [
    "#unzip file\n",
    "with ZipFile(r\"C:\\Users\\bende287\\Downloads\\shp_trans_transit_stops.zip\", 'r') as z:\n",
    "    z.printdir()\n",
    "    \n",
    "    print('Extracting all files now..')\n",
    "    z.extractall(r\"C:\\Users\\bende287\\Downloads\\shp_trans_transit_stops\")\n",
    "    print('Done!')"
   ]
  },
  {
   "cell_type": "code",
   "execution_count": 6,
   "metadata": {},
   "outputs": [
    {
     "data": {
      "text/html": [
       "<div>\n",
       "<style scoped>\n",
       "    .dataframe tbody tr th:only-of-type {\n",
       "        vertical-align: middle;\n",
       "    }\n",
       "\n",
       "    .dataframe tbody tr th {\n",
       "        vertical-align: top;\n",
       "    }\n",
       "\n",
       "    .dataframe thead th {\n",
       "        text-align: right;\n",
       "    }\n",
       "</style>\n",
       "<table border=\"1\" class=\"dataframe\">\n",
       "  <thead>\n",
       "    <tr style=\"text-align: right;\">\n",
       "      <th></th>\n",
       "      <th>FID</th>\n",
       "      <th>site_id</th>\n",
       "      <th>site_on</th>\n",
       "      <th>site_at</th>\n",
       "      <th>corn_desc</th>\n",
       "      <th>CornerNumb</th>\n",
       "      <th>descriptio</th>\n",
       "      <th>city</th>\n",
       "      <th>county</th>\n",
       "      <th>publiccomm</th>\n",
       "      <th>dt_zone</th>\n",
       "      <th>parkride</th>\n",
       "      <th>adaaccess</th>\n",
       "      <th>busstop_yn</th>\n",
       "      <th>node_id</th>\n",
       "      <th>gate</th>\n",
       "      <th>T_Code</th>\n",
       "      <th>UNIQUE_ID</th>\n",
       "      <th>board_flag</th>\n",
       "      <th>alight_fla</th>\n",
       "      <th>active_sta</th>\n",
       "      <th>itinerary_</th>\n",
       "      <th>IsSuspende</th>\n",
       "      <th>route_prov</th>\n",
       "      <th>SHAPE</th>\n",
       "    </tr>\n",
       "  </thead>\n",
       "  <tbody>\n",
       "    <tr>\n",
       "      <th>0</th>\n",
       "      <td>0</td>\n",
       "      <td>34</td>\n",
       "      <td>Chicago Ave S</td>\n",
       "      <td>8th St S</td>\n",
       "      <td>Farside Southbound</td>\n",
       "      <td>5</td>\n",
       "      <td>Chicago Ave S &amp; 8th St S</td>\n",
       "      <td>MINNEAPOLIS</td>\n",
       "      <td>Hennepin</td>\n",
       "      <td></td>\n",
       "      <td>Y</td>\n",
       "      <td>N</td>\n",
       "      <td>Y</td>\n",
       "      <td>Y</td>\n",
       "      <td>8SCH</td>\n",
       "      <td></td>\n",
       "      <td></td>\n",
       "      <td>7A8DD863-8277-4ADC-A0F2-62D491721677</td>\n",
       "      <td>1</td>\n",
       "      <td>1</td>\n",
       "      <td>Active</td>\n",
       "      <td>Y</td>\n",
       "      <td>N</td>\n",
       "      <td>Metro Transit</td>\n",
       "      <td>{\"x\": -93.26242600042944, \"y\": 44.971094999627...</td>\n",
       "    </tr>\n",
       "    <tr>\n",
       "      <th>1</th>\n",
       "      <td>1</td>\n",
       "      <td>36</td>\n",
       "      <td>Chicago Ave S</td>\n",
       "      <td>14th St E</td>\n",
       "      <td>Nearside Southbound</td>\n",
       "      <td>8</td>\n",
       "      <td>Chicago Ave S &amp; 14th St E</td>\n",
       "      <td>MINNEAPOLIS</td>\n",
       "      <td>Hennepin</td>\n",
       "      <td></td>\n",
       "      <td>N</td>\n",
       "      <td>N</td>\n",
       "      <td>Y</td>\n",
       "      <td>N</td>\n",
       "      <td>14CH</td>\n",
       "      <td></td>\n",
       "      <td></td>\n",
       "      <td>6CBC5983-02F5-4CD8-9FB8-607496F5CF0D</td>\n",
       "      <td>0</td>\n",
       "      <td>0</td>\n",
       "      <td>Archive</td>\n",
       "      <td>N</td>\n",
       "      <td>N</td>\n",
       "      <td></td>\n",
       "      <td>{\"x\": -93.262632000329, \"y\": 44.96903899968294...</td>\n",
       "    </tr>\n",
       "    <tr>\n",
       "      <th>2</th>\n",
       "      <td>2</td>\n",
       "      <td>37</td>\n",
       "      <td>Chicago Ave S</td>\n",
       "      <td>15th St E</td>\n",
       "      <td>Nearside Southbound</td>\n",
       "      <td>8</td>\n",
       "      <td>Chicago Ave S &amp; 15th St E</td>\n",
       "      <td>MINNEAPOLIS</td>\n",
       "      <td>Hennepin</td>\n",
       "      <td></td>\n",
       "      <td>N</td>\n",
       "      <td>N</td>\n",
       "      <td>Y</td>\n",
       "      <td>Y</td>\n",
       "      <td></td>\n",
       "      <td></td>\n",
       "      <td></td>\n",
       "      <td>CBBD7A82-964E-412C-8F30-744EFBDCA66E</td>\n",
       "      <td>1</td>\n",
       "      <td>1</td>\n",
       "      <td>Active</td>\n",
       "      <td>Y</td>\n",
       "      <td>N</td>\n",
       "      <td>Metro Transit</td>\n",
       "      <td>{\"x\": -93.26263400006296, \"y\": 44.968187000189...</td>\n",
       "    </tr>\n",
       "    <tr>\n",
       "      <th>3</th>\n",
       "      <td>3</td>\n",
       "      <td>39</td>\n",
       "      <td>Chicago Ave S</td>\n",
       "      <td>17th St E</td>\n",
       "      <td>Nearside Southbound</td>\n",
       "      <td>8</td>\n",
       "      <td>Chicago Ave S &amp; 17th St E</td>\n",
       "      <td>MINNEAPOLIS</td>\n",
       "      <td>Hennepin</td>\n",
       "      <td></td>\n",
       "      <td>N</td>\n",
       "      <td>N</td>\n",
       "      <td>Y</td>\n",
       "      <td>Y</td>\n",
       "      <td></td>\n",
       "      <td></td>\n",
       "      <td></td>\n",
       "      <td>5CB2F36C-C1A1-4FDE-82FC-581DB8D9D6D5</td>\n",
       "      <td>1</td>\n",
       "      <td>1</td>\n",
       "      <td>Active</td>\n",
       "      <td>Y</td>\n",
       "      <td>N</td>\n",
       "      <td>Metro Transit</td>\n",
       "      <td>{\"x\": -93.26264099983634, \"y\": 44.966423000214...</td>\n",
       "    </tr>\n",
       "    <tr>\n",
       "      <th>4</th>\n",
       "      <td>4</td>\n",
       "      <td>40</td>\n",
       "      <td>Chicago Ave S</td>\n",
       "      <td>18th St E</td>\n",
       "      <td>Farside Southbound</td>\n",
       "      <td>5</td>\n",
       "      <td>Chicago Ave S &amp; 18th St E</td>\n",
       "      <td>MINNEAPOLIS</td>\n",
       "      <td>Hennepin</td>\n",
       "      <td></td>\n",
       "      <td>N</td>\n",
       "      <td>N</td>\n",
       "      <td>Y</td>\n",
       "      <td>Y</td>\n",
       "      <td></td>\n",
       "      <td></td>\n",
       "      <td></td>\n",
       "      <td>BDBC2BB1-1C23-46EC-B0A3-A502D94BC719</td>\n",
       "      <td>1</td>\n",
       "      <td>1</td>\n",
       "      <td>Active</td>\n",
       "      <td>Y</td>\n",
       "      <td>N</td>\n",
       "      <td>Metro Transit</td>\n",
       "      <td>{\"x\": -93.26263800011066, \"y\": 44.964945000415...</td>\n",
       "    </tr>\n",
       "    <tr>\n",
       "      <th>...</th>\n",
       "      <td>...</td>\n",
       "      <td>...</td>\n",
       "      <td>...</td>\n",
       "      <td>...</td>\n",
       "      <td>...</td>\n",
       "      <td>...</td>\n",
       "      <td>...</td>\n",
       "      <td>...</td>\n",
       "      <td>...</td>\n",
       "      <td>...</td>\n",
       "      <td>...</td>\n",
       "      <td>...</td>\n",
       "      <td>...</td>\n",
       "      <td>...</td>\n",
       "      <td>...</td>\n",
       "      <td>...</td>\n",
       "      <td>...</td>\n",
       "      <td>...</td>\n",
       "      <td>...</td>\n",
       "      <td>...</td>\n",
       "      <td>...</td>\n",
       "      <td>...</td>\n",
       "      <td>...</td>\n",
       "      <td>...</td>\n",
       "      <td>...</td>\n",
       "    </tr>\n",
       "    <tr>\n",
       "      <th>21712</th>\n",
       "      <td>21712</td>\n",
       "      <td>90371</td>\n",
       "      <td>Highway 10</td>\n",
       "      <td>Approaching Big Lake Station</td>\n",
       "      <td>Nearside Eastbound</td>\n",
       "      <td>6</td>\n",
       "      <td>Hwy 10 and County Rd 43 Control Pt</td>\n",
       "      <td>BIG LAKE</td>\n",
       "      <td>Sherburne</td>\n",
       "      <td>Control point - no stop</td>\n",
       "      <td>N</td>\n",
       "      <td>N</td>\n",
       "      <td>N</td>\n",
       "      <td>N</td>\n",
       "      <td></td>\n",
       "      <td></td>\n",
       "      <td></td>\n",
       "      <td>D42980B4-4D80-4D87-B5FA-F1AFECB359DD</td>\n",
       "      <td>0</td>\n",
       "      <td>0</td>\n",
       "      <td>Active</td>\n",
       "      <td>Y</td>\n",
       "      <td>N</td>\n",
       "      <td>St Cloud Metro Bus</td>\n",
       "      <td>{\"x\": -93.73190600028269, \"y\": 45.332255999560...</td>\n",
       "    </tr>\n",
       "    <tr>\n",
       "      <th>21713</th>\n",
       "      <td>21713</td>\n",
       "      <td>90372</td>\n",
       "      <td>171st Avenue Northwest</td>\n",
       "      <td>Approaching Elk River Station</td>\n",
       "      <td>Farside Eastbound</td>\n",
       "      <td>3</td>\n",
       "      <td>171st Ave NW and Hwy 10 Control Pt</td>\n",
       "      <td>ELK RIVER</td>\n",
       "      <td>Sherburne</td>\n",
       "      <td>Control point - no stop</td>\n",
       "      <td>N</td>\n",
       "      <td>N</td>\n",
       "      <td>N</td>\n",
       "      <td>N</td>\n",
       "      <td></td>\n",
       "      <td></td>\n",
       "      <td></td>\n",
       "      <td>136A6CC5-488B-4E52-9963-E76A88A4FC9D</td>\n",
       "      <td>0</td>\n",
       "      <td>0</td>\n",
       "      <td>Active</td>\n",
       "      <td>N</td>\n",
       "      <td>N</td>\n",
       "      <td></td>\n",
       "      <td>{\"x\": -93.54887900059705, \"y\": 45.281455999651...</td>\n",
       "    </tr>\n",
       "    <tr>\n",
       "      <th>21714</th>\n",
       "      <td>21714</td>\n",
       "      <td>90373</td>\n",
       "      <td>Interstate 394</td>\n",
       "      <td>Approaching 12th Street - Downtown Minneapolis</td>\n",
       "      <td>Midblock Eastbound</td>\n",
       "      <td>10</td>\n",
       "      <td>I-394 to 12th St Exit Control Pt</td>\n",
       "      <td>MINNEAPOLIS</td>\n",
       "      <td>Hennepin</td>\n",
       "      <td>Control point - no stop</td>\n",
       "      <td>N</td>\n",
       "      <td>N</td>\n",
       "      <td>N</td>\n",
       "      <td>N</td>\n",
       "      <td></td>\n",
       "      <td></td>\n",
       "      <td></td>\n",
       "      <td>CC52E289-5113-41EE-A5D3-20712CE58D45</td>\n",
       "      <td>0</td>\n",
       "      <td>0</td>\n",
       "      <td>Active</td>\n",
       "      <td>N</td>\n",
       "      <td>N</td>\n",
       "      <td></td>\n",
       "      <td>{\"x\": -93.28664300048878, \"y\": 44.974962000101...</td>\n",
       "    </tr>\n",
       "    <tr>\n",
       "      <th>21715</th>\n",
       "      <td>21715</td>\n",
       "      <td>90374</td>\n",
       "      <td>Century Ave and I-94 Exit Control Point</td>\n",
       "      <td>Century Ave and I-94 Exit Control Point</td>\n",
       "      <td>Nearside Eastbound</td>\n",
       "      <td>6</td>\n",
       "      <td>Century Ave and I-94 Exit Control Pt</td>\n",
       "      <td>MAPLEWOOD</td>\n",
       "      <td>Ramsey</td>\n",
       "      <td>Control point - no stop</td>\n",
       "      <td>N</td>\n",
       "      <td>N</td>\n",
       "      <td>N</td>\n",
       "      <td>N</td>\n",
       "      <td></td>\n",
       "      <td></td>\n",
       "      <td></td>\n",
       "      <td>5351E352-7480-4844-A09B-127AC4E83F09</td>\n",
       "      <td>0</td>\n",
       "      <td>0</td>\n",
       "      <td>Active</td>\n",
       "      <td>N</td>\n",
       "      <td>N</td>\n",
       "      <td></td>\n",
       "      <td>{\"x\": -92.98578399994945, \"y\": 44.947617000401...</td>\n",
       "    </tr>\n",
       "    <tr>\n",
       "      <th>21716</th>\n",
       "      <td>21716</td>\n",
       "      <td>90375</td>\n",
       "      <td>Valley Creek Road and Century Control Point</td>\n",
       "      <td>Valley Creek Road and Century Control Point</td>\n",
       "      <td>Farside Eastbound</td>\n",
       "      <td>3</td>\n",
       "      <td>Valley Creek Road and Century Control Pt</td>\n",
       "      <td>WOODBURY</td>\n",
       "      <td>Ramsey</td>\n",
       "      <td>Control point - no stop</td>\n",
       "      <td>N</td>\n",
       "      <td>N</td>\n",
       "      <td>N</td>\n",
       "      <td>N</td>\n",
       "      <td></td>\n",
       "      <td></td>\n",
       "      <td></td>\n",
       "      <td>9F5859FC-82AD-43AD-9830-98C0BE411974</td>\n",
       "      <td>0</td>\n",
       "      <td>0</td>\n",
       "      <td>Active</td>\n",
       "      <td>N</td>\n",
       "      <td>N</td>\n",
       "      <td></td>\n",
       "      <td>{\"x\": -92.98432200042865, \"y\": 44.927749999632...</td>\n",
       "    </tr>\n",
       "  </tbody>\n",
       "</table>\n",
       "<p>21717 rows × 25 columns</p>\n",
       "</div>"
      ],
      "text/plain": [
       "         FID  ...                                              SHAPE\n",
       "0          0  ...  {\"x\": -93.26242600042944, \"y\": 44.971094999627...\n",
       "1          1  ...  {\"x\": -93.262632000329, \"y\": 44.96903899968294...\n",
       "2          2  ...  {\"x\": -93.26263400006296, \"y\": 44.968187000189...\n",
       "3          3  ...  {\"x\": -93.26264099983634, \"y\": 44.966423000214...\n",
       "4          4  ...  {\"x\": -93.26263800011066, \"y\": 44.964945000415...\n",
       "...      ...  ...                                                ...\n",
       "21712  21712  ...  {\"x\": -93.73190600028269, \"y\": 45.332255999560...\n",
       "21713  21713  ...  {\"x\": -93.54887900059705, \"y\": 45.281455999651...\n",
       "21714  21714  ...  {\"x\": -93.28664300048878, \"y\": 44.974962000101...\n",
       "21715  21715  ...  {\"x\": -92.98578399994945, \"y\": 44.947617000401...\n",
       "21716  21716  ...  {\"x\": -92.98432200042865, \"y\": 44.927749999632...\n",
       "\n",
       "[21717 rows x 25 columns]"
      ]
     },
     "execution_count": 6,
     "metadata": {},
     "output_type": "execute_result"
    }
   ],
   "source": [
    "# make it a spatially enabled df\n",
    "df_stops = pd.DataFrame.spatial.from_featureclass(r\"C:\\Users\\bende287\\Downloads\\shp_trans_transit_stops\\TransitStops.shp\")\n",
    "#transform the projection \n",
    "df_stops.spatial.project(SpatialReference(4326))\n",
    "\n",
    "df_stops"
   ]
  },
  {
   "cell_type": "code",
   "execution_count": 7,
   "metadata": {},
   "outputs": [],
   "source": [
    "#access hennepin county boundary to clip other layers to \n",
    "hennepinboundary_link = r\"https://gis.hennepin.us/arcgis/rest/services/HennepinData/BOUNDARIES/MapServer/1/query?where=1%3D1&f=json\"\n",
    "\n",
    "bdry_response = requests.get(hennepinboundary_link, stream=True).json()"
   ]
  },
  {
   "cell_type": "code",
   "execution_count": 8,
   "metadata": {},
   "outputs": [
    {
     "data": {
      "text/plain": [
       "<class 'dict'>"
      ]
     },
     "execution_count": 8,
     "metadata": {},
     "output_type": "execute_result"
    }
   ],
   "source": [
    "type(bdry_response)"
   ]
  },
  {
   "cell_type": "code",
   "execution_count": 9,
   "metadata": {},
   "outputs": [
    {
     "data": {
      "text/html": [
       "<div>\n",
       "<style scoped>\n",
       "    .dataframe tbody tr th:only-of-type {\n",
       "        vertical-align: middle;\n",
       "    }\n",
       "\n",
       "    .dataframe tbody tr th {\n",
       "        vertical-align: top;\n",
       "    }\n",
       "\n",
       "    .dataframe thead th {\n",
       "        text-align: right;\n",
       "    }\n",
       "</style>\n",
       "<table border=\"1\" class=\"dataframe\">\n",
       "  <thead>\n",
       "    <tr style=\"text-align: right;\">\n",
       "      <th></th>\n",
       "      <th>NAME_TXT</th>\n",
       "      <th>OBJECTID</th>\n",
       "      <th>SHAPE</th>\n",
       "    </tr>\n",
       "  </thead>\n",
       "  <tbody>\n",
       "    <tr>\n",
       "      <th>0</th>\n",
       "      <td>HENNEPIN COUNTY</td>\n",
       "      <td>1</td>\n",
       "      <td>{\"rings\": [[[459137.16889999993, 5010412.97660...</td>\n",
       "    </tr>\n",
       "  </tbody>\n",
       "</table>\n",
       "</div>"
      ],
      "text/plain": [
       "          NAME_TXT  OBJECTID                                              SHAPE\n",
       "0  HENNEPIN COUNTY         1  {\"rings\": [[[459137.16889999993, 5010412.97660..."
      ]
     },
     "execution_count": 9,
     "metadata": {},
     "output_type": "execute_result"
    }
   ],
   "source": [
    "#going from dictionary to feature set here\n",
    "fs = FeatureSet.from_dict(bdry_response)\n",
    "\n",
    "bdry_fs = fs.sdf\n",
    "bdry_fs\n",
    "\n",
    "#making sure to maintain the same projection throughout-- transforming to WGS 84\n",
    "#arc_rest.spatial.project(SpatialReference(4326))\n",
    "#arc_rest"
   ]
  },
  {
   "cell_type": "code",
   "execution_count": 10,
   "metadata": {},
   "outputs": [
    {
     "data": {
      "text/plain": [
       "<class 'dict'>"
      ]
     },
     "execution_count": 10,
     "metadata": {},
     "output_type": "execute_result"
    }
   ],
   "source": [
    "#bike and pedestrian system layer\n",
    "bikeandpeds_link = r\"https://gis.hennepin.us/arcgis/rest/services/HennepinData/TRANSPORTATION/MapServer/1/query?where=1%3D1&f=json\"\n",
    "\n",
    "bikeandpeds_response = requests.get(bikeandpeds_link, stream=True).json()\n",
    "\n",
    "type(bikeandpeds_response)"
   ]
  },
  {
   "cell_type": "code",
   "execution_count": 11,
   "metadata": {},
   "outputs": [
    {
     "data": {
      "text/html": [
       "<div>\n",
       "<style scoped>\n",
       "    .dataframe tbody tr th:only-of-type {\n",
       "        vertical-align: middle;\n",
       "    }\n",
       "\n",
       "    .dataframe tbody tr th {\n",
       "        vertical-align: top;\n",
       "    }\n",
       "\n",
       "    .dataframe thead th {\n",
       "        text-align: right;\n",
       "    }\n",
       "</style>\n",
       "<table border=\"1\" class=\"dataframe\">\n",
       "  <thead>\n",
       "    <tr style=\"text-align: right;\">\n",
       "      <th></th>\n",
       "      <th>TRAILNAME</th>\n",
       "      <th>OBJECTID</th>\n",
       "      <th>SHAPE</th>\n",
       "    </tr>\n",
       "  </thead>\n",
       "  <tbody>\n",
       "    <tr>\n",
       "      <th>0</th>\n",
       "      <td>&lt;NA&gt;</td>\n",
       "      <td>1</td>\n",
       "      <td>{\"paths\": [[[458854.48649999965, 4963932.01380...</td>\n",
       "    </tr>\n",
       "    <tr>\n",
       "      <th>1</th>\n",
       "      <td>&lt;NA&gt;</td>\n",
       "      <td>2</td>\n",
       "      <td>{\"paths\": [[[458886.23950000014, 4963936.6953]...</td>\n",
       "    </tr>\n",
       "    <tr>\n",
       "      <th>2</th>\n",
       "      <td>&lt;NA&gt;</td>\n",
       "      <td>3</td>\n",
       "      <td>{\"paths\": [[[458923.60780000035, 4963943.7355]...</td>\n",
       "    </tr>\n",
       "    <tr>\n",
       "      <th>3</th>\n",
       "      <td>&lt;NA&gt;</td>\n",
       "      <td>4</td>\n",
       "      <td>{\"paths\": [[[459306.29590000026, 4964213.52899...</td>\n",
       "    </tr>\n",
       "    <tr>\n",
       "      <th>4</th>\n",
       "      <td>&lt;NA&gt;</td>\n",
       "      <td>5</td>\n",
       "      <td>{\"paths\": [[[472044.51159999985, 4961658.24640...</td>\n",
       "    </tr>\n",
       "    <tr>\n",
       "      <th>...</th>\n",
       "      <td>...</td>\n",
       "      <td>...</td>\n",
       "      <td>...</td>\n",
       "    </tr>\n",
       "    <tr>\n",
       "      <th>1995</th>\n",
       "      <td>&lt;NA&gt;</td>\n",
       "      <td>1996</td>\n",
       "      <td>{\"paths\": [[[457367.9462000001, 5000558.634299...</td>\n",
       "    </tr>\n",
       "    <tr>\n",
       "      <th>1996</th>\n",
       "      <td>&lt;NA&gt;</td>\n",
       "      <td>1997</td>\n",
       "      <td>{\"paths\": [[[457358.34300000034, 5000067.23740...</td>\n",
       "    </tr>\n",
       "    <tr>\n",
       "      <th>1997</th>\n",
       "      <td>&lt;NA&gt;</td>\n",
       "      <td>1998</td>\n",
       "      <td>{\"paths\": [[[457394.80229999963, 5002058.5033]...</td>\n",
       "    </tr>\n",
       "    <tr>\n",
       "      <th>1998</th>\n",
       "      <td>&lt;NA&gt;</td>\n",
       "      <td>1999</td>\n",
       "      <td>{\"paths\": [[[457392.1763000004, 5001612.020400...</td>\n",
       "    </tr>\n",
       "    <tr>\n",
       "      <th>1999</th>\n",
       "      <td>&lt;NA&gt;</td>\n",
       "      <td>2000</td>\n",
       "      <td>{\"paths\": [[[457396.4331, 5002260.3028], [4573...</td>\n",
       "    </tr>\n",
       "  </tbody>\n",
       "</table>\n",
       "<p>2000 rows × 3 columns</p>\n",
       "</div>"
      ],
      "text/plain": [
       "     TRAILNAME  OBJECTID                                              SHAPE\n",
       "0         <NA>         1  {\"paths\": [[[458854.48649999965, 4963932.01380...\n",
       "1         <NA>         2  {\"paths\": [[[458886.23950000014, 4963936.6953]...\n",
       "2         <NA>         3  {\"paths\": [[[458923.60780000035, 4963943.7355]...\n",
       "3         <NA>         4  {\"paths\": [[[459306.29590000026, 4964213.52899...\n",
       "4         <NA>         5  {\"paths\": [[[472044.51159999985, 4961658.24640...\n",
       "...        ...       ...                                                ...\n",
       "1995      <NA>      1996  {\"paths\": [[[457367.9462000001, 5000558.634299...\n",
       "1996      <NA>      1997  {\"paths\": [[[457358.34300000034, 5000067.23740...\n",
       "1997      <NA>      1998  {\"paths\": [[[457394.80229999963, 5002058.5033]...\n",
       "1998      <NA>      1999  {\"paths\": [[[457392.1763000004, 5001612.020400...\n",
       "1999      <NA>      2000  {\"paths\": [[[457396.4331, 5002260.3028], [4573...\n",
       "\n",
       "[2000 rows x 3 columns]"
      ]
     },
     "execution_count": 11,
     "metadata": {},
     "output_type": "execute_result"
    }
   ],
   "source": [
    "#going from dictionary to feature set here\n",
    "fs2 = FeatureSet.from_dict(bikeandpeds_response)\n",
    "\n",
    "bikeandpeds_fs = fs2.sdf\n",
    "bikeandpeds_fs\n"
   ]
  },
  {
   "cell_type": "code",
   "execution_count": 12,
   "metadata": {},
   "outputs": [
    {
     "data": {
      "text/plain": [
       "<class 'dict'>"
      ]
     },
     "execution_count": 12,
     "metadata": {},
     "output_type": "execute_result"
    }
   ],
   "source": [
    "#Parcel dataset that will eventually be joined to the land for sale data.\n",
    "parcel_link = r'https://gis.hennepin.us/arcgis/rest/services/HennepinData/LAND_PROPERTY/MapServer/1/query?where=1%3D1%20AND%201%3D1&f=json'\n",
    "\n",
    "parcel_response = requests.get(parcel_link, stream=True).json()\n",
    "\n",
    "type(parcel_response)"
   ]
  },
  {
   "cell_type": "code",
   "execution_count": 13,
   "metadata": {},
   "outputs": [
    {
     "data": {
      "text/html": [
       "<div>\n",
       "<style scoped>\n",
       "    .dataframe tbody tr th:only-of-type {\n",
       "        vertical-align: middle;\n",
       "    }\n",
       "\n",
       "    .dataframe tbody tr th {\n",
       "        vertical-align: top;\n",
       "    }\n",
       "\n",
       "    .dataframe thead th {\n",
       "        text-align: right;\n",
       "    }\n",
       "</style>\n",
       "<table border=\"1\" class=\"dataframe\">\n",
       "  <thead>\n",
       "    <tr style=\"text-align: right;\">\n",
       "      <th></th>\n",
       "      <th>SALE_CODE_NAME</th>\n",
       "      <th>OBJECTID</th>\n",
       "      <th>SHAPE</th>\n",
       "    </tr>\n",
       "  </thead>\n",
       "  <tbody>\n",
       "    <tr>\n",
       "      <th>0</th>\n",
       "      <td>WARRANTY DEED</td>\n",
       "      <td>1</td>\n",
       "      <td>{\"rings\": [[[481758.6118999999, 4967622.9012],...</td>\n",
       "    </tr>\n",
       "    <tr>\n",
       "      <th>1</th>\n",
       "      <td></td>\n",
       "      <td>2</td>\n",
       "      <td>{\"rings\": [[[481827.7642000001, 4967621.761100...</td>\n",
       "    </tr>\n",
       "    <tr>\n",
       "      <th>2</th>\n",
       "      <td>EXCLUDED FROM RATIO STUDIES</td>\n",
       "      <td>3</td>\n",
       "      <td>{\"rings\": [[[481827.44710000046, 4967582.15430...</td>\n",
       "    </tr>\n",
       "    <tr>\n",
       "      <th>3</th>\n",
       "      <td></td>\n",
       "      <td>4</td>\n",
       "      <td>{\"rings\": [[[481799.1160000013, 4967582.621400...</td>\n",
       "    </tr>\n",
       "    <tr>\n",
       "      <th>4</th>\n",
       "      <td></td>\n",
       "      <td>5</td>\n",
       "      <td>{\"rings\": [[[482035.27010000125, 4967618.3399]...</td>\n",
       "    </tr>\n",
       "    <tr>\n",
       "      <th>...</th>\n",
       "      <td>...</td>\n",
       "      <td>...</td>\n",
       "      <td>...</td>\n",
       "    </tr>\n",
       "    <tr>\n",
       "      <th>1995</th>\n",
       "      <td>WARRANTY DEED</td>\n",
       "      <td>1996</td>\n",
       "      <td>{\"rings\": [[[482004.89219999965, 4976424.7015]...</td>\n",
       "    </tr>\n",
       "    <tr>\n",
       "      <th>1996</th>\n",
       "      <td>OTHER – SEE CERTIFICATE OF REAL ESTATE VALUE (...</td>\n",
       "      <td>1997</td>\n",
       "      <td>{\"rings\": [[[482010.4545000009, 4976413.867699...</td>\n",
       "    </tr>\n",
       "    <tr>\n",
       "      <th>1997</th>\n",
       "      <td>WARRANTY DEED</td>\n",
       "      <td>1998</td>\n",
       "      <td>{\"rings\": [[[481912.8088999996, 4976443.9617],...</td>\n",
       "    </tr>\n",
       "    <tr>\n",
       "      <th>1998</th>\n",
       "      <td></td>\n",
       "      <td>1999</td>\n",
       "      <td>{\"rings\": [[[481892.46570000146, 4976433.5561]...</td>\n",
       "    </tr>\n",
       "    <tr>\n",
       "      <th>1999</th>\n",
       "      <td>WARRANTY DEED</td>\n",
       "      <td>2000</td>\n",
       "      <td>{\"rings\": [[[481923.9386, 4976422.284600003], ...</td>\n",
       "    </tr>\n",
       "  </tbody>\n",
       "</table>\n",
       "<p>2000 rows × 3 columns</p>\n",
       "</div>"
      ],
      "text/plain": [
       "                                         SALE_CODE_NAME  ...                                              SHAPE\n",
       "0                                         WARRANTY DEED  ...  {\"rings\": [[[481758.6118999999, 4967622.9012],...\n",
       "1                                                        ...  {\"rings\": [[[481827.7642000001, 4967621.761100...\n",
       "2                           EXCLUDED FROM RATIO STUDIES  ...  {\"rings\": [[[481827.44710000046, 4967582.15430...\n",
       "3                                                        ...  {\"rings\": [[[481799.1160000013, 4967582.621400...\n",
       "4                                                        ...  {\"rings\": [[[482035.27010000125, 4967618.3399]...\n",
       "...                                                 ...  ...                                                ...\n",
       "1995                                      WARRANTY DEED  ...  {\"rings\": [[[482004.89219999965, 4976424.7015]...\n",
       "1996  OTHER – SEE CERTIFICATE OF REAL ESTATE VALUE (...  ...  {\"rings\": [[[482010.4545000009, 4976413.867699...\n",
       "1997                                      WARRANTY DEED  ...  {\"rings\": [[[481912.8088999996, 4976443.9617],...\n",
       "1998                                                     ...  {\"rings\": [[[481892.46570000146, 4976433.5561]...\n",
       "1999                                      WARRANTY DEED  ...  {\"rings\": [[[481923.9386, 4976422.284600003], ...\n",
       "\n",
       "[2000 rows x 3 columns]"
      ]
     },
     "execution_count": 13,
     "metadata": {},
     "output_type": "execute_result"
    }
   ],
   "source": [
    "#going from dictionary to feature set here\n",
    "fs3 = FeatureSet.from_dict(parcel_response)\n",
    "\n",
    "parcel_fs = fs3.sdf\n",
    "parcel_fs\n"
   ]
  },
  {
   "cell_type": "code",
   "execution_count": 14,
   "metadata": {},
   "outputs": [],
   "source": [
    "parks_URL = r'https://resources.gisdata.mn.gov/pub/gdrs/data/pub/us_mn_state_metrogis/bdry_metro_colabtiv_parks/shp_bdry_metro_colabtiv_parks.zip'\n",
    "\n",
    "parks_response = requests.get(parks_URL, allow_redirects=True)"
   ]
  },
  {
   "cell_type": "code",
   "execution_count": 15,
   "metadata": {},
   "outputs": [
    {
     "data": {
      "text/plain": [
       "5525043"
      ]
     },
     "execution_count": 15,
     "metadata": {},
     "output_type": "execute_result"
    }
   ],
   "source": [
    "#open a new file and use the dot interface. write to put data in the file\n",
    "open(\"C:\\\\Users\\\\bende287\\Downloads\\\\shp_bdry_metro_colabtiv_parks.zip\", 'wb').write(parks_response.content)"
   ]
  },
  {
   "cell_type": "code",
   "execution_count": 16,
   "metadata": {},
   "outputs": [
    {
     "name": "stdout",
     "output_type": "stream",
     "text": [
      "File Name                                             Modified             Size\n",
      "MetroCollaborativeParks.cpg                    2024-09-23 17:59:50            5\n",
      "MetroCollaborativeParks.dbf                    2024-09-23 17:59:50     12172519\n",
      "MetroCollaborativeParks.prj                    2024-09-23 17:59:50          424\n",
      "MetroCollaborativeParks.sbn                    2024-09-23 17:59:50        37308\n",
      "MetroCollaborativeParks.sbx                    2024-09-23 17:59:50         2404\n",
      "MetroCollaborativeParks.shp                    2024-09-23 17:59:50      8507476\n",
      "MetroCollaborativeParks.shp.xml                2024-09-23 17:59:50        77943\n",
      "MetroCollaborativeParks.shx                    2024-09-23 17:59:50        31020\n",
      "metadata/metadata.html                         2024-08-06 16:11:02        13462\n",
      "metadata/metadata.xml                          2024-08-06 16:11:02         6542\n",
      "Extracting all files now..\n",
      "Done!\n"
     ]
    }
   ],
   "source": [
    "#unzip file\n",
    "with ZipFile(r\"C:\\Users\\bende287\\Downloads\\shp_bdry_metro_colabtiv_parks.zip\", 'r') as c:\n",
    "    c.printdir()\n",
    "    \n",
    "    print('Extracting all files now..')\n",
    "    c.extractall(r\"C:\\Users\\bende287\\Downloads\\shp_bdry_metro_colabtiv_parks\")\n",
    "    print('Done!')"
   ]
  },
  {
   "cell_type": "code",
   "execution_count": 17,
   "metadata": {},
   "outputs": [
    {
     "data": {
      "text/html": [
       "<div>\n",
       "<style scoped>\n",
       "    .dataframe tbody tr th:only-of-type {\n",
       "        vertical-align: middle;\n",
       "    }\n",
       "\n",
       "    .dataframe tbody tr th {\n",
       "        vertical-align: top;\n",
       "    }\n",
       "\n",
       "    .dataframe thead th {\n",
       "        text-align: right;\n",
       "    }\n",
       "</style>\n",
       "<table border=\"1\" class=\"dataframe\">\n",
       "  <thead>\n",
       "    <tr style=\"text-align: right;\">\n",
       "      <th></th>\n",
       "      <th>FID</th>\n",
       "      <th>PARKID</th>\n",
       "      <th>PARKNAME</th>\n",
       "      <th>NAME_ALT</th>\n",
       "      <th>PARK_ADDR</th>\n",
       "      <th>CITY_MUNI</th>\n",
       "      <th>COUNTY</th>\n",
       "      <th>STATE</th>\n",
       "      <th>PARKSTATUS</th>\n",
       "      <th>WINTER_STS</th>\n",
       "      <th>FUNC_TYPE</th>\n",
       "      <th>LANDOWNER</th>\n",
       "      <th>OWNERTYPE</th>\n",
       "      <th>AGENCYNAME</th>\n",
       "      <th>AGENCYTYPE</th>\n",
       "      <th>YEAROPEN</th>\n",
       "      <th>LANDCOVER</th>\n",
       "      <th>WATERACRES</th>\n",
       "      <th>LAND_ACRES</th>\n",
       "      <th>PARK_ACRES</th>\n",
       "      <th>PLND_ACRES</th>\n",
       "      <th>TRL_MILES</th>\n",
       "      <th>ACQSOURCE</th>\n",
       "      <th>ACQMETHOD</th>\n",
       "      <th>ACQCOMMENT</th>\n",
       "      <th>DEVSOURCE</th>\n",
       "      <th>DEVCOMMENT</th>\n",
       "      <th>RESTRICTS</th>\n",
       "      <th>LWCFPROT</th>\n",
       "      <th>OTHERPROT</th>\n",
       "      <th>RESPRTCMNT</th>\n",
       "      <th>SERVICAREA</th>\n",
       "      <th>MGMT_PRIOR</th>\n",
       "      <th>VLTR_OPPS</th>\n",
       "      <th>SPEC_FEAT</th>\n",
       "      <th>PARK_HOURS</th>\n",
       "      <th>PKING_CAP</th>\n",
       "      <th>VISITORCTS</th>\n",
       "      <th>PASSHOLDER</th>\n",
       "      <th>PARK_EMAIL</th>\n",
       "      <th>PARK_PHONE</th>\n",
       "      <th>PARK_URL</th>\n",
       "      <th>MNTCEEMAIL</th>\n",
       "      <th>MNTCEPHONE</th>\n",
       "      <th>DATAAUTHOR</th>\n",
       "      <th>EDITED_BY</th>\n",
       "      <th>EDITED_DT</th>\n",
       "      <th>CREATED_BY</th>\n",
       "      <th>CREATED_DT</th>\n",
       "      <th>Shape_Leng</th>\n",
       "      <th>Shape_Area</th>\n",
       "      <th>SHAPE</th>\n",
       "    </tr>\n",
       "  </thead>\n",
       "  <tbody>\n",
       "    <tr>\n",
       "      <th>0</th>\n",
       "      <td>0</td>\n",
       "      <td>1</td>\n",
       "      <td>Islands of Peace Park</td>\n",
       "      <td></td>\n",
       "      <td>200 Charles St NE</td>\n",
       "      <td>Fridley</td>\n",
       "      <td>003</td>\n",
       "      <td>MN</td>\n",
       "      <td>Open</td>\n",
       "      <td>Open</td>\n",
       "      <td>Regional Park</td>\n",
       "      <td>Anoka County</td>\n",
       "      <td>03</td>\n",
       "      <td>Anoka County Parks</td>\n",
       "      <td>03</td>\n",
       "      <td>0</td>\n",
       "      <td></td>\n",
       "      <td>0.0</td>\n",
       "      <td>0.0</td>\n",
       "      <td>70.035095</td>\n",
       "      <td>0</td>\n",
       "      <td>0.0</td>\n",
       "      <td></td>\n",
       "      <td></td>\n",
       "      <td></td>\n",
       "      <td></td>\n",
       "      <td></td>\n",
       "      <td></td>\n",
       "      <td></td>\n",
       "      <td></td>\n",
       "      <td></td>\n",
       "      <td></td>\n",
       "      <td></td>\n",
       "      <td></td>\n",
       "      <td></td>\n",
       "      <td>6 AM to 30 minutes past sunset</td>\n",
       "      <td>0</td>\n",
       "      <td>0</td>\n",
       "      <td>0</td>\n",
       "      <td></td>\n",
       "      <td>763-324-3300</td>\n",
       "      <td>http://www.ci.fridley.mn.us/DocumentCenter/Vie...</td>\n",
       "      <td></td>\n",
       "      <td>763-571-3450</td>\n",
       "      <td>Anoka County</td>\n",
       "      <td>HOEKENJM</td>\n",
       "      <td>2020-02-05</td>\n",
       "      <td>HOEKENJM</td>\n",
       "      <td>2020-02-05</td>\n",
       "      <td>4937.894919</td>\n",
       "      <td>283421.975373</td>\n",
       "      <td>{\"rings\": [[[477871.7566999998, 4991062.148499...</td>\n",
       "    </tr>\n",
       "    <tr>\n",
       "      <th>1</th>\n",
       "      <td>1</td>\n",
       "      <td>2</td>\n",
       "      <td>Coon Lake County Park</td>\n",
       "      <td></td>\n",
       "      <td>5450 197th Ave NE</td>\n",
       "      <td>Columbus</td>\n",
       "      <td>003</td>\n",
       "      <td>MN</td>\n",
       "      <td>Open</td>\n",
       "      <td>Open</td>\n",
       "      <td>County Park</td>\n",
       "      <td>Anoka County</td>\n",
       "      <td>03</td>\n",
       "      <td>Anoka County Parks</td>\n",
       "      <td>03</td>\n",
       "      <td>0</td>\n",
       "      <td></td>\n",
       "      <td>0.0</td>\n",
       "      <td>0.0</td>\n",
       "      <td>111.440554</td>\n",
       "      <td>0</td>\n",
       "      <td>0.0</td>\n",
       "      <td></td>\n",
       "      <td></td>\n",
       "      <td></td>\n",
       "      <td></td>\n",
       "      <td></td>\n",
       "      <td></td>\n",
       "      <td></td>\n",
       "      <td></td>\n",
       "      <td></td>\n",
       "      <td></td>\n",
       "      <td></td>\n",
       "      <td></td>\n",
       "      <td></td>\n",
       "      <td>6 AM to 30 minutes past sunset</td>\n",
       "      <td>0</td>\n",
       "      <td>0</td>\n",
       "      <td>0</td>\n",
       "      <td></td>\n",
       "      <td>763-324-3300</td>\n",
       "      <td>https://www.anokacounty.us/722/Coon-Lake-Count...</td>\n",
       "      <td></td>\n",
       "      <td>763-324-3300</td>\n",
       "      <td>Anoka County</td>\n",
       "      <td>HOEKENJM</td>\n",
       "      <td>2020-02-05</td>\n",
       "      <td>HOEKENJM</td>\n",
       "      <td>2020-02-05</td>\n",
       "      <td>3681.878922</td>\n",
       "      <td>450983.919852</td>\n",
       "      <td>{\"rings\": [[[490172.79389999993, 5019062.42809...</td>\n",
       "    </tr>\n",
       "    <tr>\n",
       "      <th>2</th>\n",
       "      <td>2</td>\n",
       "      <td>3</td>\n",
       "      <td>Manomin Park</td>\n",
       "      <td></td>\n",
       "      <td>6666 East River Rd</td>\n",
       "      <td>Fridley</td>\n",
       "      <td>003</td>\n",
       "      <td>MN</td>\n",
       "      <td>Open</td>\n",
       "      <td>Open</td>\n",
       "      <td>Regional Park</td>\n",
       "      <td>Anoka County</td>\n",
       "      <td>03</td>\n",
       "      <td>Anoka County Parks</td>\n",
       "      <td>03</td>\n",
       "      <td>0</td>\n",
       "      <td></td>\n",
       "      <td>0.0</td>\n",
       "      <td>0.0</td>\n",
       "      <td>13.766334</td>\n",
       "      <td>0</td>\n",
       "      <td>0.0</td>\n",
       "      <td></td>\n",
       "      <td></td>\n",
       "      <td></td>\n",
       "      <td></td>\n",
       "      <td></td>\n",
       "      <td></td>\n",
       "      <td></td>\n",
       "      <td></td>\n",
       "      <td></td>\n",
       "      <td></td>\n",
       "      <td></td>\n",
       "      <td></td>\n",
       "      <td></td>\n",
       "      <td>6 AM to 30 minutes past sunset</td>\n",
       "      <td>0</td>\n",
       "      <td>0</td>\n",
       "      <td>0</td>\n",
       "      <td></td>\n",
       "      <td>763-324-3300</td>\n",
       "      <td>http://www.ci.fridley.mn.us/DocumentCenter/Vie...</td>\n",
       "      <td></td>\n",
       "      <td>763-571-3450</td>\n",
       "      <td>Anoka County</td>\n",
       "      <td>HOEKENJM</td>\n",
       "      <td>2020-02-05</td>\n",
       "      <td>HOEKENJM</td>\n",
       "      <td>2020-02-05</td>\n",
       "      <td>1204.812861</td>\n",
       "      <td>55710.376642</td>\n",
       "      <td>{\"rings\": [[[478289.28330000024, 4993075.01789...</td>\n",
       "    </tr>\n",
       "    <tr>\n",
       "      <th>3</th>\n",
       "      <td>3</td>\n",
       "      <td>4</td>\n",
       "      <td>Riverfront Regional Park</td>\n",
       "      <td></td>\n",
       "      <td>5100 East River Rd</td>\n",
       "      <td>Fridley</td>\n",
       "      <td>003</td>\n",
       "      <td>MN</td>\n",
       "      <td>Open</td>\n",
       "      <td>Open</td>\n",
       "      <td>Regional Park</td>\n",
       "      <td>Anoka County</td>\n",
       "      <td>03</td>\n",
       "      <td>Anoka County Parks</td>\n",
       "      <td>03</td>\n",
       "      <td>0</td>\n",
       "      <td></td>\n",
       "      <td>0.0</td>\n",
       "      <td>0.0</td>\n",
       "      <td>66.14842</td>\n",
       "      <td>0</td>\n",
       "      <td>0.0</td>\n",
       "      <td></td>\n",
       "      <td></td>\n",
       "      <td></td>\n",
       "      <td></td>\n",
       "      <td></td>\n",
       "      <td></td>\n",
       "      <td></td>\n",
       "      <td></td>\n",
       "      <td></td>\n",
       "      <td></td>\n",
       "      <td></td>\n",
       "      <td></td>\n",
       "      <td></td>\n",
       "      <td>6 AM to 30 minutes past sunset</td>\n",
       "      <td>0</td>\n",
       "      <td>0</td>\n",
       "      <td>0</td>\n",
       "      <td></td>\n",
       "      <td>763-324-3300</td>\n",
       "      <td>http://www.ci.fridley.mn.us/DocumentCenter/Vie...</td>\n",
       "      <td></td>\n",
       "      <td>763-571-3450</td>\n",
       "      <td>Anoka County</td>\n",
       "      <td>HOEKENJM</td>\n",
       "      <td>2020-02-05</td>\n",
       "      <td>HOEKENJM</td>\n",
       "      <td>2020-02-05</td>\n",
       "      <td>4581.75324</td>\n",
       "      <td>267693.160293</td>\n",
       "      <td>{\"rings\": [[[477894.19570000004, 4990291.52270...</td>\n",
       "    </tr>\n",
       "    <tr>\n",
       "      <th>4</th>\n",
       "      <td>4</td>\n",
       "      <td>5</td>\n",
       "      <td>Lake George Regional Park</td>\n",
       "      <td></td>\n",
       "      <td>2859 Lake George Dr NW</td>\n",
       "      <td>Oak Grove</td>\n",
       "      <td>003</td>\n",
       "      <td>MN</td>\n",
       "      <td>Open</td>\n",
       "      <td>Open</td>\n",
       "      <td>Regional Park</td>\n",
       "      <td>Anoka County</td>\n",
       "      <td>03</td>\n",
       "      <td>Anoka County Parks</td>\n",
       "      <td>03</td>\n",
       "      <td>0</td>\n",
       "      <td></td>\n",
       "      <td>0.0</td>\n",
       "      <td>0.0</td>\n",
       "      <td>257.882298</td>\n",
       "      <td>0</td>\n",
       "      <td>0.0</td>\n",
       "      <td></td>\n",
       "      <td></td>\n",
       "      <td></td>\n",
       "      <td></td>\n",
       "      <td></td>\n",
       "      <td></td>\n",
       "      <td></td>\n",
       "      <td></td>\n",
       "      <td></td>\n",
       "      <td></td>\n",
       "      <td></td>\n",
       "      <td></td>\n",
       "      <td></td>\n",
       "      <td>6 AM to 30 minutes past sunset</td>\n",
       "      <td>0</td>\n",
       "      <td>0</td>\n",
       "      <td>0</td>\n",
       "      <td></td>\n",
       "      <td>763-324-3300</td>\n",
       "      <td>http://www.ci.oak-grove.mn.us/vertical/sites/%...</td>\n",
       "      <td></td>\n",
       "      <td>763-404-7000</td>\n",
       "      <td>Anoka County</td>\n",
       "      <td>HOEKENJM</td>\n",
       "      <td>2020-02-05</td>\n",
       "      <td>HOEKENJM</td>\n",
       "      <td>2020-02-05</td>\n",
       "      <td>5218.489393</td>\n",
       "      <td>1043612.6344</td>\n",
       "      <td>{\"rings\": [[[474097.65950000007, 5023290.9901]...</td>\n",
       "    </tr>\n",
       "    <tr>\n",
       "      <th>...</th>\n",
       "      <td>...</td>\n",
       "      <td>...</td>\n",
       "      <td>...</td>\n",
       "      <td>...</td>\n",
       "      <td>...</td>\n",
       "      <td>...</td>\n",
       "      <td>...</td>\n",
       "      <td>...</td>\n",
       "      <td>...</td>\n",
       "      <td>...</td>\n",
       "      <td>...</td>\n",
       "      <td>...</td>\n",
       "      <td>...</td>\n",
       "      <td>...</td>\n",
       "      <td>...</td>\n",
       "      <td>...</td>\n",
       "      <td>...</td>\n",
       "      <td>...</td>\n",
       "      <td>...</td>\n",
       "      <td>...</td>\n",
       "      <td>...</td>\n",
       "      <td>...</td>\n",
       "      <td>...</td>\n",
       "      <td>...</td>\n",
       "      <td>...</td>\n",
       "      <td>...</td>\n",
       "      <td>...</td>\n",
       "      <td>...</td>\n",
       "      <td>...</td>\n",
       "      <td>...</td>\n",
       "      <td>...</td>\n",
       "      <td>...</td>\n",
       "      <td>...</td>\n",
       "      <td>...</td>\n",
       "      <td>...</td>\n",
       "      <td>...</td>\n",
       "      <td>...</td>\n",
       "      <td>...</td>\n",
       "      <td>...</td>\n",
       "      <td>...</td>\n",
       "      <td>...</td>\n",
       "      <td>...</td>\n",
       "      <td>...</td>\n",
       "      <td>...</td>\n",
       "      <td>...</td>\n",
       "      <td>...</td>\n",
       "      <td>...</td>\n",
       "      <td>...</td>\n",
       "      <td>...</td>\n",
       "      <td>...</td>\n",
       "      <td>...</td>\n",
       "      <td>...</td>\n",
       "    </tr>\n",
       "    <tr>\n",
       "      <th>3860</th>\n",
       "      <td>3860</td>\n",
       "      <td>163-3821</td>\n",
       "      <td>Lake Elmo Park Reserve</td>\n",
       "      <td></td>\n",
       "      <td>1515 KEATS AVE N</td>\n",
       "      <td>Lake Elmo</td>\n",
       "      <td>163</td>\n",
       "      <td>MN</td>\n",
       "      <td>Open Fee</td>\n",
       "      <td>Open</td>\n",
       "      <td></td>\n",
       "      <td>Washington County</td>\n",
       "      <td>03</td>\n",
       "      <td>Washington County</td>\n",
       "      <td>03</td>\n",
       "      <td>0</td>\n",
       "      <td></td>\n",
       "      <td>0.0</td>\n",
       "      <td>0.0</td>\n",
       "      <td>2177.03488</td>\n",
       "      <td>0</td>\n",
       "      <td>0.0</td>\n",
       "      <td></td>\n",
       "      <td></td>\n",
       "      <td></td>\n",
       "      <td></td>\n",
       "      <td></td>\n",
       "      <td></td>\n",
       "      <td></td>\n",
       "      <td></td>\n",
       "      <td></td>\n",
       "      <td></td>\n",
       "      <td></td>\n",
       "      <td></td>\n",
       "      <td>Swim Pond</td>\n",
       "      <td>6 A.M. - 10 P.M.</td>\n",
       "      <td>0</td>\n",
       "      <td>0</td>\n",
       "      <td>0</td>\n",
       "      <td>parks@co.washington.mn.us</td>\n",
       "      <td>651-430-8370</td>\n",
       "      <td>https://www.co.washington.mn.us/502/Lake-Elmo-...</td>\n",
       "      <td></td>\n",
       "      <td></td>\n",
       "      <td>Washington County</td>\n",
       "      <td>HOEKENJM</td>\n",
       "      <td>2020-02-05</td>\n",
       "      <td>HOEKENJM</td>\n",
       "      <td>2020-02-05</td>\n",
       "      <td>381.50367</td>\n",
       "      <td>8085.588943</td>\n",
       "      <td>{\"rings\": [[[509222.81599999964, 4979310.0371]...</td>\n",
       "    </tr>\n",
       "    <tr>\n",
       "      <th>3861</th>\n",
       "      <td>3861</td>\n",
       "      <td>163-3822</td>\n",
       "      <td>Oak Park Crossing Park</td>\n",
       "      <td></td>\n",
       "      <td>N/A</td>\n",
       "      <td>Oak Park Heights</td>\n",
       "      <td>163</td>\n",
       "      <td>MN</td>\n",
       "      <td>Open</td>\n",
       "      <td>Unknown</td>\n",
       "      <td></td>\n",
       "      <td>XCEL Energy</td>\n",
       "      <td>99</td>\n",
       "      <td>Oak Park Heights</td>\n",
       "      <td>05</td>\n",
       "      <td>2015</td>\n",
       "      <td></td>\n",
       "      <td>0.0</td>\n",
       "      <td>0.0</td>\n",
       "      <td>35.0</td>\n",
       "      <td>0</td>\n",
       "      <td>0.0</td>\n",
       "      <td></td>\n",
       "      <td></td>\n",
       "      <td></td>\n",
       "      <td></td>\n",
       "      <td></td>\n",
       "      <td></td>\n",
       "      <td></td>\n",
       "      <td></td>\n",
       "      <td></td>\n",
       "      <td></td>\n",
       "      <td></td>\n",
       "      <td></td>\n",
       "      <td></td>\n",
       "      <td></td>\n",
       "      <td>0</td>\n",
       "      <td>0</td>\n",
       "      <td>0</td>\n",
       "      <td></td>\n",
       "      <td></td>\n",
       "      <td></td>\n",
       "      <td></td>\n",
       "      <td></td>\n",
       "      <td>Oak Park Heights</td>\n",
       "      <td>HOEKENJM</td>\n",
       "      <td>2020-02-05</td>\n",
       "      <td>HOEKENJM</td>\n",
       "      <td>2020-02-05</td>\n",
       "      <td>1855.172978</td>\n",
       "      <td>138922.342238</td>\n",
       "      <td>{\"rings\": [[[516126.4826999996, 4986830.0363],...</td>\n",
       "    </tr>\n",
       "    <tr>\n",
       "      <th>3862</th>\n",
       "      <td>3862</td>\n",
       "      <td>163-3824</td>\n",
       "      <td>Autumn Hills Park</td>\n",
       "      <td></td>\n",
       "      <td>N/A</td>\n",
       "      <td>Oak Park Heights</td>\n",
       "      <td>163</td>\n",
       "      <td>MN</td>\n",
       "      <td>Open</td>\n",
       "      <td>Unknown</td>\n",
       "      <td></td>\n",
       "      <td>VALLEY SENIOR SERV ALLIANCE</td>\n",
       "      <td>99</td>\n",
       "      <td>Oak Park Heights</td>\n",
       "      <td>05</td>\n",
       "      <td>2007</td>\n",
       "      <td></td>\n",
       "      <td>0.0</td>\n",
       "      <td>0.0</td>\n",
       "      <td>0.0</td>\n",
       "      <td>0</td>\n",
       "      <td>0.0</td>\n",
       "      <td></td>\n",
       "      <td></td>\n",
       "      <td></td>\n",
       "      <td></td>\n",
       "      <td></td>\n",
       "      <td></td>\n",
       "      <td></td>\n",
       "      <td></td>\n",
       "      <td></td>\n",
       "      <td></td>\n",
       "      <td></td>\n",
       "      <td></td>\n",
       "      <td></td>\n",
       "      <td></td>\n",
       "      <td>0</td>\n",
       "      <td>0</td>\n",
       "      <td>0</td>\n",
       "      <td></td>\n",
       "      <td></td>\n",
       "      <td></td>\n",
       "      <td></td>\n",
       "      <td></td>\n",
       "      <td>Oak Park Heights</td>\n",
       "      <td>HOEKENJM</td>\n",
       "      <td>2020-02-05</td>\n",
       "      <td>HOEKENJM</td>\n",
       "      <td>2020-02-05</td>\n",
       "      <td>1064.730402</td>\n",
       "      <td>73824.970108</td>\n",
       "      <td>{\"rings\": [[[513179.2923999997, 4986383.2434],...</td>\n",
       "    </tr>\n",
       "    <tr>\n",
       "      <th>3863</th>\n",
       "      <td>3863</td>\n",
       "      <td>163-3825</td>\n",
       "      <td>Linear Park</td>\n",
       "      <td></td>\n",
       "      <td>N/A</td>\n",
       "      <td>Oak Park Heights</td>\n",
       "      <td>163</td>\n",
       "      <td>MN</td>\n",
       "      <td>Open</td>\n",
       "      <td>Unknown</td>\n",
       "      <td></td>\n",
       "      <td>Oak Park Heights</td>\n",
       "      <td>05</td>\n",
       "      <td>Oak Park Heights</td>\n",
       "      <td>05</td>\n",
       "      <td>0</td>\n",
       "      <td></td>\n",
       "      <td>0.0</td>\n",
       "      <td>0.0</td>\n",
       "      <td>0.0</td>\n",
       "      <td>0</td>\n",
       "      <td>0.0</td>\n",
       "      <td></td>\n",
       "      <td></td>\n",
       "      <td></td>\n",
       "      <td></td>\n",
       "      <td></td>\n",
       "      <td></td>\n",
       "      <td></td>\n",
       "      <td></td>\n",
       "      <td></td>\n",
       "      <td></td>\n",
       "      <td></td>\n",
       "      <td></td>\n",
       "      <td></td>\n",
       "      <td></td>\n",
       "      <td>0</td>\n",
       "      <td>0</td>\n",
       "      <td>0</td>\n",
       "      <td></td>\n",
       "      <td></td>\n",
       "      <td></td>\n",
       "      <td></td>\n",
       "      <td></td>\n",
       "      <td>Oak Park Heights</td>\n",
       "      <td>HOEKENJM</td>\n",
       "      <td>2020-02-05</td>\n",
       "      <td>HOEKENJM</td>\n",
       "      <td>2020-02-05</td>\n",
       "      <td>879.541286</td>\n",
       "      <td>18004.580359</td>\n",
       "      <td>{\"rings\": [[[513697.47009999957, 4986408.11580...</td>\n",
       "    </tr>\n",
       "    <tr>\n",
       "      <th>3864</th>\n",
       "      <td>3864</td>\n",
       "      <td>163-3826</td>\n",
       "      <td>Swager Park</td>\n",
       "      <td></td>\n",
       "      <td>N/A</td>\n",
       "      <td>Oak Park Heights</td>\n",
       "      <td>163</td>\n",
       "      <td>MN</td>\n",
       "      <td>Open</td>\n",
       "      <td>Unknown</td>\n",
       "      <td></td>\n",
       "      <td>Oak Park Heights</td>\n",
       "      <td>05</td>\n",
       "      <td>Oak Park Heights</td>\n",
       "      <td>05</td>\n",
       "      <td>0</td>\n",
       "      <td></td>\n",
       "      <td>0.0</td>\n",
       "      <td>0.0</td>\n",
       "      <td>0.0</td>\n",
       "      <td>0</td>\n",
       "      <td>0.0</td>\n",
       "      <td></td>\n",
       "      <td></td>\n",
       "      <td></td>\n",
       "      <td></td>\n",
       "      <td></td>\n",
       "      <td></td>\n",
       "      <td></td>\n",
       "      <td></td>\n",
       "      <td></td>\n",
       "      <td></td>\n",
       "      <td></td>\n",
       "      <td></td>\n",
       "      <td></td>\n",
       "      <td></td>\n",
       "      <td>0</td>\n",
       "      <td>0</td>\n",
       "      <td>0</td>\n",
       "      <td></td>\n",
       "      <td></td>\n",
       "      <td></td>\n",
       "      <td></td>\n",
       "      <td></td>\n",
       "      <td>Oak Park Heights</td>\n",
       "      <td>HOEKENJM</td>\n",
       "      <td>2020-02-05</td>\n",
       "      <td>HOEKENJM</td>\n",
       "      <td>2020-02-05</td>\n",
       "      <td>805.568507</td>\n",
       "      <td>16305.428644</td>\n",
       "      <td>{\"rings\": [[[514637.35059999954, 4986613.71460...</td>\n",
       "    </tr>\n",
       "  </tbody>\n",
       "</table>\n",
       "<p>3865 rows × 52 columns</p>\n",
       "</div>"
      ],
      "text/plain": [
       "       FID  ...                                              SHAPE\n",
       "0        0  ...  {\"rings\": [[[477871.7566999998, 4991062.148499...\n",
       "1        1  ...  {\"rings\": [[[490172.79389999993, 5019062.42809...\n",
       "2        2  ...  {\"rings\": [[[478289.28330000024, 4993075.01789...\n",
       "3        3  ...  {\"rings\": [[[477894.19570000004, 4990291.52270...\n",
       "4        4  ...  {\"rings\": [[[474097.65950000007, 5023290.9901]...\n",
       "...    ...  ...                                                ...\n",
       "3860  3860  ...  {\"rings\": [[[509222.81599999964, 4979310.0371]...\n",
       "3861  3861  ...  {\"rings\": [[[516126.4826999996, 4986830.0363],...\n",
       "3862  3862  ...  {\"rings\": [[[513179.2923999997, 4986383.2434],...\n",
       "3863  3863  ...  {\"rings\": [[[513697.47009999957, 4986408.11580...\n",
       "3864  3864  ...  {\"rings\": [[[514637.35059999954, 4986613.71460...\n",
       "\n",
       "[3865 rows x 52 columns]"
      ]
     },
     "execution_count": 17,
     "metadata": {},
     "output_type": "execute_result"
    }
   ],
   "source": [
    "# make it a spatially enabled df\n",
    "df_parks = pd.DataFrame.spatial.from_featureclass(r\"C:\\Users\\bende287\\Downloads\\shp_bdry_metro_colabtiv_parks\\MetroCollaborativeParks.shp\")\n",
    "#transform the projection \n",
    "#df_parks.spatial.project(SpatialReference(4326))\n",
    "\n",
    "df_parks"
   ]
  },
  {
   "cell_type": "code",
   "execution_count": 18,
   "metadata": {},
   "outputs": [],
   "source": [
    "landcover_link = r'https://resources.gisdata.mn.gov/pub/gdrs/data/pub/edu_umn/base_landcover_minnesota/tif_base_landcover_minnesota.zip'\n",
    "\n",
    "lc_response = requests.get(landcover_link, allow_redirects=True)\n",
    "     "
   ]
  },
  {
   "cell_type": "code",
   "execution_count": 19,
   "metadata": {},
   "outputs": [
    {
     "data": {
      "text/plain": [
       "97106583"
      ]
     },
     "execution_count": 19,
     "metadata": {},
     "output_type": "execute_result"
    }
   ],
   "source": [
    "\n",
    "#open a new file and use the dot interface. write to put data in the file\n",
    "open(r'C:\\Users\\bende287\\Downloads\\tif_base_landcover_minnesota.zip', 'wb').write(lc_response.content)\n",
    "     \n"
   ]
  },
  {
   "cell_type": "code",
   "execution_count": 20,
   "metadata": {},
   "outputs": [
    {
     "name": "stdout",
     "output_type": "stream",
     "text": [
      "File Name                                             Modified             Size\n",
      "landcover_impervious_statewide2013_v2.tif      2016-07-21 11:21:44   1691043568\n",
      "metadata/metadata.html                         2016-10-21 11:43:38        31278\n",
      "metadata/metadata.xml                          2016-10-25 10:58:54        17434\n",
      "metadata/preview.jpg                           2016-10-21 11:43:38       320230\n",
      "metadata/Thumbs.db                             2016-11-22 13:50:36        22528\n",
      "Extracting all files now..\n",
      "Done!\n"
     ]
    }
   ],
   "source": [
    "#unzip file\n",
    "with ZipFile(r\"C:\\Users\\bende287\\Downloads\\tif_base_landcover_minnesota.zip\", 'r') as g:\n",
    "    g.printdir()\n",
    "    \n",
    "    print('Extracting all files now..')\n",
    "    g.extractall(r\"C:\\Users\\bende287\\Downloads\\tif_base_landcover_minnesota\")\n",
    "    print('Done!')"
   ]
  },
  {
   "cell_type": "code",
   "execution_count": 21,
   "metadata": {},
   "outputs": [
    {
     "data": {
      "text/html": [
       "<div class='gpresult'><h2>Messages</h2><div id='messages'>Start Time: Monday, December 9, 2024 9:42:49 AM<br>Building Pyramids...<br>Succeeded at Monday, December 9, 2024 9:42:56 AM (Elapsed Time: 6.90 seconds)<br></div><div id = 'default' /></div></div>"
      ],
      "text/plain": [
       "<Result 'C:\\\\Users\\\\bende287\\\\Documents\\\\ArcGIS\\\\Projects\\\\GIS5571FinalProj\\\\GIS5571FinalProj.gdb\\\\landcover_impervious_Clip'>"
      ]
     },
     "execution_count": 21,
     "metadata": {},
     "output_type": "execute_result"
    }
   ],
   "source": [
    "arcpy.analysis.Clip(\n",
    "    in_features=\"TransitStops\",\n",
    "    clip_features=\"Hennepin_County_Boundary\",\n",
    "    out_feature_class=r\"C:\\Users\\bende287\\Documents\\ArcGIS\\Projects\\GIS5571FinalProj\\GIS5571FinalProj.gdb\\TransitStops_Clip\",\n",
    "    cluster_tolerance=None\n",
    ")\n",
    "\n",
    "arcpy.analysis.Clip(\n",
    "    in_features=\"MetroCollaborativeParks\",\n",
    "    clip_features=\"Hennepin_County_Boundary\",\n",
    "    out_feature_class=r\"C:\\Users\\bende287\\Documents\\ArcGIS\\Projects\\GIS5571FinalProj\\GIS5571FinalProj.gdb\\MetroCollaborativeParks_Clip\",\n",
    "    cluster_tolerance=None\n",
    ")\n",
    "\n",
    "\n",
    "arcpy.management.Clip(\n",
    "    in_raster=\"landcover_impervious_statewide2013_v2.tif\",\n",
    "    rectangle=\"439356.3565 4959127.3545 486031.7393 5010414.0576\",\n",
    "    out_raster=r\"C:\\Users\\bende287\\Documents\\ArcGIS\\Projects\\GIS5571FinalProj\\GIS5571FinalProj.gdb\\landcover_impervious_Clip\",\n",
    "    in_template_dataset=\"Hennepin_County_Boundary\",\n",
    "    nodata_value=\"255\",\n",
    "    clipping_geometry=\"NONE\",\n",
    "    maintain_clipping_extent=\"NO_MAINTAIN_EXTENT\"\n",
    ")"
   ]
  },
  {
   "cell_type": "code",
   "execution_count": 22,
   "metadata": {},
   "outputs": [
    {
     "data": {
      "text/html": [
       "<div class='gpresult'><h2>Messages</h2><div id='messages'>Start Time: Monday, December 9, 2024 9:43:10 AM<br>Determining data processing extents...<br>Building a neighborhood index from the Near Features...<br>Generating Near Table...<br>Found 4589 feature(s)<br>Succeeded at Monday, December 9, 2024 9:43:11 AM (Elapsed Time: 1.01 seconds)<br></div><div id = 'default' /></div></div>"
      ],
      "text/plain": [
       "<Result 'County_Parcels_vacant'>"
      ]
     },
     "execution_count": 22,
     "metadata": {},
     "output_type": "execute_result"
    }
   ],
   "source": [
    "#this tool modifies the input features (County_Parcels)-- check attribute table\n",
    "\n",
    "arcpy.analysis.Near(\n",
    "    in_features=\"County_Parcels_vacant\",\n",
    "    near_features=\"TransitStops_Clip\",\n",
    "    search_radius=None,\n",
    "    location=\"NO_LOCATION\",\n",
    "    angle=\"NO_ANGLE\",\n",
    "    method=\"PLANAR\",\n",
    "    field_names=\"NEAR_FID NEAR_SID;NEAR_DIST NEAR_Stops\",\n",
    "    distance_unit=\"Kilometers\"\n",
    ")\n",
    "\n",
    "arcpy.analysis.Near(\n",
    "    in_features=\"County_Parcels_vacant\",\n",
    "    near_features=\"Hennepin_County_Bike_and_Pedestrian_System\",\n",
    "    search_radius=None,\n",
    "    location=\"NO_LOCATION\",\n",
    "    angle=\"NO_ANGLE\",\n",
    "    method=\"PLANAR\",\n",
    "    field_names=\"NEAR_FID NEAR_BID;NEAR_DIST NEAR_Bike\",\n",
    "    distance_unit=\"Kilometers\"\n",
    ")\n",
    "\n",
    "arcpy.analysis.Near(\n",
    "    in_features=\"County_Parcels_vacant\",\n",
    "    near_features=\"MetroCollaborativeParks_Clip\",\n",
    "    search_radius=None,\n",
    "    location=\"NO_LOCATION\",\n",
    "    angle=\"NO_ANGLE\",\n",
    "    method=\"PLANAR\",\n",
    "    field_names=\"NEAR_FID NEAR_PID;NEAR_DIST NEAR_Park\",\n",
    "    distance_unit=\"Kilometers\"\n",
    ")"
   ]
  },
  {
   "cell_type": "code",
   "execution_count": 23,
   "metadata": {},
   "outputs": [],
   "source": [
    "#reclassify landcover layer--see metadata for remap values\n",
    "with arcpy.EnvManager(scratchWorkspace=r\"C:\\Users\\bende287\\Documents\\ArcGIS\\Projects\\GIS5571FinalProj\\GIS5571FinalProj.gdb\"):\n",
    "    out_raster = arcpy.sa.Reclassify(\n",
    "        in_raster=\"landcover_impervious_Clip\",\n",
    "        reclass_field=\"Value\",\n",
    "        remap=\" 1 100 3; 101 104 4; 105 108 1; 109 110 2\",\n",
    "        missing_values=\"DATA\"\n",
    "    )\n",
    "    out_raster.save(r\"C:\\Users\\bende287\\Documents\\ArcGIS\\Projects\\GIS5571FinalProj\\GIS5571FinalProj.gdb\\Reclass_landcover\")\n",
    "#comes out as \"out_raster\""
   ]
  },
  {
   "cell_type": "code",
   "execution_count": 24,
   "metadata": {},
   "outputs": [
    {
     "data": {
      "text/html": [
       "<div class='gpresult'><h2>Messages</h2><div id='messages' data-messages='[\"Start Time: Monday, December 9, 2024 9:43:41 AM\",[{\"element\":\"table\",\"data\":[[\"Upper Bound\",\"Reclassed Value\"],[\"\\u003c= 0.55663091\",\"4\"],[\"\\u003c= 1.42861494\",\"3\"],[\"\\u003c= 2.88436994\",\"2\"],[\"\\u003c= 5.23250532\",\"1\"]],\"elementProps\":{\"striped\":\"true\",\"title\":\"Reclassification\",\"0\":{\"align\":\"Left\",\"pad\":\"0px\",\"wrap\":true},\"1\":{\"align\":\"Left\",\"pad\":\"0px\",\"wrap\":true}}}],\"\",\"Succeeded at Monday, December 9, 2024 9:43:45 AM (Elapsed Time: 3.92 seconds)\"]' data-show='true'><div id = 'default' /></div></div>"
      ],
      "text/plain": [
       "<Result 'County_Parcels_vacant'>"
      ]
     },
     "execution_count": 24,
     "metadata": {},
     "output_type": "execute_result"
    }
   ],
   "source": [
    "\n",
    "#Jenks algorithm will find natural groupings that exist in the data\n",
    "#takes a few minutes to run\n",
    "##ASC = class with lowest values assigned to 1\n",
    "\n",
    "arcpy.management.ReclassifyField(\n",
    "    in_table=\"County_Parcels_vacant\",\n",
    "    field=\"NEAR_Bike\",\n",
    "    method=\"NATURAL_BREAKS\",\n",
    "    classes=4,\n",
    "    interval=None,\n",
    "    standard_deviations=\"ONE\",\n",
    "    reclass_table=None,\n",
    "    reverse_values=\"ASC\",\n",
    "    output_field_name=\"REBike\"\n",
    ")\n",
    "\n",
    "arcpy.management.ReclassifyField(\n",
    "    in_table=\"County_Parcels_vacant\",\n",
    "    field=\"NEAR_Stops\",\n",
    "    method=\"NATURAL_BREAKS\",\n",
    "    classes=4,\n",
    "    interval=None,\n",
    "    standard_deviations=\"ONE\",\n",
    "    reclass_table=None,\n",
    "    reverse_values=\"ASC\",\n",
    "    output_field_name=\"REStop\"\n",
    ")\n",
    "\n",
    "#DESC = class with highest values assigned to 1\n",
    "arcpy.management.ReclassifyField(\n",
    "    in_table=\"County_Parcels_vacant\",\n",
    "    field=\"NEAR_Park\",\n",
    "    method=\"NATURAL_BREAKS\",\n",
    "    classes=4,\n",
    "    interval=None,\n",
    "    standard_deviations=\"ONE\",\n",
    "    reclass_table=None,\n",
    "    reverse_values=\"DESC\",\n",
    "    output_field_name=\"REPark\"\n",
    ")\n",
    "\n"
   ]
  },
  {
   "cell_type": "code",
   "execution_count": 73,
   "metadata": {},
   "outputs": [
    {
     "data": {
      "text/html": [
       "<div class='gpresult'><h2>Messages</h2><div id='messages'>Start Time: Sunday, December 8, 2024 12:27:12 PM<br>Adding REBikeweighted to County_Parcels_ExportFeatures2...<br>Succeeded at Sunday, December 8, 2024 12:27:13 PM (Elapsed Time: 0.97 seconds)<br></div><div id = 'default' /></div></div>"
      ],
      "text/plain": [
       "<Result 'County_Parcels_ExportFeatures2'>"
      ]
     },
     "execution_count": 73,
     "metadata": {},
     "output_type": "execute_result"
    }
   ],
   "source": [
    "#applying weights to fields rather than rasterized version of fields\n",
    "arcpy.management.CalculateField(\n",
    "    in_table=\"County_Parcels_ExportFeatures2\",\n",
    "    field=\"REBikeweighted\",\n",
    "    expression=\"\"\"!REBike! * 0.33\n",
    "\"\"\",\n",
    "    expression_type=\"PYTHON3\",\n",
    "    code_block=\"\",\n",
    "    field_type=\"DOUBLE\",\n",
    "    enforce_domains=\"NO_ENFORCE_DOMAINS\"\n",
    ")"
   ]
  },
  {
   "cell_type": "code",
   "execution_count": 74,
   "metadata": {},
   "outputs": [
    {
     "data": {
      "text/html": [
       "<div class='gpresult'><h2>Messages</h2><div id='messages'>Start Time: Sunday, December 8, 2024 12:27:34 PM<br>Adding REParkweighted to County_Parcels_ExportFeatures2...<br>Succeeded at Sunday, December 8, 2024 12:27:35 PM (Elapsed Time: 0.87 seconds)<br></div><div id = 'default' /></div></div>"
      ],
      "text/plain": [
       "<Result 'County_Parcels_ExportFeatures2'>"
      ]
     },
     "execution_count": 74,
     "metadata": {},
     "output_type": "execute_result"
    }
   ],
   "source": [
    "arcpy.management.CalculateField(\n",
    "    in_table=\"County_Parcels_ExportFeatures2\",\n",
    "    field=\"REParkweighted\",\n",
    "    expression=\"\"\"!REPark! * 0.09\n",
    "\"\"\",\n",
    "    expression_type=\"PYTHON3\",\n",
    "    code_block=\"\",\n",
    "    field_type=\"DOUBLE\",\n",
    "    enforce_domains=\"NO_ENFORCE_DOMAINS\"\n",
    ")"
   ]
  },
  {
   "cell_type": "code",
   "execution_count": 75,
   "metadata": {},
   "outputs": [
    {
     "data": {
      "text/html": [
       "<div class='gpresult'><h2>Messages</h2><div id='messages'>Start Time: Sunday, December 8, 2024 12:27:37 PM<br>Adding REStopweighted to County_Parcels_ExportFeatures2...<br>Succeeded at Sunday, December 8, 2024 12:27:38 PM (Elapsed Time: 0.89 seconds)<br></div><div id = 'default' /></div></div>"
      ],
      "text/plain": [
       "<Result 'County_Parcels_ExportFeatures2'>"
      ]
     },
     "execution_count": 75,
     "metadata": {},
     "output_type": "execute_result"
    }
   ],
   "source": [
    "arcpy.management.CalculateField(\n",
    "    in_table=\"County_Parcels_ExportFeatures2\",\n",
    "    field=\"REStopweighted\",\n",
    "    expression=\"\"\"!REStop! * 0.33\n",
    "\"\"\",\n",
    "    expression_type=\"PYTHON3\",\n",
    "    code_block=\"\",\n",
    "    field_type=\"DOUBLE\",\n",
    "    enforce_domains=\"NO_ENFORCE_DOMAINS\"\n",
    ")"
   ]
  },
  {
   "cell_type": "code",
   "execution_count": 76,
   "metadata": {},
   "outputs": [],
   "source": [
    "#here i am assigning weights to the layers according to influence that they should have on the model\n",
    "weightedlandcover = Raster(\"out_raster\")*0.25"
   ]
  },
  {
   "cell_type": "code",
   "execution_count": 77,
   "metadata": {},
   "outputs": [
    {
     "data": {
      "text/html": [
       "<div class='gpresult'><h2>Messages</h2><div id='messages'>Start Time: Sunday, December 8, 2024 12:28:11 PM<br>WARNING 010566: Some zones may not have been rasterized.<br>Succeeded at Sunday, December 8, 2024 12:28:12 PM (Elapsed Time: 1.31 seconds)<br></div><div id = 'default' /></div></div>"
      ],
      "text/plain": [
       "<geoprocessing server result object object at 0x0000028D455FEC40>"
      ]
     },
     "execution_count": 77,
     "metadata": {},
     "output_type": "execute_result"
    }
   ],
   "source": [
    "arcpy.ia.ZonalStatisticsAsTable(\n",
    "    in_zone_data=\"County_Parcels_ExportFeatures2\",\n",
    "    zone_field=\"OBJECTID\",\n",
    "    in_value_raster=\"weightedlandcover\",\n",
    "    out_table=r\"C:\\Users\\bende287\\Documents\\ArcGIS\\Projects\\GIS5571FinalProj\\GIS5571FinalProj.gdb\\ZonalSt_County_1\",\n",
    "    ignore_nodata=\"DATA\",\n",
    "    statistics_type=\"MIN_MAX_MEAN\",\n",
    "    process_as_multidimensional=\"CURRENT_SLICE\",\n",
    "    percentile_values=90,\n",
    "    percentile_interpolation_type=\"AUTO_DETECT\",\n",
    "    circular_calculation=\"ARITHMETIC\",\n",
    "    circular_wrap_value=360,\n",
    "    out_join_layer=None\n",
    ")"
   ]
  },
  {
   "cell_type": "code",
   "execution_count": 78,
   "metadata": {},
   "outputs": [
    {
     "data": {
      "text/html": [
       "<div class='gpresult'><h2>Messages</h2><div id='messages'>Start Time: Sunday, December 8, 2024 12:28:33 PM<br>Succeeded at Sunday, December 8, 2024 12:28:34 PM (Elapsed Time: 0.53 seconds)<br></div><div id = 'default' /></div></div>"
      ],
      "text/plain": [
       "<Result 'County_Parcels_ExportFeatures2'>"
      ]
     },
     "execution_count": 78,
     "metadata": {},
     "output_type": "execute_result"
    }
   ],
   "source": [
    "arcpy.management.AddJoin(\n",
    "    in_layer_or_view=\"County_Parcels_ExportFeatures2\",\n",
    "    in_field=\"OBJECTID\",\n",
    "    join_table=\"ZonalSt_County_1\",\n",
    "    join_field=\"OBJECTID\",\n",
    "    join_type=\"KEEP_ALL\",\n",
    "    index_join_fields=\"NO_INDEX_JOIN_FIELDS\",\n",
    "    rebuild_index=\"NO_REBUILD_INDEX\",\n",
    "    join_operation=\"\"\n",
    ")"
   ]
  },
  {
   "cell_type": "code",
   "execution_count": 79,
   "metadata": {},
   "outputs": [
    {
     "data": {
      "text/html": [
       "<div class='gpresult'><h2>Messages</h2><div id='messages'>Start Time: Sunday, December 8, 2024 12:29:48 PM<br>Started Spark Job 1 with 8 tasks.<br>Spark Job 1 completed in 0.3 seconds.<br><br>Succeeded at Sunday, December 8, 2024 12:29:52 PM (Elapsed Time: 3.85 seconds)<br></div><div id = 'default' /></div></div>"
      ],
      "text/plain": [
       "<Result 'C:\\\\Users\\\\bende287\\\\Documents\\\\ArcGIS\\\\Projects\\\\GIS5571FinalProj\\\\GIS5571FinalProj.gdb\\\\County_Parcels_schema1'>"
      ]
     },
     "execution_count": 79,
     "metadata": {},
     "output_type": "execute_result"
    }
   ],
   "source": [
    "#need to export the features of the joined table before performing this step. This will create a value field by which we can rank the parcels. \n",
    "arcpy.gapro.CalculateField(\n",
    "    input_layer=\"County_Parcels_ExportFeatures3\",\n",
    "    output=r\"C:\\Users\\bende287\\Documents\\ArcGIS\\Projects\\GIS5571FinalProj\\GIS5571FinalProj.gdb\\County_Parcels_schema1\",\n",
    "    field_to_calculate=\"NEW_FIELD\",\n",
    "    field_name=\"added\",\n",
    "    existing_field=None,\n",
    "    field_type=\"DOUBLE\",\n",
    "    expression=\"$feature.MEAN +$feature.REBikeweighted + $feature.REParkweighted + $feature.REStopweighted\",\n",
    "    track_aware=None,\n",
    "    track_fields=None,\n",
    "    time_boundary_split=None,\n",
    "    time_boundary_reference=None\n",
    ")"
   ]
  },
  {
   "cell_type": "code",
   "execution_count": 28,
   "metadata": {},
   "outputs": [],
   "source": [
    "#Used to generate a random weighting scheme\n",
    "n = 4\n",
    "\n",
    "weight_list = np.random.dirichlet(np.ones(n), size=1)[0].tolist()"
   ]
  },
  {
   "cell_type": "code",
   "execution_count": 29,
   "metadata": {},
   "outputs": [
    {
     "name": "stdout",
     "output_type": "stream",
     "text": [
      "[0.36968132725644626, 0.16060960519028494, 0.4129581121657214, 0.05675095538754748]\n"
     ]
    }
   ],
   "source": [
    "print(weight_list)"
   ]
  },
  {
   "cell_type": "code",
   "execution_count": null,
   "metadata": {},
   "outputs": [],
   "source": [
    "##equal weights below.."
   ]
  },
  {
   "cell_type": "code",
   "execution_count": 80,
   "metadata": {},
   "outputs": [],
   "source": [
    "#here i am reassigning weights to the layers\n",
    "weightedlandcover1 = Raster(\"out_raster\")*0.25"
   ]
  },
  {
   "cell_type": "code",
   "execution_count": 83,
   "metadata": {},
   "outputs": [
    {
     "data": {
      "text/html": [
       "<div class='gpresult'><h2>Messages</h2><div id='messages'>Start Time: Sunday, December 8, 2024 12:43:30 PM<br>WARNING 010566: Some zones may not have been rasterized.<br>Succeeded at Sunday, December 8, 2024 12:43:31 PM (Elapsed Time: 1.43 seconds)<br></div><div id = 'default' /></div></div>"
      ],
      "text/plain": [
       "<geoprocessing server result object object at 0x0000028DE927A3A0>"
      ]
     },
     "execution_count": 83,
     "metadata": {},
     "output_type": "execute_result"
    }
   ],
   "source": [
    "arcpy.ia.ZonalStatisticsAsTable(\n",
    "    in_zone_data=\"County_Parcels_ExportFeatures4\",\n",
    "    zone_field=\"OBJECTID\",\n",
    "    in_value_raster=\"weightedlandcover1\",\n",
    "    out_table=r\"C:\\Users\\bende287\\Documents\\ArcGIS\\Projects\\GIS5571FinalProj\\GIS5571FinalProj.gdb\\ZonalSt_County_2\",\n",
    "    ignore_nodata=\"DATA\",\n",
    "    statistics_type=\"MIN_MAX_MEAN\",\n",
    "    process_as_multidimensional=\"CURRENT_SLICE\",\n",
    "    percentile_values=90,\n",
    "    percentile_interpolation_type=\"AUTO_DETECT\",\n",
    "    circular_calculation=\"ARITHMETIC\",\n",
    "    circular_wrap_value=360,\n",
    "    out_join_layer=None\n",
    ")"
   ]
  },
  {
   "cell_type": "code",
   "execution_count": 84,
   "metadata": {},
   "outputs": [
    {
     "data": {
      "text/html": [
       "<div class='gpresult'><h2>Messages</h2><div id='messages'>Start Time: Sunday, December 8, 2024 12:43:48 PM<br>Succeeded at Sunday, December 8, 2024 12:43:49 PM (Elapsed Time: 0.95 seconds)<br></div><div id = 'default' /></div></div>"
      ],
      "text/plain": [
       "<Result 'County_Parcels_ExportFeatures4'>"
      ]
     },
     "execution_count": 84,
     "metadata": {},
     "output_type": "execute_result"
    }
   ],
   "source": [
    "arcpy.management.AddJoin(\n",
    "    in_layer_or_view=\"County_Parcels_ExportFeatures4\",\n",
    "    in_field=\"OBJECTID\",\n",
    "    join_table=\"ZonalSt_County_2\",\n",
    "    join_field=\"OBJECTID\",\n",
    "    join_type=\"KEEP_ALL\",\n",
    "    index_join_fields=\"NO_INDEX_JOIN_FIELDS\",\n",
    "    rebuild_index=\"NO_REBUILD_INDEX\",\n",
    "    join_operation=\"\"\n",
    ")"
   ]
  },
  {
   "cell_type": "code",
   "execution_count": 95,
   "metadata": {},
   "outputs": [
    {
     "name": "stderr",
     "output_type": "stream",
     "text": [
      "﻿  File \"<expression>\", line 1\n",
      "    * 0.25\n",
      "﻿IndentationError: unexpected indent\n"
     ]
    },
    {
     "ename": "ExecuteError",
     "evalue": "ERROR 000539: ﻿  File \"<expression>\", line 1\n    * 0.25\n﻿IndentationError: unexpected indent\n\nFailed to execute (CalculateField).\n",
     "output_type": "error",
     "traceback": [
      "\u001b[0;31m---------------------------------------------------------------------------\u001b[0m\n\u001b[0;31mExecuteError\u001b[0m                              Traceback (most recent call last)",
      "In  \u001b[0;34m[95]\u001b[0m:\nLine \u001b[0;34m2\u001b[0m:     arcpy.management.CalculateField(\u001b[37m\u001b[39;49;00m\n",
      "File \u001b[0;34mC:\\Program Files\\ArcGIS\\Pro\\Resources\\ArcPy\\arcpy\\management.py\u001b[0m, in \u001b[0;32mCalculateField\u001b[0m:\nLine \u001b[0;34m5711\u001b[0m:  \u001b[34mraise\u001b[39;49;00m e\u001b[37m\u001b[39;49;00m\n",
      "File \u001b[0;34mC:\\Program Files\\ArcGIS\\Pro\\Resources\\ArcPy\\arcpy\\management.py\u001b[0m, in \u001b[0;32mCalculateField\u001b[0m:\nLine \u001b[0;34m5708\u001b[0m:  retval = convertArcObjectToPythonObject(gp.CalculateField_management(*gp_fixargs((in_table, field, expression, expression_type, code_block, field_type, enforce_domains), \u001b[34mTrue\u001b[39;49;00m)))\u001b[37m\u001b[39;49;00m\n",
      "File \u001b[0;34mC:\\Program Files\\ArcGIS\\Pro\\Resources\\ArcPy\\arcpy\\geoprocessing\\_base.py\u001b[0m, in \u001b[0;32m<lambda>\u001b[0m:\nLine \u001b[0;34m512\u001b[0m:   \u001b[34mreturn\u001b[39;49;00m \u001b[34mlambda\u001b[39;49;00m *args: val(*gp_fixargs(args, \u001b[34mTrue\u001b[39;49;00m))\u001b[37m\u001b[39;49;00m\n",
      "\u001b[0;31mExecuteError\u001b[0m: ERROR 000539: ﻿  File \"<expression>\", line 1\n    * 0.25\n﻿IndentationError: unexpected indent\n\nFailed to execute (CalculateField).\n\n\u001b[0;31m---------------------------------------------------------------------------\u001b[0m"
     ]
    }
   ],
   "source": [
    "#applying weights to fields rather than rasterized version of fields\n"
   ]
  },
  {
   "cell_type": "code",
   "execution_count": 96,
   "metadata": {},
   "outputs": [
    {
     "data": {
      "text/html": [
       "<div class='gpresult'><h2>Messages</h2><div id='messages'>Start Time: Sunday, December 8, 2024 12:54:06 PM<br>Succeeded at Sunday, December 8, 2024 12:54:07 PM (Elapsed Time: 1.10 seconds)<br></div><div id = 'default' /></div></div>"
      ],
      "text/plain": [
       "<Result 'County_Parcels_ExportFeatures4'>"
      ]
     },
     "execution_count": 96,
     "metadata": {},
     "output_type": "execute_result"
    }
   ],
   "source": [
    "arcpy.management.CalculateField(\n",
    "    in_table=\"County_Parcels_ExportFeatures4\",\n",
    "    field=\"County_Parcels_ExportFeatures4.REBikeweighted1\",\n",
    "    expression=\"!County_Parcels_ExportFeatures4.REBike! * 0.25\",\n",
    "    expression_type=\"PYTHON3\",\n",
    "    code_block=\"\",\n",
    "    field_type=\"DOUBLE\",\n",
    "    enforce_domains=\"NO_ENFORCE_DOMAINS\"\n",
    ")"
   ]
  },
  {
   "cell_type": "code",
   "execution_count": 97,
   "metadata": {},
   "outputs": [
    {
     "data": {
      "text/html": [
       "<div class='gpresult'><h2>Messages</h2><div id='messages'>Start Time: Sunday, December 8, 2024 12:55:33 PM<br>Adding REStopweighted1 to County_Parcels_ExportFeatures4...<br>Succeeded at Sunday, December 8, 2024 12:55:34 PM (Elapsed Time: 1.33 seconds)<br></div><div id = 'default' /></div></div>"
      ],
      "text/plain": [
       "<Result 'County_Parcels_ExportFeatures4'>"
      ]
     },
     "execution_count": 97,
     "metadata": {},
     "output_type": "execute_result"
    }
   ],
   "source": [
    "arcpy.management.CalculateField(\n",
    "    in_table=\"County_Parcels_ExportFeatures4\",\n",
    "    field=\"REStopweighted1\",\n",
    "    expression=\"!County_Parcels_ExportFeatures4.REStop! * 0.25\",\n",
    "    expression_type=\"PYTHON3\",\n",
    "    code_block=\"\",\n",
    "    field_type=\"DOUBLE\",\n",
    "    enforce_domains=\"NO_ENFORCE_DOMAINS\"\n",
    ")"
   ]
  },
  {
   "cell_type": "code",
   "execution_count": 98,
   "metadata": {},
   "outputs": [
    {
     "data": {
      "text/html": [
       "<div class='gpresult'><h2>Messages</h2><div id='messages'>Start Time: Sunday, December 8, 2024 12:56:20 PM<br>Adding REParkweighted1 to County_Parcels_ExportFeatures4...<br>Succeeded at Sunday, December 8, 2024 12:56:22 PM (Elapsed Time: 1.48 seconds)<br></div><div id = 'default' /></div></div>"
      ],
      "text/plain": [
       "<Result 'County_Parcels_ExportFeatures4'>"
      ]
     },
     "execution_count": 98,
     "metadata": {},
     "output_type": "execute_result"
    }
   ],
   "source": [
    "arcpy.management.CalculateField(\n",
    "    in_table=\"County_Parcels_ExportFeatures4\",\n",
    "    field=\"REParkweighted1\",\n",
    "    expression=\"!County_Parcels_ExportFeatures4.REPark! * 0.25\",\n",
    "    expression_type=\"PYTHON3\",\n",
    "    code_block=\"\",\n",
    "    field_type=\"DOUBLE\",\n",
    "    enforce_domains=\"NO_ENFORCE_DOMAINS\"\n",
    ")"
   ]
  },
  {
   "cell_type": "code",
   "execution_count": 99,
   "metadata": {},
   "outputs": [
    {
     "data": {
      "text/html": [
       "<div class='gpresult'><h2>Messages</h2><div id='messages'>Start Time: Sunday, December 8, 2024 12:58:04 PM<br>Started Spark Job 1 with 8 tasks.<br>Spark Job 1 completed in 0.3 seconds.<br><br>Succeeded at Sunday, December 8, 2024 12:58:09 PM (Elapsed Time: 4.45 seconds)<br></div><div id = 'default' /></div></div>"
      ],
      "text/plain": [
       "<Result 'C:\\\\Users\\\\bende287\\\\Documents\\\\ArcGIS\\\\Projects\\\\GIS5571FinalProj\\\\GIS5571FinalProj.gdb\\\\County_Parcels_schema2'>"
      ]
     },
     "execution_count": 99,
     "metadata": {},
     "output_type": "execute_result"
    }
   ],
   "source": [
    "\n",
    "arcpy.gapro.CalculateField(\n",
    "    input_layer=\"County_Parcels_ExportFeatures5\",\n",
    "    output=r\"C:\\Users\\bende287\\Documents\\ArcGIS\\Projects\\GIS5571FinalProj\\GIS5571FinalProj.gdb\\County_Parcels_schema2\",\n",
    "    field_to_calculate=\"NEW_FIELD\",\n",
    "    field_name=\"added1\",\n",
    "    existing_field=None,\n",
    "    field_type=\"DOUBLE\",\n",
    "    expression=\"$feature.MEAN +$feature.REBikeweighted1 + $feature.REParkweighted1 + $feature.REStopweighted1\",\n",
    "    track_aware=None,\n",
    "    track_fields=None,\n",
    "    time_boundary_split=None,\n",
    "    time_boundary_reference=None\n",
    ")"
   ]
  },
  {
   "cell_type": "code",
   "execution_count": null,
   "metadata": {},
   "outputs": [],
   "source": [
    "#continuing sensitivity analysis with a 2nd test below.."
   ]
  },
  {
   "cell_type": "code",
   "execution_count": 52,
   "metadata": {},
   "outputs": [],
   "source": [
    "#here i am reassigning weights to the layers\n",
    "weightedlandcover2 = Raster(\"out_raster\")*0.50"
   ]
  },
  {
   "cell_type": "code",
   "execution_count": 56,
   "metadata": {},
   "outputs": [
    {
     "data": {
      "text/html": [
       "<div class='gpresult'><h2>Messages</h2><div id='messages'>Start Time: Sunday, December 8, 2024 11:26:50 AM<br>WARNING 010566: Some zones may not have been rasterized.<br>Succeeded at Sunday, December 8, 2024 11:26:52 AM (Elapsed Time: 1.35 seconds)<br></div><div id = 'default' /></div></div>"
      ],
      "text/plain": [
       "<geoprocessing server result object object at 0x0000028DEAEEDFE0>"
      ]
     },
     "execution_count": 56,
     "metadata": {},
     "output_type": "execute_result"
    }
   ],
   "source": [
    "arcpy.ia.ZonalStatisticsAsTable(\n",
    "    in_zone_data=\"County_Parcels_ExportFeatures1\",\n",
    "    zone_field=\"OBJECTID\",\n",
    "    in_value_raster=\"weightedlandcover2\",\n",
    "    out_table=r\"C:\\Users\\bende287\\Documents\\ArcGIS\\Projects\\GIS5571FinalProj\\GIS5571FinalProj.gdb\\ZonalSt_County_3\",\n",
    "    ignore_nodata=\"DATA\",\n",
    "    statistics_type=\"MIN_MAX_MEAN\",\n",
    "    process_as_multidimensional=\"CURRENT_SLICE\",\n",
    "    percentile_values=90,\n",
    "    percentile_interpolation_type=\"AUTO_DETECT\",\n",
    "    circular_calculation=\"ARITHMETIC\",\n",
    "    circular_wrap_value=360,\n",
    "    out_join_layer=None\n",
    ")"
   ]
  },
  {
   "cell_type": "code",
   "execution_count": 57,
   "metadata": {},
   "outputs": [
    {
     "data": {
      "text/html": [
       "<div class='gpresult'><h2>Messages</h2><div id='messages'>Start Time: Sunday, December 8, 2024 11:27:19 AM<br>Succeeded at Sunday, December 8, 2024 11:27:20 AM (Elapsed Time: 0.54 seconds)<br></div><div id = 'default' /></div></div>"
      ],
      "text/plain": [
       "<Result 'County_Parcels_ExportFeatures1'>"
      ]
     },
     "execution_count": 57,
     "metadata": {},
     "output_type": "execute_result"
    }
   ],
   "source": [
    "arcpy.management.AddJoin(\n",
    "    in_layer_or_view=\"County_Parcels_ExportFeatures1\",\n",
    "    in_field=\"OBJECTID\",\n",
    "    join_table=\"ZonalSt_County_3\",\n",
    "    join_field=\"OBJECTID\",\n",
    "    join_type=\"KEEP_ALL\",\n",
    "    index_join_fields=\"NO_INDEX_JOIN_FIELDS\",\n",
    "    rebuild_index=\"NO_REBUILD_INDEX\",\n",
    "    join_operation=\"\"\n",
    ")"
   ]
  },
  {
   "cell_type": "code",
   "execution_count": 67,
   "metadata": {},
   "outputs": [
    {
     "data": {
      "text/html": [
       "<div class='gpresult'><h2>Messages</h2><div id='messages'>Start Time: Sunday, December 8, 2024 11:39:25 AM<br>Adding REBikeweighted2 to County_Parcels_ExportFeatures2...<br>Succeeded at Sunday, December 8, 2024 11:39:26 AM (Elapsed Time: 1.41 seconds)<br></div><div id = 'default' /></div></div>"
      ],
      "text/plain": [
       "<Result 'County_Parcels_ExportFeatures2'>"
      ]
     },
     "execution_count": 67,
     "metadata": {},
     "output_type": "execute_result"
    }
   ],
   "source": [
    "#applying weights to fields rather than rasterized version of fields\n",
    "arcpy.management.CalculateField(\n",
    "    in_table=\"County_Parcels_ExportFeatures2\",\n",
    "    field=\"REBikeweighted2\",\n",
    "    expression=\"!REBike! * 0.16\",\n",
    "    expression_type=\"PYTHON3\",\n",
    "    code_block=\"\",\n",
    "    field_type=\"DOUBLE\",\n",
    "    enforce_domains=\"NO_ENFORCE_DOMAINS\"\n",
    ")"
   ]
  },
  {
   "cell_type": "code",
   "execution_count": 68,
   "metadata": {},
   "outputs": [
    {
     "data": {
      "text/html": [
       "<div class='gpresult'><h2>Messages</h2><div id='messages'>Start Time: Sunday, December 8, 2024 11:39:27 AM<br>Adding REStopweighted2 to County_Parcels_ExportFeatures2...<br>Succeeded at Sunday, December 8, 2024 11:39:28 AM (Elapsed Time: 1.24 seconds)<br></div><div id = 'default' /></div></div>"
      ],
      "text/plain": [
       "<Result 'County_Parcels_ExportFeatures2'>"
      ]
     },
     "execution_count": 68,
     "metadata": {},
     "output_type": "execute_result"
    }
   ],
   "source": [
    "arcpy.management.CalculateField(\n",
    "    in_table=\"County_Parcels_ExportFeatures2\",\n",
    "    field=\"REStopweighted2\",\n",
    "    expression=\"!REStop! * 0.17\",\n",
    "    expression_type=\"PYTHON3\",\n",
    "    code_block=\"\",\n",
    "    field_type=\"DOUBLE\",\n",
    "    enforce_domains=\"NO_ENFORCE_DOMAINS\"\n",
    ")"
   ]
  },
  {
   "cell_type": "code",
   "execution_count": 69,
   "metadata": {},
   "outputs": [
    {
     "data": {
      "text/html": [
       "<div class='gpresult'><h2>Messages</h2><div id='messages'>Start Time: Sunday, December 8, 2024 11:39:29 AM<br>Adding REParkweighted2 to County_Parcels_ExportFeatures2...<br>Succeeded at Sunday, December 8, 2024 11:39:30 AM (Elapsed Time: 1.23 seconds)<br></div><div id = 'default' /></div></div>"
      ],
      "text/plain": [
       "<Result 'County_Parcels_ExportFeatures2'>"
      ]
     },
     "execution_count": 69,
     "metadata": {},
     "output_type": "execute_result"
    }
   ],
   "source": [
    "#creates a new field\n",
    "arcpy.management.CalculateField(\n",
    "    in_table=\"County_Parcels_ExportFeatures2\",\n",
    "    field=\"REParkweighted2\",\n",
    "    expression=\"!REPark! * 0.17\",\n",
    "    expression_type=\"PYTHON3\",\n",
    "    code_block=\"\",\n",
    "    field_type=\"DOUBLE\",\n",
    "    enforce_domains=\"NO_ENFORCE_DOMAINS\"\n",
    ")"
   ]
  },
  {
   "cell_type": "code",
   "execution_count": 70,
   "metadata": {},
   "outputs": [
    {
     "data": {
      "text/html": [
       "<div class='gpresult'><h2>Messages</h2><div id='messages'>Start Time: Sunday, December 8, 2024 11:39:32 AM<br>Started Spark Job 1 with 8 tasks.<br>Spark Job 1 completed in 0.3 seconds.<br><br>Succeeded at Sunday, December 8, 2024 11:39:37 AM (Elapsed Time: 4.60 seconds)<br></div><div id = 'default' /></div></div>"
      ],
      "text/plain": [
       "<Result 'C:\\\\Users\\\\bende287\\\\Documents\\\\ArcGIS\\\\Projects\\\\GIS5571FinalProj\\\\GIS5571FinalProj.gdb\\\\County_Parcels_ExportFeatures_CalculateField'>"
      ]
     },
     "execution_count": 70,
     "metadata": {},
     "output_type": "execute_result"
    }
   ],
   "source": [
    "#creates a new field for us to symbolize on\n",
    "arcpy.gapro.CalculateField(\n",
    "    input_layer=\"County_Parcels_ExportFeatures2\",\n",
    "    output=r\"C:\\Users\\bende287\\Documents\\ArcGIS\\Projects\\GIS5571FinalProj\\GIS5571FinalProj.gdb\\County_Parcels_ExportFeatures_CalculateField\",\n",
    "    field_to_calculate=\"NEW_FIELD\",\n",
    "    field_name=\"added2\",\n",
    "    existing_field=None,\n",
    "    field_type=\"DOUBLE\",\n",
    "    expression=\"$feature.MEAN + $feature.REParkweighted2 + $feature.REStopweighted2 + $feature.REBikeweighted2\",\n",
    "    track_aware=None,\n",
    "    track_fields=None,\n",
    "    time_boundary_split=None,\n",
    "    time_boundary_reference=None\n",
    ")"
   ]
  },
  {
   "cell_type": "code",
   "execution_count": null,
   "metadata": {},
   "outputs": [],
   "source": [
    "#final weight scheme"
   ]
  },
  {
   "cell_type": "code",
   "execution_count": 30,
   "metadata": {},
   "outputs": [],
   "source": [
    "#here i am reassigning weights to the layers\n",
    "weightedlandcover3 = Raster(\"out_raster\")*0.05675095538754748"
   ]
  },
  {
   "cell_type": "code",
   "execution_count": 31,
   "metadata": {},
   "outputs": [
    {
     "data": {
      "text/html": [
       "<div class='gpresult'><h2>Messages</h2><div id='messages'>Start Time: Monday, December 9, 2024 9:58:29 AM<br>WARNING 010566: Some zones may not have been rasterized.<br>Succeeded at Monday, December 9, 2024 9:58:30 AM (Elapsed Time: 1.14 seconds)<br></div><div id = 'default' /></div></div>"
      ],
      "text/plain": [
       "<geoprocessing server result object object at 0x0000017AB2A54FF0>"
      ]
     },
     "execution_count": 31,
     "metadata": {},
     "output_type": "execute_result"
    }
   ],
   "source": [
    "arcpy.ia.ZonalStatisticsAsTable(\n",
    "    in_zone_data=\"County_Parcels_ExportFeatures7\",\n",
    "    zone_field=\"OBJECTID\",\n",
    "    in_value_raster=\"weightedlandcover3\",\n",
    "    out_table=r\"C:\\Users\\bende287\\Documents\\ArcGIS\\Projects\\GIS5571FinalProj\\GIS5571FinalProj.gdb\\ZonalSt_County_4\",\n",
    "    ignore_nodata=\"DATA\",\n",
    "    statistics_type=\"MIN_MAX_MEAN\",\n",
    "    process_as_multidimensional=\"CURRENT_SLICE\",\n",
    "    percentile_values=90,\n",
    "    percentile_interpolation_type=\"AUTO_DETECT\",\n",
    "    circular_calculation=\"ARITHMETIC\",\n",
    "    circular_wrap_value=360,\n",
    "    out_join_layer=None\n",
    ")"
   ]
  },
  {
   "cell_type": "code",
   "execution_count": 32,
   "metadata": {},
   "outputs": [
    {
     "data": {
      "text/html": [
       "<div class='gpresult'><h2>Messages</h2><div id='messages'>Start Time: Monday, December 9, 2024 9:59:40 AM<br>Succeeded at Monday, December 9, 2024 9:59:41 AM (Elapsed Time: 0.85 seconds)<br></div><div id = 'default' /></div></div>"
      ],
      "text/plain": [
       "<Result 'County_Parcels_ExportFeatures7'>"
      ]
     },
     "execution_count": 32,
     "metadata": {},
     "output_type": "execute_result"
    }
   ],
   "source": [
    "arcpy.management.AddJoin(\n",
    "    in_layer_or_view=\"County_Parcels_ExportFeatures7\",\n",
    "    in_field=\"OBJECTID\",\n",
    "    join_table=\"ZonalSt_County_4\",\n",
    "    join_field=\"OBJECTID\",\n",
    "    join_type=\"KEEP_ALL\",\n",
    "    index_join_fields=\"NO_INDEX_JOIN_FIELDS\",\n",
    "    rebuild_index=\"NO_REBUILD_INDEX\",\n",
    "    join_operation=\"\"\n",
    ")"
   ]
  },
  {
   "cell_type": "code",
   "execution_count": 33,
   "metadata": {},
   "outputs": [
    {
     "data": {
      "text/html": [
       "<div class='gpresult'><h2>Messages</h2><div id='messages'>Start Time: Monday, December 9, 2024 10:00:11 AM<br>Adding REBikeweighted3 to County_Parcels_ExportFeatures8...<br>Succeeded at Monday, December 9, 2024 10:00:12 AM (Elapsed Time: 1.06 seconds)<br></div><div id = 'default' /></div></div>"
      ],
      "text/plain": [
       "<Result 'County_Parcels_ExportFeatures8'>"
      ]
     },
     "execution_count": 33,
     "metadata": {},
     "output_type": "execute_result"
    }
   ],
   "source": [
    "#applying weights to fields rather than rasterized version of fields\n",
    "arcpy.management.CalculateField(\n",
    "    in_table=\"County_Parcels_ExportFeatures8\",\n",
    "    field=\"REBikeweighted3\",\n",
    "    expression=\"!REBike! * 0.36968132725644626\",\n",
    "    expression_type=\"PYTHON3\",\n",
    "    code_block=\"\",\n",
    "    field_type=\"DOUBLE\",\n",
    "    enforce_domains=\"NO_ENFORCE_DOMAINS\"\n",
    ")"
   ]
  },
  {
   "cell_type": "code",
   "execution_count": 34,
   "metadata": {},
   "outputs": [
    {
     "data": {
      "text/html": [
       "<div class='gpresult'><h2>Messages</h2><div id='messages'>Start Time: Monday, December 9, 2024 10:00:15 AM<br>Adding REStopweighted3 to County_Parcels_ExportFeatures8...<br>Succeeded at Monday, December 9, 2024 10:00:16 AM (Elapsed Time: 1.00 seconds)<br></div><div id = 'default' /></div></div>"
      ],
      "text/plain": [
       "<Result 'County_Parcels_ExportFeatures8'>"
      ]
     },
     "execution_count": 34,
     "metadata": {},
     "output_type": "execute_result"
    }
   ],
   "source": [
    "arcpy.management.CalculateField(\n",
    "    in_table=\"County_Parcels_ExportFeatures8\",\n",
    "    field=\"REStopweighted3\",\n",
    "    expression=\"!REStop! * 0.16060960519028494\",\n",
    "    expression_type=\"PYTHON3\",\n",
    "    code_block=\"\",\n",
    "    field_type=\"DOUBLE\",\n",
    "    enforce_domains=\"NO_ENFORCE_DOMAINS\"\n",
    ")"
   ]
  },
  {
   "cell_type": "code",
   "execution_count": 35,
   "metadata": {},
   "outputs": [
    {
     "data": {
      "text/html": [
       "<div class='gpresult'><h2>Messages</h2><div id='messages'>Start Time: Monday, December 9, 2024 10:00:18 AM<br>Adding REParkweighted3 to County_Parcels_ExportFeatures8...<br>Succeeded at Monday, December 9, 2024 10:00:19 AM (Elapsed Time: 1.02 seconds)<br></div><div id = 'default' /></div></div>"
      ],
      "text/plain": [
       "<Result 'County_Parcels_ExportFeatures8'>"
      ]
     },
     "execution_count": 35,
     "metadata": {},
     "output_type": "execute_result"
    }
   ],
   "source": [
    "#creates a new field\n",
    "arcpy.management.CalculateField(\n",
    "    in_table=\"County_Parcels_ExportFeatures8\",\n",
    "    field=\"REParkweighted3\",\n",
    "    expression=\"!REPark! * 0.4129581121657214\",\n",
    "    expression_type=\"PYTHON3\",\n",
    "    code_block=\"\",\n",
    "    field_type=\"DOUBLE\",\n",
    "    enforce_domains=\"NO_ENFORCE_DOMAINS\"\n",
    ")"
   ]
  },
  {
   "cell_type": "code",
   "execution_count": 36,
   "metadata": {},
   "outputs": [
    {
     "data": {
      "text/html": [
       "<div class='gpresult'><h2>Messages</h2><div id='messages'>Start Time: Monday, December 9, 2024 10:02:23 AM<br>Started Spark Job 1 with 8 tasks.<br>Spark Job 1 completed in 1.1 seconds.<br><br>Succeeded at Monday, December 9, 2024 10:02:37 AM (Elapsed Time: 13.77 seconds)<br></div><div id = 'default' /></div></div>"
      ],
      "text/plain": [
       "<Result 'C:\\\\Users\\\\bende287\\\\Documents\\\\ArcGIS\\\\Projects\\\\GIS5571FinalProj\\\\GIS5571FinalProj.gdb\\\\County_Parcels_CalculateField'>"
      ]
     },
     "execution_count": 36,
     "metadata": {},
     "output_type": "execute_result"
    }
   ],
   "source": [
    "#creates a new field for us to symbolize on\n",
    "arcpy.gapro.CalculateField(\n",
    "    input_layer=\"County_Parcels_ExportFeatures8\",\n",
    "    output=r\"C:\\Users\\bende287\\Documents\\ArcGIS\\Projects\\GIS5571FinalProj\\GIS5571FinalProj.gdb\\County_Parcels_CalculateField\",\n",
    "    field_to_calculate=\"NEW_FIELD\",\n",
    "    field_name=\"added3\",\n",
    "    existing_field=None,\n",
    "    field_type=\"DOUBLE\",\n",
    "    expression=\"$feature.MEAN + $feature.REParkweighted3 + $feature.REStopweighted3 + $feature.REBikeweighted3\",\n",
    "    track_aware=None,\n",
    "    track_fields=None,\n",
    "    time_boundary_split=None,\n",
    "    time_boundary_reference=None\n",
    ")"
   ]
  },
  {
   "cell_type": "code",
   "execution_count": 14,
   "metadata": {},
   "outputs": [
    {
     "data": {
      "text/html": [
       "<div class='gpresult'><h2>Messages</h2><div id='messages'>Start Time: Saturday, December 14, 2024 11:58:30 AM<br>Succeeded at Saturday, December 14, 2024 11:58:40 AM (Elapsed Time: 9.53 seconds)<br></div><div id = 'default' /></div></div>"
      ],
      "text/plain": [
       "<Result 'County_Parcels_schema1'>"
      ]
     },
     "execution_count": 14,
     "metadata": {},
     "output_type": "execute_result"
    }
   ],
   "source": [
    "arcpy.management.JoinField(\n",
    "    in_data=\"County_Parcels_schema1\",\n",
    "    in_field=\"OBJECTID\",\n",
    "    join_table=\"County_Parcels_Schema4\",\n",
    "    join_field=\"OBJECTID_1\",\n",
    "    fields=None,\n",
    "    fm_option=\"USE_FM\",\n",
    "    field_mapping='OBJECTID_1 \"OBJECTID\" true true false 4 Long 0 0,First,#,County_Parcels_Schema4,OBJECTID_1,-1,-1;added3 \"added3\" true true false 8 Double 0 0,First,#,County_Parcels_Schema4,added3,-1,-1',\n",
    "    index_join_fields=\"NO_INDEXES\"\n",
    ")"
   ]
  },
  {
   "cell_type": "code",
   "execution_count": 23,
   "metadata": {},
   "outputs": [
    {
     "name": "stdout",
     "output_type": "stream",
     "text": [
      "Minimum and maximum values calculated and stored in new fields.\n"
     ]
    }
   ],
   "source": [
    "#Set the path to your feature class or table\n",
    "input_fc = r\"C:\\Users\\bende287\\Documents\\ArcGIS\\Projects\\GIS5571FinalProj\\GIS5571FinalProj.gdb\\County_Parcels_schema1_ExportFeatures\"\n",
    "\n",
    "# List the fields to evaluate for min/max values\n",
    "fields_to_evaluate = [\"added\", \"added1\", \"added2\", \"added3\"]\n",
    "\n",
    "# Add new fields to store the min and max values\n",
    "min_field = \"MinValue\"\n",
    "max_field = \"MaxValue\"\n",
    "arcpy.AddField_management(input_fc, min_field, \"DOUBLE\")\n",
    "arcpy.AddField_management(input_fc, max_field, \"DOUBLE\")\n",
    "\n",
    "# Use an UpdateCursor to calculate the min and max values for each row\n",
    "with arcpy.da.UpdateCursor(input_fc, fields_to_evaluate + [min_field, max_field]) as cursor:\n",
    "    for row in cursor:\n",
    "        # Extract values from the specified fields\n",
    "        values = [row[fields_to_evaluate.index(field)] for field in fields_to_evaluate]\n",
    "        \n",
    "        # Calculate the min and max values, ignoring None (null values)\n",
    "        min_value = min(v for v in values if v is not None)\n",
    "        max_value = max(v for v in values if v is not None)\n",
    "        \n",
    "        # Update the new fields\n",
    "        row[len(fields_to_evaluate)] = min_value  # Assign to min_field\n",
    "        row[len(fields_to_evaluate) + 1] = max_value  # Assign to max_field\n",
    "        \n",
    "        # Update the row in the table\n",
    "        cursor.updateRow(row)\n",
    "\n",
    "print(\"Minimum and maximum values calculated and stored in new fields.\")"
   ]
  },
  {
   "cell_type": "code",
   "execution_count": 22,
   "metadata": {},
   "outputs": [
    {
     "name": "stdout",
     "output_type": "stream",
     "text": [
      "Minimum and maximum values calculated and stored in new fields.\n"
     ]
    }
   ],
   "source": [
    "#Set the path to your feature class or table\n",
    "input_fc = r\"C:\\Users\\bende287\\Documents\\ArcGIS\\Projects\\GIS5571FinalProj\\GIS5571FinalProj.gdb\\County_Parcels_schema1_ExportFeatures\"\n",
    "\n",
    "# List the fields to evaluate for min/max values\n",
    "fields_to_evaluate = [\"added\", \"added1\", \"added3\"]\n",
    "\n",
    "# Add new fields to store the min and max values\n",
    "min_field = \"MinValue1\"\n",
    "max_field = \"MaxValue1\"\n",
    "arcpy.AddField_management(input_fc, min_field, \"DOUBLE\")\n",
    "arcpy.AddField_management(input_fc, max_field, \"DOUBLE\")\n",
    "\n",
    "# Use an UpdateCursor to calculate the min and max values for each row\n",
    "with arcpy.da.UpdateCursor(input_fc, fields_to_evaluate + [min_field, max_field]) as cursor:\n",
    "    for row in cursor:\n",
    "        # Extract values from the specified fields\n",
    "        values = [row[fields_to_evaluate.index(field)] for field in fields_to_evaluate]\n",
    "        \n",
    "        # Calculate the min and max values, ignoring None (null values)\n",
    "        min_value = min(v for v in values if v is not None)\n",
    "        max_value = max(v for v in values if v is not None)\n",
    "        \n",
    "        # Update the new fields\n",
    "        row[len(fields_to_evaluate)] = min_value  # Assign to min_field\n",
    "        row[len(fields_to_evaluate) + 1] = max_value  # Assign to max_field\n",
    "        \n",
    "        # Update the row in the table\n",
    "        cursor.updateRow(row)\n",
    "\n",
    "print(\"Minimum and maximum values calculated and stored in new fields.\")"
   ]
  },
  {
   "cell_type": "code",
   "execution_count": 24,
   "metadata": {},
   "outputs": [
    {
     "data": {
      "text/html": [
       "<div class='gpresult'><h2>Messages</h2><div id='messages'>Start Time: Saturday, December 14, 2024 1:12:53 PM<br>Adding Range to County_Parcels_schema1_ExportFeatures...<br>Succeeded at Saturday, December 14, 2024 1:12:55 PM (Elapsed Time: 1.52 seconds)<br></div><div id = 'default' /></div></div>"
      ],
      "text/plain": [
       "<Result 'County_Parcels_schema1_ExportFeatures'>"
      ]
     },
     "execution_count": 24,
     "metadata": {},
     "output_type": "execute_result"
    }
   ],
   "source": [
    "arcpy.management.CalculateField(\n",
    "    in_table=\"County_Parcels_schema1_ExportFeatures\",\n",
    "    field=\"Range\",\n",
    "    expression=\"!MaxValue! - !MinValue!\",\n",
    "    expression_type=\"PYTHON3\",\n",
    "    code_block=\"\",\n",
    "    field_type=\"DOUBLE\",\n",
    "    enforce_domains=\"NO_ENFORCE_DOMAINS\"\n",
    ")"
   ]
  },
  {
   "cell_type": "code",
   "execution_count": 25,
   "metadata": {},
   "outputs": [
    {
     "data": {
      "text/html": [
       "<div class='gpresult'><h2>Messages</h2><div id='messages'>Start Time: Saturday, December 14, 2024 1:13:28 PM<br>Adding Range1 to County_Parcels_schema1_ExportFeatures...<br>Succeeded at Saturday, December 14, 2024 1:13:28 PM (Elapsed Time: 0.80 seconds)<br></div><div id = 'default' /></div></div>"
      ],
      "text/plain": [
       "<Result 'County_Parcels_schema1_ExportFeatures'>"
      ]
     },
     "execution_count": 25,
     "metadata": {},
     "output_type": "execute_result"
    }
   ],
   "source": [
    "arcpy.management.CalculateField(\n",
    "    in_table=\"County_Parcels_schema1_ExportFeatures\",\n",
    "    field=\"Range1\",\n",
    "    expression=\"!MaxValue1! - !MinValue1!\",\n",
    "    expression_type=\"PYTHON3\",\n",
    "    code_block=\"\",\n",
    "    field_type=\"DOUBLE\",\n",
    "    enforce_domains=\"NO_ENFORCE_DOMAINS\"\n",
    ")"
   ]
  },
  {
   "cell_type": "code",
   "execution_count": null,
   "metadata": {},
   "outputs": [],
   "source": []
  }
 ],
 "metadata": {
  "kernelspec": {
   "display_name": "ArcGISPro",
   "language": "Python",
   "name": "python3"
  },
  "language_info": {
   "file_extension": ".py",
   "name": "python",
   "version": "3"
  }
 },
 "nbformat": 4,
 "nbformat_minor": 2
}
