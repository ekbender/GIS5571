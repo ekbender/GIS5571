{
 "cells": [
  {
   "cell_type": "code",
   "execution_count": 1,
   "metadata": {},
   "outputs": [],
   "source": [
    "import io\n",
    "import arcpy\n",
    "import pandas as pd\n",
    "import requests\n",
    "from arcgis.features import GeoAccessor, GeoSeriesAccessor, FeatureSet\n",
    "from arcgis.widgets import MapView\n",
    "from zipfile import ZipFile\n",
    "import os\n",
    "from osgeo import ogr\n",
    "from arcgis.geometry import SpatialReference\n",
    "import sys\n"
   ]
  },
  {
   "cell_type": "code",
   "execution_count": 2,
   "metadata": {},
   "outputs": [],
   "source": [
    "from arcgis import GIS\n",
    "gis = GIS()"
   ]
  },
  {
   "cell_type": "code",
   "execution_count": 3,
   "metadata": {},
   "outputs": [],
   "source": [
    "# PART 1, STEP 1:\n",
    "# accessing lidar sample via api\n",
    "dnr_link = r'https://resources.gisdata.mn.gov/pub/data/elevation/lidar/examples/lidar_sample/las/4342-12-05.las'\n",
    "\n",
    "#download las file from MN DNR   \n",
    "dnr_response = requests.get(dnr_link, allow_redirects=True)"
   ]
  },
  {
   "cell_type": "code",
   "execution_count": 4,
   "metadata": {},
   "outputs": [
    {
     "data": {
      "text/plain": [
       "389814899"
      ]
     },
     "execution_count": 4,
     "metadata": {},
     "output_type": "execute_result"
    }
   ],
   "source": [
    "#open a new file and use the dot interface. write to put data in the file\n",
    "open(\"C:\\\\Users\\\\bende287\\Downloads\\\\4342-12-05.las\", 'wb').write(dnr_response.content)"
   ]
  },
  {
   "cell_type": "code",
   "execution_count": 5,
   "metadata": {},
   "outputs": [
    {
     "data": {
      "text/html": [
       "<div class='gpresult'><h2>Messages</h2><div id='messages'>Start Time: Wednesday, October 23, 2024 12:30:23 PM<br>Succeeded at Wednesday, October 23, 2024 12:30:23 PM (Elapsed Time: 0.39 seconds)<br></div><div id = 'default' /></div></div>"
      ],
      "text/plain": [
       "<Result 'las_layer'>"
      ]
     },
     "execution_count": 5,
     "metadata": {},
     "output_type": "execute_result"
    }
   ],
   "source": [
    "arcpy.env.workspace = \"C:\\\\Users\\\\bende287\\Downloads\"\n",
    "\n",
    "#make Las dataset layer to transform into TIN and DEM\n",
    "arcpy.management.MakeLasDatasetLayer('4342-12-05.las', 'las_layer')"
   ]
  },
  {
   "cell_type": "code",
   "execution_count": 6,
   "metadata": {
    "scrolled": true
   },
   "outputs": [
    {
     "data": {
      "text/html": [
       "<div class='gpresult'><h2>Messages</h2><div id='messages'>Start Time: Wednesday, October 23, 2024 12:30:24 PM<br>Succeeded at Wednesday, October 23, 2024 12:30:25 PM (Elapsed Time: 1.16 seconds)<br></div><div id = 'default' /></div></div>"
      ],
      "text/plain": [
       "<Result 'C:\\\\Users\\\\bende287\\\\Downloads\\\\las_TIN'>"
      ]
     },
     "execution_count": 6,
     "metadata": {},
     "output_type": "execute_result"
    }
   ],
   "source": [
    "#exports a triangulated irregular network from a LAS dataset- numbers for parameters were taken from documentation example!!\n",
    "arcpy.ddd.LasDatasetToTin('las_layer', 'las_TIN', 'RANDOM', 15, 3.28)"
   ]
  },
  {
   "cell_type": "code",
   "execution_count": 7,
   "metadata": {},
   "outputs": [
    {
     "data": {
      "text/html": [
       "<div class='gpresult'><h2>Messages</h2><div id='messages'>Start Time: Wednesday, October 23, 2024 12:30:27 PM<br>Succeeded at Wednesday, October 23, 2024 12:30:28 PM (Elapsed Time: 0.99 seconds)<br></div><div id = 'default' /></div></div>"
      ],
      "text/plain": [
       "<Result 'C:\\\\Users\\\\bende287\\\\Downloads\\\\las.tif'>"
      ]
     },
     "execution_count": 7,
     "metadata": {},
     "output_type": "execute_result"
    }
   ],
   "source": [
    "#converting layer to DEM\n",
    "arcpy.conversion.LasDatasetToRaster('las_layer', 'las.tif', 'ELEVATION')"
   ]
  },
  {
   "cell_type": "code",
   "execution_count": 8,
   "metadata": {
    "scrolled": true
   },
   "outputs": [
    {
     "name": "stdout",
     "output_type": "stream",
     "text": [
      "C:\\Users\\bende287\\Desktop\\EsriTraining\\PythEveryone\\PythEveryone\\PythonInArcGIS\\Providence\\GIS5571Lab1.aprx\n"
     ]
    }
   ],
   "source": [
    "\n",
    "aprx = arcpy.mp.ArcGISProject(\"CURRENT\")\n",
    "aprx.defaultGeodatabase = r'C:\\Users\\bende287\\Documents\\ArcGIS\\Projects\\MyProject1\\MyProject1.gdb'\n",
    "aprx.save()\n",
    "print(aprx.filePath)\n"
   ]
  },
  {
   "cell_type": "code",
   "execution_count": 9,
   "metadata": {},
   "outputs": [
    {
     "data": {
      "text/plain": [
       "'C:\\\\Users\\\\bende287\\\\Documents\\\\ArcGIS\\\\Projects\\\\MyProject1\\\\Output\\\\las_TIN1018.pdf'"
      ]
     },
     "execution_count": 9,
     "metadata": {},
     "output_type": "execute_result"
    }
   ],
   "source": [
    "#exporting TIN as PDF\n",
    "m = aprx.listMaps(\"Map2\")[0]\n",
    "lytTIN = aprx.listLayouts(\"Layout TIN\")[0]\n",
    "lytTIN.exportToPDF(r\"C:\\Users\\bende287\\Documents\\ArcGIS\\Projects\\MyProject1\\Output\\las_TIN1018.pdf\", resolution=300)"
   ]
  },
  {
   "cell_type": "code",
   "execution_count": 10,
   "metadata": {},
   "outputs": [
    {
     "data": {
      "text/plain": [
       "'C:\\\\Users\\\\bende287\\\\Documents\\\\ArcGIS\\\\Projects\\\\MyProject1\\\\Output\\\\las_DEM1018.pdf'"
      ]
     },
     "execution_count": 10,
     "metadata": {},
     "output_type": "execute_result"
    }
   ],
   "source": [
    "#exporting DEM as PDF\n",
    "lytDEM = aprx.listLayouts(\"Layout DEM\")[0]\n",
    "lytDEM.exportToPDF(r\"C:\\Users\\bende287\\Documents\\ArcGIS\\Projects\\MyProject1\\Output\\las_DEM1018.pdf\", resolution=300)"
   ]
  },
  {
   "cell_type": "code",
   "execution_count": 9,
   "metadata": {},
   "outputs": [],
   "source": [
    "#STEP 2: do this in maps- no code needed"
   ]
  },
  {
   "cell_type": "code",
   "execution_count": 11,
   "metadata": {},
   "outputs": [],
   "source": [
    "#STEP 3: \n",
    "\n",
    "#downloads the annual 30-Year Normals .bil files for precipitation from PRISM\n",
    "\n",
    "prism_link = r'https://ftp.prism.oregonstate.edu/normals/monthly/4km/ppt/PRISM_ppt_30yr_normal_4kmM4_all_bil.zip'\n",
    "prism_response = requests.get(prism_link, allow_redirects=True)"
   ]
  },
  {
   "cell_type": "code",
   "execution_count": 12,
   "metadata": {},
   "outputs": [
    {
     "data": {
      "text/plain": [
       "27839341"
      ]
     },
     "execution_count": 12,
     "metadata": {},
     "output_type": "execute_result"
    }
   ],
   "source": [
    "#open a new file and use the dot interface. write to put data in the file\n",
    "open(\"C:\\\\Users\\\\bende287\\Downloads\\\\PRISM_ppt_30yr_normal_4kmM4_all_bil.zip\", 'wb').write(prism_response.content)\n"
   ]
  },
  {
   "cell_type": "code",
   "execution_count": 13,
   "metadata": {},
   "outputs": [
    {
     "name": "stdout",
     "output_type": "stream",
     "text": [
      "File Name                                             Modified             Size\n",
      "PRISM_ppt_30yr_normal_4kmM4_01_bil.bil         2022-12-01 13:48:26      3490020\n",
      "PRISM_ppt_30yr_normal_4kmM4_01_bil.bil.aux.xml 2022-12-05 12:01:10          386\n",
      "PRISM_ppt_30yr_normal_4kmM4_01_bil.hdr         2022-12-01 13:48:26          316\n",
      "PRISM_ppt_30yr_normal_4kmM4_01_bil.info.txt    2022-12-01 16:32:10          510\n",
      "PRISM_ppt_30yr_normal_4kmM4_01_bil.prj         2022-12-01 13:48:26          166\n",
      "PRISM_ppt_30yr_normal_4kmM4_01_bil.stx         2022-12-01 13:48:26           35\n",
      "PRISM_ppt_30yr_normal_4kmM4_01_bil.xml         2022-12-05 12:01:10         8758\n",
      "PRISM_ppt_30yr_normal_4kmM4_02_bil.bil         2022-12-01 13:48:26      3490020\n",
      "PRISM_ppt_30yr_normal_4kmM4_02_bil.bil.aux.xml 2022-12-05 12:01:10          386\n",
      "PRISM_ppt_30yr_normal_4kmM4_02_bil.hdr         2022-12-01 13:48:26          316\n",
      "PRISM_ppt_30yr_normal_4kmM4_02_bil.info.txt    2022-12-01 16:32:10          510\n",
      "PRISM_ppt_30yr_normal_4kmM4_02_bil.prj         2022-12-01 13:48:26          166\n",
      "PRISM_ppt_30yr_normal_4kmM4_02_bil.stx         2022-12-01 13:48:26           35\n",
      "PRISM_ppt_30yr_normal_4kmM4_02_bil.xml         2022-12-05 12:01:10         8763\n",
      "PRISM_ppt_30yr_normal_4kmM4_03_bil.bil         2022-12-01 13:48:26      3490020\n",
      "PRISM_ppt_30yr_normal_4kmM4_03_bil.bil.aux.xml 2022-12-05 12:01:10          386\n",
      "PRISM_ppt_30yr_normal_4kmM4_03_bil.hdr         2022-12-01 13:48:26          316\n",
      "PRISM_ppt_30yr_normal_4kmM4_03_bil.info.txt    2022-12-01 16:32:10          510\n",
      "PRISM_ppt_30yr_normal_4kmM4_03_bil.prj         2022-12-01 13:48:26          166\n",
      "PRISM_ppt_30yr_normal_4kmM4_03_bil.stx         2022-12-01 13:48:26           35\n",
      "PRISM_ppt_30yr_normal_4kmM4_03_bil.xml         2022-12-05 12:01:10         8748\n",
      "PRISM_ppt_30yr_normal_4kmM4_04_bil.bil         2022-12-01 13:48:26      3490020\n",
      "PRISM_ppt_30yr_normal_4kmM4_04_bil.bil.aux.xml 2022-12-05 12:01:10          386\n",
      "PRISM_ppt_30yr_normal_4kmM4_04_bil.hdr         2022-12-01 13:48:26          316\n",
      "PRISM_ppt_30yr_normal_4kmM4_04_bil.info.txt    2022-12-01 16:32:10          510\n",
      "PRISM_ppt_30yr_normal_4kmM4_04_bil.prj         2022-12-01 13:48:26          166\n",
      "PRISM_ppt_30yr_normal_4kmM4_04_bil.stx         2022-12-01 13:48:26           35\n",
      "PRISM_ppt_30yr_normal_4kmM4_04_bil.xml         2022-12-05 12:01:10         8748\n",
      "PRISM_ppt_30yr_normal_4kmM4_05_bil.bil         2022-12-01 13:48:26      3490020\n",
      "PRISM_ppt_30yr_normal_4kmM4_05_bil.bil.aux.xml 2022-12-05 12:01:10          385\n",
      "PRISM_ppt_30yr_normal_4kmM4_05_bil.hdr         2022-12-01 13:48:26          316\n",
      "PRISM_ppt_30yr_normal_4kmM4_05_bil.info.txt    2022-12-01 16:32:10          510\n",
      "PRISM_ppt_30yr_normal_4kmM4_05_bil.prj         2022-12-01 13:48:26          166\n",
      "PRISM_ppt_30yr_normal_4kmM4_05_bil.stx         2022-12-01 13:48:26           34\n",
      "PRISM_ppt_30yr_normal_4kmM4_05_bil.xml         2022-12-05 12:01:10         8738\n",
      "PRISM_ppt_30yr_normal_4kmM4_06_bil.bil         2022-12-01 13:48:26      3490020\n",
      "PRISM_ppt_30yr_normal_4kmM4_06_bil.bil.aux.xml 2022-12-05 12:01:10          385\n",
      "PRISM_ppt_30yr_normal_4kmM4_06_bil.hdr         2022-12-01 13:48:26          316\n",
      "PRISM_ppt_30yr_normal_4kmM4_06_bil.info.txt    2022-12-01 16:32:10          510\n",
      "PRISM_ppt_30yr_normal_4kmM4_06_bil.prj         2022-12-01 13:48:26          166\n",
      "PRISM_ppt_30yr_normal_4kmM4_06_bil.stx         2022-12-01 13:48:26           34\n",
      "PRISM_ppt_30yr_normal_4kmM4_06_bil.xml         2022-12-05 12:01:10         8743\n",
      "PRISM_ppt_30yr_normal_4kmM4_07_bil.bil         2022-12-01 13:48:26      3490020\n",
      "PRISM_ppt_30yr_normal_4kmM4_07_bil.bil.aux.xml 2022-12-05 12:01:10          385\n",
      "PRISM_ppt_30yr_normal_4kmM4_07_bil.hdr         2022-12-01 13:48:26          316\n",
      "PRISM_ppt_30yr_normal_4kmM4_07_bil.info.txt    2022-12-01 16:32:10          510\n",
      "PRISM_ppt_30yr_normal_4kmM4_07_bil.prj         2022-12-01 13:48:26          166\n",
      "PRISM_ppt_30yr_normal_4kmM4_07_bil.stx         2022-12-01 13:48:26           34\n",
      "PRISM_ppt_30yr_normal_4kmM4_07_bil.xml         2022-12-05 12:01:10         8743\n",
      "PRISM_ppt_30yr_normal_4kmM4_08_bil.bil         2022-12-01 13:48:26      3490020\n",
      "PRISM_ppt_30yr_normal_4kmM4_08_bil.bil.aux.xml 2022-12-05 12:01:10          385\n",
      "PRISM_ppt_30yr_normal_4kmM4_08_bil.hdr         2022-12-01 13:48:26          316\n",
      "PRISM_ppt_30yr_normal_4kmM4_08_bil.info.txt    2022-12-01 16:32:10          510\n",
      "PRISM_ppt_30yr_normal_4kmM4_08_bil.prj         2022-12-01 13:48:26          166\n",
      "PRISM_ppt_30yr_normal_4kmM4_08_bil.stx         2022-12-01 13:48:26           34\n",
      "PRISM_ppt_30yr_normal_4kmM4_08_bil.xml         2022-12-05 12:01:10         8753\n",
      "PRISM_ppt_30yr_normal_4kmM4_09_bil.bil         2022-12-01 13:48:26      3490020\n",
      "PRISM_ppt_30yr_normal_4kmM4_09_bil.bil.aux.xml 2022-12-05 12:01:10          385\n",
      "PRISM_ppt_30yr_normal_4kmM4_09_bil.hdr         2022-12-01 13:48:26          316\n",
      "PRISM_ppt_30yr_normal_4kmM4_09_bil.info.txt    2022-12-01 16:32:10          510\n",
      "PRISM_ppt_30yr_normal_4kmM4_09_bil.prj         2022-12-01 13:48:26          166\n",
      "PRISM_ppt_30yr_normal_4kmM4_09_bil.stx         2022-12-01 13:48:26           34\n",
      "PRISM_ppt_30yr_normal_4kmM4_09_bil.xml         2022-12-05 12:01:10         8768\n",
      "PRISM_ppt_30yr_normal_4kmM4_10_bil.bil         2022-12-01 13:48:26      3490020\n",
      "PRISM_ppt_30yr_normal_4kmM4_10_bil.bil.aux.xml 2022-12-05 12:01:10          386\n",
      "PRISM_ppt_30yr_normal_4kmM4_10_bil.hdr         2022-12-01 13:48:26          316\n",
      "PRISM_ppt_30yr_normal_4kmM4_10_bil.info.txt    2022-12-01 16:32:10          510\n",
      "PRISM_ppt_30yr_normal_4kmM4_10_bil.prj         2022-12-01 13:48:26          166\n",
      "PRISM_ppt_30yr_normal_4kmM4_10_bil.stx         2022-12-01 13:48:26           35\n",
      "PRISM_ppt_30yr_normal_4kmM4_10_bil.xml         2022-12-05 12:01:10         8758\n",
      "PRISM_ppt_30yr_normal_4kmM4_11_bil.bil         2022-12-01 13:48:26      3490020\n",
      "PRISM_ppt_30yr_normal_4kmM4_11_bil.bil.aux.xml 2022-12-05 12:01:10          387\n",
      "PRISM_ppt_30yr_normal_4kmM4_11_bil.hdr         2022-12-01 13:48:26          316\n",
      "PRISM_ppt_30yr_normal_4kmM4_11_bil.info.txt    2022-12-01 16:32:10          510\n",
      "PRISM_ppt_30yr_normal_4kmM4_11_bil.prj         2022-12-01 13:48:26          166\n",
      "PRISM_ppt_30yr_normal_4kmM4_11_bil.stx         2022-12-01 13:48:26           36\n",
      "PRISM_ppt_30yr_normal_4kmM4_11_bil.xml         2022-12-05 12:01:10         8763\n",
      "PRISM_ppt_30yr_normal_4kmM4_12_bil.bil         2022-12-01 13:48:26      3490020\n",
      "PRISM_ppt_30yr_normal_4kmM4_12_bil.bil.aux.xml 2022-12-05 12:01:10          386\n",
      "PRISM_ppt_30yr_normal_4kmM4_12_bil.hdr         2022-12-01 13:48:26          316\n",
      "PRISM_ppt_30yr_normal_4kmM4_12_bil.info.txt    2022-12-01 16:32:10          510\n",
      "PRISM_ppt_30yr_normal_4kmM4_12_bil.prj         2022-12-01 13:48:26          166\n",
      "PRISM_ppt_30yr_normal_4kmM4_12_bil.stx         2022-12-01 13:48:26           35\n",
      "PRISM_ppt_30yr_normal_4kmM4_12_bil.xml         2022-12-05 12:01:10         8763\n",
      "PRISM_ppt_30yr_normal_4kmM4_annual_bil.bil     2022-12-01 13:48:26      3490020\n",
      "PRISM_ppt_30yr_normal_4kmM4_annual_bil.bil.aux.xml 2022-12-05 12:01:10          390\n",
      "PRISM_ppt_30yr_normal_4kmM4_annual_bil.hdr     2022-12-01 13:48:26          316\n",
      "PRISM_ppt_30yr_normal_4kmM4_annual_bil.info.txt 2022-12-05 10:03:48         1156\n",
      "PRISM_ppt_30yr_normal_4kmM4_annual_bil.prj     2022-12-01 13:48:26          166\n",
      "PRISM_ppt_30yr_normal_4kmM4_annual_bil.stx     2022-12-01 13:48:26           39\n",
      "PRISM_ppt_30yr_normal_4kmM4_annual_bil.xml     2022-12-05 12:01:10         8753\n",
      "PRISM_ppt_30yr_normal_4kmM4_01_bil.stn.csv     2022-12-01 13:50:00      1246865\n",
      "PRISM_ppt_30yr_normal_4kmM4_02_bil.stn.csv     2022-12-01 13:50:06      1246181\n",
      "PRISM_ppt_30yr_normal_4kmM4_03_bil.stn.csv     2022-12-01 13:50:04      1233431\n",
      "PRISM_ppt_30yr_normal_4kmM4_04_bil.stn.csv     2022-12-01 13:50:12      1323070\n",
      "PRISM_ppt_30yr_normal_4kmM4_05_bil.stn.csv     2022-12-01 13:49:58      1402629\n",
      "PRISM_ppt_30yr_normal_4kmM4_06_bil.stn.csv     2022-12-01 13:50:10      1400284\n",
      "PRISM_ppt_30yr_normal_4kmM4_07_bil.stn.csv     2022-12-01 13:50:00      1397703\n",
      "PRISM_ppt_30yr_normal_4kmM4_08_bil.stn.csv     2022-12-01 13:49:58      1410224\n",
      "PRISM_ppt_30yr_normal_4kmM4_09_bil.stn.csv     2022-12-01 13:50:04      1418989\n",
      "PRISM_ppt_30yr_normal_4kmM4_10_bil.stn.csv     2022-12-01 13:50:04      1297748\n",
      "PRISM_ppt_30yr_normal_4kmM4_11_bil.stn.csv     2022-12-01 13:49:58      1285934\n",
      "PRISM_ppt_30yr_normal_4kmM4_12_bil.stn.csv     2022-12-01 13:50:02      1261391\n",
      "Extracting all files now..\n",
      "Done!\n"
     ]
    }
   ],
   "source": [
    "#unzip file\n",
    "with ZipFile(\"C:\\\\Users\\\\bende287\\Downloads\\\\PRISM_ppt_30yr_normal_4kmM4_all_bil.zip\", 'r') as zip:\n",
    "    zip.printdir()\n",
    "    \n",
    "    print('Extracting all files now..')\n",
    "    zip.extractall(\"C:\\\\Users\\\\bende287\\Downloads\\\\PRISM_ppt_30yr_normal_4kmM4_all_bil\")\n",
    "    print('Done!')"
   ]
  },
  {
   "cell_type": "code",
   "execution_count": 14,
   "metadata": {},
   "outputs": [
    {
     "ename": "ExecuteError",
     "evalue": "ERROR 160326: The table already exists.\nFailed to execute (CreateMosaicDataset).\n",
     "output_type": "error",
     "traceback": [
      "\u001b[0;31m---------------------------------------------------------------------------\u001b[0m\n\u001b[0;31mExecuteError\u001b[0m                              Traceback (most recent call last)",
      "In  \u001b[0;34m[14]\u001b[0m:\nLine \u001b[0;34m1\u001b[0m:     arcpy.management.CreateMosaicDataset(\u001b[33mr\u001b[39;49;00m\u001b[33m'\u001b[39;49;00m\u001b[33mC:\u001b[39;49;00m\u001b[33m\\\u001b[39;49;00m\u001b[33mUsers\u001b[39;49;00m\u001b[33m\\\u001b[39;49;00m\u001b[33mbende287\u001b[39;49;00m\u001b[33m\\\u001b[39;49;00m\u001b[33mDocuments\u001b[39;49;00m\u001b[33m\\\u001b[39;49;00m\u001b[33mArcGIS\u001b[39;49;00m\u001b[33m\\\u001b[39;49;00m\u001b[33mProjects\u001b[39;49;00m\u001b[33m\\\u001b[39;49;00m\u001b[33mMyProject1\u001b[39;49;00m\u001b[33m\\\u001b[39;49;00m\u001b[33mMyProject1.gdb\u001b[39;49;00m\u001b[33m'\u001b[39;49;00m, \u001b[33m'\u001b[39;49;00m\u001b[33m30_year_mosaic\u001b[39;49;00m\u001b[33m'\u001b[39;49;00m, \u001b[34m4269\u001b[39;49;00m)\u001b[37m\u001b[39;49;00m\n",
      "File \u001b[0;34mC:\\Program Files\\ArcGIS\\Pro\\Resources\\ArcPy\\arcpy\\management.py\u001b[0m, in \u001b[0;32mCreateMosaicDataset\u001b[0m:\nLine \u001b[0;34m15932\u001b[0m: \u001b[34mraise\u001b[39;49;00m e\u001b[37m\u001b[39;49;00m\n",
      "File \u001b[0;34mC:\\Program Files\\ArcGIS\\Pro\\Resources\\ArcPy\\arcpy\\management.py\u001b[0m, in \u001b[0;32mCreateMosaicDataset\u001b[0m:\nLine \u001b[0;34m15929\u001b[0m: retval = convertArcObjectToPythonObject(gp.CreateMosaicDataset_management(*gp_fixargs((in_workspace, in_mosaicdataset_name, coordinate_system, num_bands, pixel_type, product_definition, product_band_definitions), \u001b[34mTrue\u001b[39;49;00m)))\u001b[37m\u001b[39;49;00m\n",
      "File \u001b[0;34mC:\\Program Files\\ArcGIS\\Pro\\Resources\\ArcPy\\arcpy\\geoprocessing\\_base.py\u001b[0m, in \u001b[0;32m<lambda>\u001b[0m:\nLine \u001b[0;34m512\u001b[0m:   \u001b[34mreturn\u001b[39;49;00m \u001b[34mlambda\u001b[39;49;00m *args: val(*gp_fixargs(args, \u001b[34mTrue\u001b[39;49;00m))\u001b[37m\u001b[39;49;00m\n",
      "\u001b[0;31mExecuteError\u001b[0m: ERROR 160326: The table already exists.\nFailed to execute (CreateMosaicDataset).\n\n\u001b[0;31m---------------------------------------------------------------------------\u001b[0m"
     ]
    }
   ],
   "source": [
    "arcpy.management.CreateMosaicDataset(r'C:\\Users\\bende287\\Documents\\ArcGIS\\Projects\\MyProject1\\MyProject1.gdb', '30_year_mosaic', 4269)"
   ]
  },
  {
   "cell_type": "code",
   "execution_count": 15,
   "metadata": {},
   "outputs": [
    {
     "data": {
      "text/html": [
       "<div class='gpresult'><h2>Messages</h2><div id='messages'>Start Time: Wednesday, October 23, 2024 12:31:59 PM<br>2024-10-23T12:31:59.261: Loading raster datasets<br>2024-10-23T12:31:59.293: Completed crawling 13 data source items. Added 13 mosaic dataset items.<br>2024-10-23T12:31:59.294: Synchronizing crawled data source items<br>2024-10-23T12:31:59.297: Synchronizing items associated with raster type instance &#39;Raster Dataset&#39; [ID: 4].<br>2024-10-23T12:31:59.405: Completed synchronization: 13 items selected, 13 items synchronized.<br>2024-10-23T12:31:59.410: Computing cell size levels<br>2024-10-23T12:31:59.410: Computing unique cell size values<br>2024-10-23T12:31:59.452: Computing maximum cell size values<br>2024-10-23T12:31:59.453: Computing minimum cell size values<br>2024-10-23T12:31:59.455: Updating visibility values of selected items<br>2024-10-23T12:31:59.463: Computing maximum cell size for mosaic dataset<br>2024-10-23T12:31:59.468: Completed computing cell size ranges.<br>2024-10-23T12:31:59.481: Completed building boundary.<br>Succeeded at Wednesday, October 23, 2024 12:32:00 PM (Elapsed Time: 1.22 seconds)<br></div><div id = 'default' /></div></div>"
      ],
      "text/plain": [
       "<Result 'T30_year_mosaic'>"
      ]
     },
     "execution_count": 15,
     "metadata": {},
     "output_type": "execute_result"
    }
   ],
   "source": [
    "#here we have 13 rasters to add -- 12 months, plus the annual\n",
    "arcpy.management.AddRastersToMosaicDataset('T30_year_mosaic', 'Raster Dataset', r'C:\\Users\\bende287\\Downloads\\PRISM_ppt_30yr_normal_4kmM4_all_bil')"
   ]
  },
  {
   "cell_type": "code",
   "execution_count": 16,
   "metadata": {},
   "outputs": [
    {
     "data": {
      "text/html": [
       "<div class='gpresult'><h2>Messages</h2><div id='messages'>Start Time: Wednesday, October 23, 2024 12:32:04 PM<br>Succeeded at Wednesday, October 23, 2024 12:32:04 PM (Elapsed Time: 0.35 seconds)<br></div><div id = 'default' /></div></div>"
      ],
      "text/plain": [
       "<Result 'T30_year_mosaic\\\\Footprint'>"
      ]
     },
     "execution_count": 16,
     "metadata": {},
     "output_type": "execute_result"
    }
   ],
   "source": [
    "#calculate timestamp and variable fields-- followed blog post\n",
    "arcpy.management.CalculateField(\n",
    "    in_table=r\"T30_year_mosaic\\Footprint\",\n",
    "    field=\"Variable\",\n",
    "    expression='\"30yr Normal\"',\n",
    "    expression_type=\"PYTHON3\",\n",
    "    code_block=\"\",\n",
    "    field_type=\"TEXT\",\n",
    "    enforce_domains=\"NO_ENFORCE_DOMAINS\"\n",
    ")"
   ]
  },
  {
   "cell_type": "code",
   "execution_count": 17,
   "metadata": {},
   "outputs": [
    {
     "data": {
      "text/html": [
       "<div class='gpresult'><h2>Messages</h2><div id='messages'>Start Time: Wednesday, October 23, 2024 12:32:08 PM<br>Succeeded at Wednesday, October 23, 2024 12:32:08 PM (Elapsed Time: 0.33 seconds)<br></div><div id = 'default' /></div></div>"
      ],
      "text/plain": [
       "<Result 'T30_year_mosaic\\\\Footprint'>"
      ]
     },
     "execution_count": 17,
     "metadata": {},
     "output_type": "execute_result"
    }
   ],
   "source": [
    "arcpy.management.AddField(\"T30_year_mosaic\", \"Timestamp5\", \"TEXT\", \"\", \"\", \"\")\n",
    "\n",
    "\n",
    "arcpy.management.CalculateField(\n",
    "    in_table=r\"T30_year_mosaic\\Footprint\",\n",
    "    field=\"Timestamp\",\n",
    "    expression=\"datetime.datetime(2023, int(!Name![-6:-4]), 1) if !Name![-6:-4].isdigit() else None\",\n",
    "    expression_type=\"PYTHON3\",\n",
    "    code_block=\"import datetime\",\n",
    "    field_type=\"DATE\",\n",
    "    enforce_domains=\"NO_ENFORCE_DOMAINS\"\n",
    ")\n"
   ]
  },
  {
   "cell_type": "code",
   "execution_count": 18,
   "metadata": {},
   "outputs": [
    {
     "data": {
      "text/html": [
       "<div class='gpresult'><h2>Messages</h2><div id='messages'>Start Time: Wednesday, October 23, 2024 12:32:13 PM<br>Succeeded at Wednesday, October 23, 2024 12:32:14 PM (Elapsed Time: 0.92 seconds)<br></div><div id = 'default' /></div></div>"
      ],
      "text/plain": [
       "<Result 'T30_year_mosaic'>"
      ]
     },
     "execution_count": 18,
     "metadata": {},
     "output_type": "execute_result"
    }
   ],
   "source": [
    "#build multidimensional info\n",
    "arcpy.md.BuildMultidimensionalInfo(\n",
    "    in_mosaic_dataset=\"T30_year_mosaic\",\n",
    "    variable_field=\"Variable\",\n",
    "    dimension_fields=\"Timestamp # #\",\n",
    "    variable_desc_units=None,\n",
    "    delete_multidimensional_info=\"NO_DELETE_MULTIDIMENSIONAL_INFO\"\n",
    ")"
   ]
  },
  {
   "cell_type": "code",
   "execution_count": 19,
   "metadata": {},
   "outputs": [
    {
     "data": {
      "text/html": [
       "<div class='gpresult'><h2>Messages</h2><div id='messages'>Start Time: Wednesday, October 23, 2024 12:32:16 PM<br>Succeeded at Wednesday, October 23, 2024 12:32:18 PM (Elapsed Time: 1.62 seconds)<br></div><div id = 'default' /></div></div>"
      ],
      "text/plain": [
       "<Result 'T30_year_mosaic_MultidimLayer1'>"
      ]
     },
     "execution_count": 19,
     "metadata": {},
     "output_type": "execute_result"
    }
   ],
   "source": [
    "#convert to MD raster layer\n",
    "arcpy.md.MakeMultidimensionalRasterLayer(\n",
    "    in_multidimensional_raster=\"T30_year_mosaic\",\n",
    "    out_multidimensional_raster_layer=\"T30_year_mosaic_MultidimLayer1\",\n",
    "    variables=\"'30yr Normal'\",\n",
    "    dimension_def=\"ALL\",\n",
    "    dimension_ranges=None,\n",
    "    dimension_values=None,\n",
    "    dimension=\"\",\n",
    "    start_of_first_iteration=\"\",\n",
    "    end_of_first_iteration=\"\",\n",
    "    iteration_step=None,\n",
    "    iteration_unit=\"\",\n",
    "    template='-125.020833333 24.0625000000001 -66.4791666663333 49.9375000000001 GEOGCS[\"GCS_North_American_1983\",DATUM[\"D_North_American_1983\",SPHEROID[\"GRS_1980\",6378137.0,298.257222101]],PRIMEM[\"Greenwich\",0.0],UNIT[\"Degree\",0.0174532925199433]]',\n",
    "    dimensionless=\"DIMENSIONS\",\n",
    "    spatial_reference=None\n",
    ")"
   ]
  },
  {
   "cell_type": "code",
   "execution_count": 20,
   "metadata": {},
   "outputs": [
    {
     "data": {
      "text/html": [
       "<div class='gpresult'><h2>Messages</h2><div id='messages' data-messages='[\"Start Time: Wednesday, October 23, 2024 12:32:20 PM\",\"WARNING 110290: This tool requires projected data to accurately measure distances.  The Input Multidimensional Raster Layer will be projected to the WGS 1984 World Equidistant Cylindrical projection (WKID 4087).\",\"WARNING 110013: The default Time Step Interval is 1 month.\",\"WARNING 110067: Your spatial reference is not compatible with CF Conventions.  You may experience difficulties using the resulting space-time cube with other NetCDF tools and software.\",[{\"element\":\"table\",\"data\":[[{\"data\":\"Input feature time extent\",\"prop\":{\"rowspan\":2}},\"2023-01-01 00:00:00\"],[{\"data\":\"to 2023-12-01 00:00:00\",\"prop\":{\"text-align\":\"right\"}}],[\"\",\"\"],[\"Number of time steps\",\"12\"],[\"Time step interval\",\"1 month\"],[\"Time step alignment\",\"End\"],[\"\",\"\"],[\"First time step temporal bias\",\"100.00%\"],[{\"data\":\"First time step interval\",\"prop\":{\"rowspan\":4}},\"after\"],[{\"data\":\"2022-12-01 00:00:00\",\"prop\":{\"text-align\":\"right\"}}],[{\"data\":\"to on or before\",\"prop\":{\"text-align\":\"right\"}}],[{\"data\":\"2023-01-01 00:00:00\",\"prop\":{\"text-align\":\"right\"}}],[\"\",\"\"],[\"Last time step temporal bias\",\"0.00%\"],[{\"data\":\"Last time step interval\",\"prop\":{\"rowspan\":4}},\"after\"],[{\"data\":\"2023-11-01 00:00:00\",\"prop\":{\"text-align\":\"right\"}}],[{\"data\":\"to on or before\",\"prop\":{\"text-align\":\"right\"}}],[{\"data\":\"2023-12-01 00:00:00\",\"prop\":{\"text-align\":\"right\"}}],[\"\",\"\"],[\"Coordinate System\",\"WGS 1984 World Equidistant Cylindrical\"],[\"Cube extent across space\",\"(coordinates in meters)\"],[\"Min X\",\"-13894063.9446\"],[\"Min Y\",\"2708361.9668\"],[\"Max X\",\"-7451448.4149\"],[\"Max Y\",\"5478283.7456\"]],\"elementProps\":{\"striped\":\"true\",\"noHeader\":true,\"title\":\"Space Time Cube Characteristics\",\"0\":{\"align\":\"left\",\"pad\":\"0px\",\"wrap\":true},\"1\":{\"align\":\"right\",\"pad\":\"0px\",\"wrap\":true}}}],[{\"element\":\"table\",\"data\":[[\"Locations\",\"481631\"],[\"Total observations\",\"5779572\"]],\"elementProps\":{\"striped\":\"true\",\"noHeader\":true,\"0\":{\"align\":\"left\",\"pad\":\"0px\",\"wrap\":true},\"1\":{\"align\":\"right\",\"pad\":\"0px\",\"wrap\":true}}}],[{\"element\":\"table\",\"data\":[[\"Trend direction\",\"Not Significant\"],[\"Trend statistic\",\"0.0000\"],[\"Trend p-value\",\"1.0000\"]],\"elementProps\":{\"striped\":\"true\",\"noHeader\":true,\"title\":\"Overall Data Trend - 30YR_NORMAL_NONE_ZEROS\",\"0\":{\"align\":\"left\",\"pad\":\"0px\",\"wrap\":true},\"1\":{\"align\":\"right\",\"pad\":\"0px\",\"wrap\":true}}}],\"Succeeded at Wednesday, October 23, 2024 12:35:46 PM (Elapsed Time: 3 minutes 25 seconds)\"]' data-show='true'><div id = 'default' /></div></div>"
      ],
      "text/plain": [
       "<Result 'C:\\\\Users\\\\bende287\\\\Documents\\\\ArcGIS\\\\Projects\\\\MyProject1\\\\spacetimecube1017.nc'>"
      ]
     },
     "execution_count": 20,
     "metadata": {},
     "output_type": "execute_result"
    }
   ],
   "source": [
    "#creates space time cube from multidimensional raster layer\n",
    "arcpy.stpm.CreateSpaceTimeCubeMDRasterLayer(\n",
    "    in_md_raster=\"T30_year_mosaic_MultidimLayer\",\n",
    "    output_cube=r\"C:\\Users\\bende287\\Documents\\ArcGIS\\Projects\\MyProject1\\spacetimecube1017.nc\",\n",
    "    fill_empty_bins=\"ZEROS\"\n",
    ")"
   ]
  },
  {
   "cell_type": "code",
   "execution_count": 8,
   "metadata": {},
   "outputs": [
    {
     "data": {
      "text/html": [
       "<div class='gpresult'><h2>Messages</h2><div id='messages'>Start Time: Friday, October 18, 2024 9:04:47 PM<br>WARNING 110044: The time it takes to render the cube in three dimensions may vary considerably based on the number of features and the graphics card associated with your CPU.<br>WARNING 110054: If some or all of your data is not drawing, it may fall outside of the Visibility Range limits, which can be cleared. If some or all of your data is underground, you may need to turn off Elevation Surfaces.<br>Succeeded at Friday, October 18, 2024 9:08:52 PM (Elapsed Time: 4 minutes 5 seconds)<br></div><div id = 'default' /></div></div>"
      ],
      "text/plain": [
       "<Result 'C:\\\\Users\\\\bende287\\\\Documents\\\\ArcGIS\\\\Projects\\\\MyProject1\\\\MyProject1.gdb\\\\spacetimecube1017_VisualizeSpaceTimeCube3D'>"
      ]
     },
     "execution_count": 8,
     "metadata": {},
     "output_type": "execute_result"
    }
   ],
   "source": [
    "arcpy.stpm.VisualizeSpaceTimeCube3D(\n",
    "    in_cube=r\"C:\\Users\\bende287\\Documents\\ArcGIS\\Projects\\MyProject1\\spacetimecube1017.nc\",\n",
    "    cube_variable=\"30YR_NORMAL_NONE_ZEROS\",\n",
    "    display_theme=\"VALUE\",\n",
    "    output_features=r\"C:\\Users\\bende287\\Documents\\ArcGIS\\Projects\\MyProject1\\MyProject1.gdb\\spacetimecube1017_VisualizeSpaceTimeCube3D\"\n",
    ")"
   ]
  }
 ],
 "metadata": {
  "kernelspec": {
   "display_name": "ArcGISPro",
   "language": "Python",
   "name": "python3"
  },
  "language_info": {
   "file_extension": ".py",
   "name": "python",
   "version": "3"
  }
 },
 "nbformat": 4,
 "nbformat_minor": 2
}
