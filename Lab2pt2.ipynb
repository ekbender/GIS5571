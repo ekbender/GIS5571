{
 "cells": [
  {
   "cell_type": "code",
   "execution_count": 11,
   "metadata": {},
   "outputs": [
    {
     "ename": "SyntaxError",
     "evalue": "invalid syntax (<string>, line 1)",
     "output_type": "error",
     "traceback": [
      "\u001b[0;31m---------------------------------------------------------------------------\u001b[0m\n\u001b[0;31mSyntaxError\u001b[0m                               Traceback (most recent call last)",
      "File \u001b[0;34mC:\\Program Files\\ArcGIS\\Pro\\bin\\Python\\envs\\arcgispro-py3\\Lib\\ast.py\u001b[0m, in \u001b[0;32mparse\u001b[0m:\nLine \u001b[0;34m50\u001b[0m:    \u001b[34mreturn\u001b[39;49;00m \u001b[36mcompile\u001b[39;49;00m(source, filename, mode, flags,\u001b[37m\u001b[39;49;00m\n",
      "\u001b[0;31mSyntaxError\u001b[0m: invalid syntax (<string>, line 1)\n\u001b[0;31m---------------------------------------------------------------------------\u001b[0m"
     ]
    }
   ],
   "source": [
    "pip install laspy\n",
    "pip install lazrs\n",
    "import io\n",
    "import arcpy\n",
    "import pandas as pd\n",
    "import requests\n",
    "from arcgis.features import GeoAccessor, GeoSeriesAccessor, FeatureSet\n",
    "from arcgis.widgets import MapView\n",
    "from zipfile import ZipFile\n",
    "import os\n",
    "from osgeo import ogr\n",
    "from arcgis.geometry import SpatialReference\n",
    "import sys\n",
    "import laspy"
   ]
  },
  {
   "cell_type": "code",
   "execution_count": 2,
   "metadata": {},
   "outputs": [],
   "source": [
    "from arcgis import GIS\n",
    "gis = GIS()"
   ]
  },
  {
   "cell_type": "code",
   "execution_count": 3,
   "metadata": {},
   "outputs": [],
   "source": [
    "landcover_link = r'https://resources.gisdata.mn.gov/pub/gdrs/data/pub/edu_umn/base_landcover_minnesota/tif_base_landcover_minnesota.zip'\n",
    "\n",
    "mngeo_response = requests.get(landcover_link, allow_redirects=True)"
   ]
  },
  {
   "cell_type": "code",
   "execution_count": 4,
   "metadata": {},
   "outputs": [
    {
     "data": {
      "text/plain": [
       "97106583"
      ]
     },
     "execution_count": 4,
     "metadata": {},
     "output_type": "execute_result"
    }
   ],
   "source": [
    "#open a new file and use the dot interface. write to put data in the file\n",
    "open(\"C:\\\\Users\\\\bende287\\Downloads\\\\tif_base_landcover_minnesota.zip\", 'wb').write(mngeo_response.content)"
   ]
  },
  {
   "cell_type": "code",
   "execution_count": 5,
   "metadata": {},
   "outputs": [
    {
     "name": "stdout",
     "output_type": "stream",
     "text": [
      "File Name                                             Modified             Size\n",
      "landcover_impervious_statewide2013_v2.tif      2016-07-21 11:21:44   1691043568\n",
      "metadata/metadata.html                         2016-10-21 11:43:38        31278\n",
      "metadata/metadata.xml                          2016-10-25 10:58:54        17434\n",
      "metadata/preview.jpg                           2016-10-21 11:43:38       320230\n",
      "metadata/Thumbs.db                             2016-11-22 13:50:36        22528\n",
      "Extracting all files now..\n",
      "Done!\n"
     ]
    }
   ],
   "source": [
    "#unzip file\n",
    "with ZipFile(\"C:\\\\Users\\\\bende287\\Downloads\\\\tif_base_landcover_minnesota.zip\", 'r') as zip:\n",
    "    zip.printdir()\n",
    "    \n",
    "    print('Extracting all files now..')\n",
    "    zip.extractall(\"C:\\\\Users\\\\bende287\\Downloads\\\\tif_base_landcover_minnesota\")\n",
    "    print('Done!')"
   ]
  },
  {
   "cell_type": "code",
   "execution_count": 6,
   "metadata": {},
   "outputs": [],
   "source": [
    "#state_park_link = r'https://resources.gisdata.mn.gov/pub/gdrs/data/pub/us_mn_state_dnr/bdry_dnr_lrs_prk/shp_bdry_dnr_lrs_prk.zip'- not using \n",
    "\n",
    "#slope data\n",
    "dem_link = r'https://resources.gisdata.mn.gov/pub/gdrs/data/pub/us_mn_state_dnr/elev_30m_digital_elevation_model/fgdb_elev_30m_digital_elevation_model.zip'\n",
    "\n",
    "dem_response = requests.get(dem_link, allow_redirects=True)"
   ]
  },
  {
   "cell_type": "code",
   "execution_count": 7,
   "metadata": {},
   "outputs": [
    {
     "data": {
      "text/plain": [
       "402844618"
      ]
     },
     "execution_count": 7,
     "metadata": {},
     "output_type": "execute_result"
    }
   ],
   "source": [
    "#open a new file and use the dot interface. write to put data in the file\n",
    "open(\"C:\\\\Users\\\\bende287\\Downloads\\\\fgdb_elev_30m_digital_elevation_model.zip\", 'wb').write(dem_response.content)"
   ]
  },
  {
   "cell_type": "code",
   "execution_count": 8,
   "metadata": {},
   "outputs": [
    {
     "name": "stdout",
     "output_type": "stream",
     "text": [
      "File Name                                             Modified             Size\n",
      "Digital Elevation Model - 30m Resolution.lyr   2011-06-14 11:56:48       140800\n",
      "metadata/metadata.html                         2021-02-24 09:08:54        12251\n",
      "metadata/metadata.xml                          2021-02-24 09:08:50         5308\n",
      "metadata/old/metadata.html.2012_03_06_12_26_44 2012-03-06 12:26:44        28704\n",
      "metadata/old/metadata.html.2012_03_06_12_28_21 2012-03-06 12:28:20        28704\n",
      "metadata/old/metadata.html.2012_03_06_12_30_53 2012-03-06 12:30:52        28704\n",
      "metadata/old/metadata.xml.2012_03_06_12_26_44  2012-03-06 12:26:44         7942\n",
      "metadata/old/metadata.xml.2012_03_06_12_30_53  2012-03-06 12:30:52         7942\n",
      "metadata/old/metadata.xml.2012_03_06_12_28_21  2012-03-06 12:28:20         7942\n",
      "metadata/shdr_clrim3/shdr_clrim3.sgml          2010-06-09 18:00:26         7576\n",
      "metadata/shdr_clrim3/shdr_clrim3.xml           2010-06-09 17:38:16         7600\n",
      "metadata/shdr_clrim3/shdr_clrim3.html          2011-01-27 14:55:20        28106\n",
      "metadata/elev_dem30ra3/metadata.html           2010-06-16 11:46:32        28704\n",
      "metadata/elev_dem30ra3/metadata.xml            2010-06-16 11:46:32         7920\n",
      "metadata/elev_dem30ra3/metadata.sgml           2010-06-16 11:46:32         7896\n",
      "metadata/shdr_bwim3/metadata.html              2011-01-27 14:47:02        27645\n",
      "metadata/shdr_bwim3/metadata.xml               2010-06-09 17:37:24         7103\n",
      "metadata/shdr_bwim3/metadata.sgml              2010-06-09 17:59:34         7079\n",
      "elev_30m_digital_elevation_model.gdb/a0000000e.gdbtable 2011-04-13 13:10:46        18203\n",
      "elev_30m_digital_elevation_model.gdb/a0000000d.gdbtablx 2011-04-13 13:10:46         5152\n",
      "elev_30m_digital_elevation_model.gdb/a00000016.gdbtablx 2011-04-13 15:19:28         5152\n",
      "elev_30m_digital_elevation_model.gdb/a00000010.gdbtable 2011-04-13 15:14:22          224\n",
      "elev_30m_digital_elevation_model.gdb/a0000000e.gdbindexes 2011-04-13 13:10:26           66\n",
      "elev_30m_digital_elevation_model.gdb/a00000006.CatRelTypesByBackwardLabel.atx 2022-08-31 09:21:36        12310\n",
      "elev_30m_digital_elevation_model.gdb/a00000010.gdbindexes 2011-04-13 15:12:46           70\n",
      "elev_30m_digital_elevation_model.gdb/a00000004.gdbtable 2012-01-09 12:56:54       738899\n",
      "elev_30m_digital_elevation_model.gdb/a00000016.gdbtable 2011-04-13 15:19:28         3056\n",
      "elev_30m_digital_elevation_model.gdb/a00000012.gdbtable 2011-04-13 15:14:22    179769639\n",
      "elev_30m_digital_elevation_model.gdb/a00000006.gdbindexes 2011-04-13 13:07:00          602\n",
      "elev_30m_digital_elevation_model.gdb/a00000012.col_index.atx 2011-04-13 15:14:22       348182\n",
      "elev_30m_digital_elevation_model.gdb/a00000007.gdbindexes 2011-04-13 13:07:00          296\n",
      "elev_30m_digital_elevation_model.gdb/a00000017.gdbtablx 2011-04-13 15:19:18       174112\n",
      "elev_30m_digital_elevation_model.gdb/a00000014.gdbindexes 2011-04-13 15:17:02          112\n",
      "elev_30m_digital_elevation_model.gdb/a0000000c.gdbtablx 2011-04-13 13:10:26       107552\n",
      "elev_30m_digital_elevation_model.gdb/a00000004.CatItemsByType.atx 2012-01-09 12:56:54         4118\n",
      "elev_30m_digital_elevation_model.gdb/a00000013.gdbindexes 2011-04-13 15:12:46           86\n",
      "elev_30m_digital_elevation_model.gdb/a00000006.CatRelTypesByOriginItemTypeID.atx 2022-08-31 09:21:36         4118\n",
      "elev_30m_digital_elevation_model.gdb/a00000015.gdbtable 2011-04-13 15:19:18          224\n",
      "elev_30m_digital_elevation_model.gdb/a00000005.FDO_UUID.atx 2012-01-09 12:56:54         4118\n",
      "elev_30m_digital_elevation_model.gdb/a00000007.gdbtable 2022-08-31 09:21:36         2021\n",
      "elev_30m_digital_elevation_model.gdb/a00000011.gdbtable 2011-04-13 15:14:34         3056\n",
      "elev_30m_digital_elevation_model.gdb/a00000009.gdbtablx 2011-04-13 13:10:46         5152\n",
      "elev_30m_digital_elevation_model.gdb/a00000004.gdbindexes 2011-04-13 13:06:58          310\n",
      "elev_30m_digital_elevation_model.gdb/a0000000c.blk_key_index.atx 2011-04-13 13:10:26      2048022\n",
      "elev_30m_digital_elevation_model.gdb/a00000017.blk_key_index.atx 2011-04-13 15:19:18      3407894\n",
      "elev_30m_digital_elevation_model.gdb/a0000000f.gdbtablx 2011-04-13 15:14:34         5152\n",
      "elev_30m_digital_elevation_model.gdb/a00000014.spx 2011-04-13 15:17:02         4118\n",
      "elev_30m_digital_elevation_model.gdb/a00000018.gdbtablx 2011-04-13 15:19:28         5152\n",
      "elev_30m_digital_elevation_model.gdb/a00000012.gdbindexes 2011-04-13 15:12:46          240\n",
      "elev_30m_digital_elevation_model.gdb/a00000004.horizon 2022-08-31 09:21:36           32\n",
      "elev_30m_digital_elevation_model.gdb/a0000000c.col_index.atx 2011-04-13 13:10:26       204822\n",
      "elev_30m_digital_elevation_model.gdb/a00000005.CatRelsByDestinationID.atx 2012-01-09 12:56:54         4118\n",
      "elev_30m_digital_elevation_model.gdb/a00000015.gdbindexes 2011-04-13 15:17:02           70\n",
      "elev_30m_digital_elevation_model.gdb/a00000001.gdbtable 2012-01-09 12:56:54         2279\n",
      "elev_30m_digital_elevation_model.gdb/a00000013.gdbtable 2011-04-13 15:14:34          598\n",
      "elev_30m_digital_elevation_model.gdb/a0000000b.gdbtablx 2011-04-13 13:10:46         5152\n",
      "elev_30m_digital_elevation_model.gdb/a00000007.CatItemTypesByUUID.atx 2022-08-31 09:21:36         4118\n",
      "elev_30m_digital_elevation_model.gdb/a00000003.gdbindexes 2011-04-13 13:06:58           42\n",
      "elev_30m_digital_elevation_model.gdb/a00000017.gdbindexes 2011-04-13 15:17:02          240\n",
      "elev_30m_digital_elevation_model.gdb/a0000000a.gdbindexes 2011-04-13 13:07:46           70\n",
      "elev_30m_digital_elevation_model.gdb/a0000000a.gdbtablx 2012-10-15 12:27:32         5152\n",
      "elev_30m_digital_elevation_model.gdb/a00000007.gdbtablx 2022-08-31 09:21:36         5152\n",
      "elev_30m_digital_elevation_model.gdb/a00000009.horizon 2022-08-31 09:21:36           32\n",
      "elev_30m_digital_elevation_model.gdb/a0000000b.gdbindexes 2011-04-13 13:07:46           66\n",
      "elev_30m_digital_elevation_model.gdb/a00000001.gdbtablx 2012-01-09 12:56:54         5152\n",
      "elev_30m_digital_elevation_model.gdb/a00000001.TablesByName.atx 2012-01-09 12:56:54        36886\n",
      "elev_30m_digital_elevation_model.gdb/a00000006.CatRelTypesByUUID.atx 2022-08-31 09:21:36         4118\n",
      "elev_30m_digital_elevation_model.gdb/a00000011.gdbtablx 2011-04-13 15:14:34         5152\n",
      "elev_30m_digital_elevation_model.gdb/a00000013.gdbtablx 2011-04-13 15:14:34         5152\n",
      "elev_30m_digital_elevation_model.gdb/a00000005.CatRelsByType.atx 2012-01-09 12:56:54         4118\n",
      "elev_30m_digital_elevation_model.gdb/a00000004.gdbtablx 2012-01-09 12:56:54         5152\n",
      "elev_30m_digital_elevation_model.gdb/a00000007.CatItemTypesByName.atx 2022-08-31 09:21:36        12310\n",
      "elev_30m_digital_elevation_model.gdb/a00000004.spx 2012-01-09 12:56:54       389142\n",
      "elev_30m_digital_elevation_model.gdb/a00000005.gdbtable 2012-01-09 12:56:54         6395\n",
      "elev_30m_digital_elevation_model.gdb/a00000016.freelist 2011-04-13 15:19:28         4440\n",
      "elev_30m_digital_elevation_model.gdb/a0000000a.gdbtable 2011-04-13 13:10:26          224\n",
      "elev_30m_digital_elevation_model.gdb/a0000000f.gdbindexes 2011-04-13 15:12:46          112\n",
      "elev_30m_digital_elevation_model.gdb/a00000012.blk_key_index.atx 2011-04-13 15:14:22      3407894\n",
      "elev_30m_digital_elevation_model.gdb/a00000002.gdbtablx 2011-04-13 13:06:58         5152\n",
      "elev_30m_digital_elevation_model.gdb/a00000017.gdbtable 2011-04-13 15:19:18     66078433\n",
      "elev_30m_digital_elevation_model.gdb/a0000000c.gdbtable 2011-04-13 13:10:26    158932473\n",
      "elev_30m_digital_elevation_model.gdb/a00000011.gdbindexes 2011-04-13 15:12:46           66\n",
      "elev_30m_digital_elevation_model.gdb/a00000002.gdbtable 2011-04-13 13:06:58         1456\n",
      "elev_30m_digital_elevation_model.gdb/a00000001.freelist 2012-01-09 12:56:54        16728\n",
      "elev_30m_digital_elevation_model.gdb/a00000004.freelist 2012-01-09 12:56:54        45400\n",
      "elev_30m_digital_elevation_model.gdb/a00000006.CatRelTypesByForwardLabel.atx 2022-08-31 09:21:36        12310\n",
      "elev_30m_digital_elevation_model.gdb/a00000005.gdbtablx 2012-01-09 12:56:54         5152\n",
      "elev_30m_digital_elevation_model.gdb/a0000000d.gdbtable 2011-04-13 13:10:46          598\n",
      "elev_30m_digital_elevation_model.gdb/a00000018.gdbindexes 2011-04-13 15:17:02           86\n",
      "elev_30m_digital_elevation_model.gdb/a00000001.gdbindexes 2011-04-13 13:06:58          110\n"
     ]
    },
    {
     "name": "stdout",
     "output_type": "stream",
     "text": [
      "elev_30m_digital_elevation_model.gdb/a0000000e.gdbtablx 2011-04-13 13:10:46        10272\n",
      "elev_30m_digital_elevation_model.gdb/a00000003.gdbtable 2011-10-25 10:19:28         2305\n",
      "elev_30m_digital_elevation_model.gdb/a00000005.freelist 2012-01-09 12:56:54         4440\n",
      "elev_30m_digital_elevation_model.gdb/a00000006.CatRelTypesByDestItemTypeID.atx 2022-08-31 09:21:36         4118\n",
      "elev_30m_digital_elevation_model.gdb/a00000007.CatItemTypesByParentTypeID.atx 2022-08-31 09:21:36         4118\n",
      "elev_30m_digital_elevation_model.gdb/a00000005.CatRelsByOriginID.atx 2012-01-09 12:56:54         4118\n",
      "elev_30m_digital_elevation_model.gdb/a0000000b.freelist 2011-04-13 13:10:46         4440\n",
      "elev_30m_digital_elevation_model.gdb/a00000018.gdbtable 2011-04-13 15:19:28          598\n",
      "elev_30m_digital_elevation_model.gdb/a00000010.gdbtablx 2012-04-19 11:34:44         5152\n",
      "elev_30m_digital_elevation_model.gdb/a0000000d.gdbindexes 2011-04-13 13:07:46           86\n",
      "elev_30m_digital_elevation_model.gdb/a0000000c.row_index.atx 2011-04-13 13:10:26       262166\n",
      "elev_30m_digital_elevation_model.gdb/gdb       2011-04-13 13:07:00            4\n",
      "elev_30m_digital_elevation_model.gdb/a00000005.gdbindexes 2011-04-13 13:07:00          318\n",
      "elev_30m_digital_elevation_model.gdb/a00000016.gdbindexes 2011-04-13 15:17:02           66\n",
      "elev_30m_digital_elevation_model.gdb/a00000003.gdbtablx 2011-10-25 10:19:28         5152\n",
      "elev_30m_digital_elevation_model.gdb/a00000017.row_index.atx 2011-04-13 15:19:18       409622\n",
      "elev_30m_digital_elevation_model.gdb/a0000000f.horizon 2022-08-31 09:21:36           32\n",
      "elev_30m_digital_elevation_model.gdb/a00000009.gdbtable 2011-04-13 13:10:46         2221\n",
      "elev_30m_digital_elevation_model.gdb/timestamps 2022-08-31 09:21:36          400\n",
      "elev_30m_digital_elevation_model.gdb/a00000012.row_index.atx 2011-04-13 15:14:22       409622\n",
      "elev_30m_digital_elevation_model.gdb/a0000000c.gdbindexes 2011-04-13 13:07:46          240\n",
      "elev_30m_digital_elevation_model.gdb/a00000009.spx 2011-04-13 13:07:46         4118\n",
      "elev_30m_digital_elevation_model.gdb/a00000012.gdbtablx 2011-04-13 15:14:22       174112\n",
      "elev_30m_digital_elevation_model.gdb/a00000014.gdbtable 2011-04-13 15:19:28         2265\n",
      "elev_30m_digital_elevation_model.gdb/a00000006.CatRelTypesByName.atx 2022-08-31 09:21:36        12310\n",
      "elev_30m_digital_elevation_model.gdb/a00000009.gdbindexes 2011-04-13 13:07:46          112\n",
      "elev_30m_digital_elevation_model.gdb/a00000014.horizon 2022-08-31 09:21:36           32\n",
      "elev_30m_digital_elevation_model.gdb/a00000015.gdbtablx 2012-10-15 12:23:36         5152\n",
      "elev_30m_digital_elevation_model.gdb/a00000006.gdbtable 2022-08-31 09:21:36         3626\n",
      "elev_30m_digital_elevation_model.gdb/a0000000f.gdbtable 2011-04-13 15:14:34         2265\n",
      "elev_30m_digital_elevation_model.gdb/a00000011.freelist 2011-04-13 15:14:34         4440\n",
      "elev_30m_digital_elevation_model.gdb/a00000006.gdbtablx 2022-08-31 09:21:36         5152\n",
      "elev_30m_digital_elevation_model.gdb/a00000017.col_index.atx 2011-04-13 15:19:18       348182\n",
      "elev_30m_digital_elevation_model.gdb/a00000014.gdbtablx 2011-04-13 15:19:28         5152\n",
      "elev_30m_digital_elevation_model.gdb/a00000004.FDO_UUID.atx 2012-01-09 12:56:54         4118\n",
      "elev_30m_digital_elevation_model.gdb/a0000000b.gdbtable 2011-04-13 13:10:46         2319\n",
      "elev_30m_digital_elevation_model.gdb/a00000004.CatItemsByPhysicalName.atx 2012-01-09 12:56:54        28694\n",
      "elev_30m_digital_elevation_model.gdb/a0000000f.spx 2011-04-13 15:12:46         4118\n",
      "Extracting all files now..\n",
      "Done!\n"
     ]
    }
   ],
   "source": [
    "#unzip file\n",
    "with ZipFile(\"C:\\\\Users\\\\bende287\\Downloads\\\\fgdb_elev_30m_digital_elevation_model.zip\", 'r') as zip:\n",
    "    zip.printdir()\n",
    "    \n",
    "    print('Extracting all files now..')\n",
    "    zip.extractall(\"C:\\\\Users\\\\bende287\\Downloads\\\\fgdb_elev_30m_digital_elevation_model\")\n",
    "    print('Done!')"
   ]
  },
  {
   "cell_type": "code",
   "execution_count": 18,
   "metadata": {},
   "outputs": [
    {
     "name": "stdout",
     "output_type": "stream",
     "text": [
      "https://resources.gisdata.mn.gov/pub/data/elevation/lidar/county/winona/laz/4342-31-62.laz\n",
      "https://resources.gisdata.mn.gov/pub/data/elevation/lidar/county/winona/laz/4342-30-62.laz\n",
      "https://resources.gisdata.mn.gov/pub/data/elevation/lidar/county/winona/laz/4342-30-63.laz\n",
      "https://resources.gisdata.mn.gov/pub/data/elevation/lidar/county/winona/laz/4342-29-63.laz\n",
      "https://resources.gisdata.mn.gov/pub/data/elevation/lidar/county/winona/laz/4342-28-63.laz\n",
      "https://resources.gisdata.mn.gov/pub/data/elevation/lidar/county/winona/laz/4342-29-61.laz\n"
     ]
    }
   ],
   "source": [
    "winona_tiles = [\"4342-31-62\", \"4342-30-62\", \"4342-30-63\", \"4342-29-63\", \"4342-28-63\", \"4342-29-61\"]\n",
    "\n",
    "wabasha_tiles = [\"4342-29-60\", \"4342-29-62\", \"4342-29-59\", \"4342-28-61\", \"4342-28-62\", \"4342-28-60\", \"4342-28-59\", \"4342-31-63\"]\n",
    "\n",
    "\n",
    "for tile in winona_tiles:\n",
    "    winona_link = r'https://resources.gisdata.mn.gov/pub/data/elevation/lidar/county/winona/laz/' + str(tile) + '.laz'\n",
    "    print(winona_link)\n",
    "    winona_response = requests.get(winona_link).content\n",
    "    open(r'C:\\Users\\bende287\\Downloads\\laz' + str(tile) + '.laz', 'wb').write(winona_response)\n",
    "\n"
   ]
  },
  {
   "cell_type": "code",
   "execution_count": 19,
   "metadata": {},
   "outputs": [
    {
     "name": "stdout",
     "output_type": "stream",
     "text": [
      "https://resources.gisdata.mn.gov/pub/data/elevation/lidar/county/wabasha/laz/4342-29-60.laz\n",
      "https://resources.gisdata.mn.gov/pub/data/elevation/lidar/county/wabasha/laz/4342-29-62.laz\n",
      "https://resources.gisdata.mn.gov/pub/data/elevation/lidar/county/wabasha/laz/4342-29-59.laz\n",
      "https://resources.gisdata.mn.gov/pub/data/elevation/lidar/county/wabasha/laz/4342-28-61.laz\n",
      "https://resources.gisdata.mn.gov/pub/data/elevation/lidar/county/wabasha/laz/4342-28-62.laz\n",
      "https://resources.gisdata.mn.gov/pub/data/elevation/lidar/county/wabasha/laz/4342-28-60.laz\n",
      "https://resources.gisdata.mn.gov/pub/data/elevation/lidar/county/wabasha/laz/4342-28-59.laz\n",
      "https://resources.gisdata.mn.gov/pub/data/elevation/lidar/county/wabasha/laz/4342-31-63.laz\n"
     ]
    }
   ],
   "source": [
    "for tile in wabasha_tiles:\n",
    "    wabasha_link = r'https://resources.gisdata.mn.gov/pub/data/elevation/lidar/county/wabasha/laz/' + str(tile) + '.laz'\n",
    "    print(wabasha_link)\n",
    "    wabasha_response = requests.get(wabasha_link).content\n",
    "    open(r'C:\\Users\\bende287\\Downloads\\laz' + str(tile) + '.laz', 'wb').write(wabasha_response)"
   ]
  },
  {
   "cell_type": "code",
   "execution_count": 23,
   "metadata": {},
   "outputs": [
    {
     "ename": "ExecuteError",
     "evalue": "ERROR 999999: Something unexpected caused the tool to fail. Contact Esri Technical Support (http://esriurl.com/support) to Report a Bug, and refer to the error help for potential solutions or workarounds.\nFailed to execute (ConvertLas).\n",
     "output_type": "error",
     "traceback": [
      "\u001b[0;31m---------------------------------------------------------------------------\u001b[0m\n\u001b[0;31mExecuteError\u001b[0m                              Traceback (most recent call last)",
      "In  \u001b[0;34m[23]\u001b[0m:\nLine \u001b[0;34m4\u001b[0m:     arcpy.conversion.ConvertLas(\u001b[37m\u001b[39;49;00m\n",
      "File \u001b[0;34mC:\\Program Files\\ArcGIS\\Pro\\Resources\\ArcPy\\arcpy\\conversion.py\u001b[0m, in \u001b[0;32mConvertLas\u001b[0m:\nLine \u001b[0;34m1431\u001b[0m:  \u001b[34mraise\u001b[39;49;00m e\u001b[37m\u001b[39;49;00m\n",
      "File \u001b[0;34mC:\\Program Files\\ArcGIS\\Pro\\Resources\\ArcPy\\arcpy\\conversion.py\u001b[0m, in \u001b[0;32mConvertLas\u001b[0m:\nLine \u001b[0;34m1428\u001b[0m:  retval = convertArcObjectToPythonObject(gp.ConvertLas_conversion(*gp_fixargs((in_las, target_folder, file_version, point_format, compression, las_options, out_las_dataset, define_coordinate_system, in_coordinate_system), \u001b[34mTrue\u001b[39;49;00m)))\u001b[37m\u001b[39;49;00m\n",
      "File \u001b[0;34mC:\\Program Files\\ArcGIS\\Pro\\Resources\\ArcPy\\arcpy\\geoprocessing\\_base.py\u001b[0m, in \u001b[0;32m<lambda>\u001b[0m:\nLine \u001b[0;34m512\u001b[0m:   \u001b[34mreturn\u001b[39;49;00m \u001b[34mlambda\u001b[39;49;00m *args: val(*gp_fixargs(args, \u001b[34mTrue\u001b[39;49;00m))\u001b[37m\u001b[39;49;00m\n",
      "\u001b[0;31mExecuteError\u001b[0m: ERROR 999999: Something unexpected caused the tool to fail. Contact Esri Technical Support (http://esriurl.com/support) to Report a Bug, and refer to the error help for potential solutions or workarounds.\nFailed to execute (ConvertLas).\n\n\u001b[0;31m---------------------------------------------------------------------------\u001b[0m"
     ]
    }
   ],
   "source": [
    "all_tiles = [\"4342-31-62\", \"4342-30-62\", \"4342-30-63\", \"4342-29-63\", \"4342-28-63\", \"4342-29-61\", \"4342-29-60\", \"4342-29-62\", \"4342-29-59\", \"4342-28-61\", \"4342-28-62\", \"4342-28-60\", \"4342-28-59\", \"4342-31-63\"]\n",
    "\n",
    "for tiles in all_tiles:\n",
    "    arcpy.conversion.ConvertLas(\n",
    "    in_las=r\"C:\\Users\\bende287\\Downloads\\laz\" + str(tile) + '.laz',\n",
    "    target_folder=r\"C:\\Users\\bende287\\Documents\\GIS5571\",\n",
    "    file_version=\"SAME_AS_INPUT\",\n",
    "    point_format=\"\",\n",
    "    compression=\"NO_COMPRESSION\",\n",
    "    las_options=\"REARRANGE_POINTS\",\n",
    "    out_las_dataset=r\"C:\\Users\\bende287\\Documents\\GIS5571\\lab2_all_tiles.lasd\",\n",
    "    define_coordinate_system=\"ALL_FILES\",\n",
    "    in_coordinate_system='GEOGCS[\"GCS_North_American_1983\",DATUM[\"D_North_American_1983\",SPHEROID[\"GRS_1980\",6378137.0,298.257222101]],PRIMEM[\"Greenwich\",0.0],UNIT[\"Degree\",0.0174532925199433]]'\n",
    ")"
   ]
  },
  {
   "cell_type": "code",
   "execution_count": null,
   "metadata": {},
   "outputs": [],
   "source": [
    "#converting layer to DEM-- I took other parameters out because it was not running..\n",
    "arcpy.conversion.LasDatasetToRaster('lab2_all_tiles', 'state_park.tif', 'ELEVATION')"
   ]
  },
  {
   "cell_type": "code",
   "execution_count": null,
   "metadata": {},
   "outputs": [],
   "source": [
    "#clip landcover data to smaller extent that surrounds our two points\n",
    "arcpy.management.Clip(\n",
    "    in_raster=\"landcover_impervious_statewide2013_v2.tif\",\n",
    "    rectangle=\"558792.0947 4862728.7574 596532.954199999 4900915.484\",\n",
    "    out_raster=r\"C:\\Users\\bende287\\Documents\\ArcGIS\\Projects\\MyProject1\\MyProject1.gdb\\landcover_impervious_st_Clip1\",\n",
    "    in_template_dataset=\"Clip Raster Output Extent (Polygons)\",\n",
    "    nodata_value=\"255\",\n",
    "    clipping_geometry=\"NONE\",\n",
    "    maintain_clipping_extent=\"NO_MAINTAIN_EXTENT\"\n",
    ")"
   ]
  },
  {
   "cell_type": "code",
   "execution_count": null,
   "metadata": {},
   "outputs": [],
   "source": []
  },
  {
   "cell_type": "code",
   "execution_count": null,
   "metadata": {},
   "outputs": [],
   "source": [
    "CostDistance(in_source_data, in_cost_raster, {maximum_distance}, {out_backlink_raster}, {source_cost_multiplier}, {source_start_cost}, {source_resistance_rate}, {source_capacity}, {source_direction})"
   ]
  },
  {
   "cell_type": "code",
   "execution_count": null,
   "metadata": {},
   "outputs": [],
   "source": [
    "CostPath(in_destination_data, in_cost_distance_raster, in_cost_backlink_raster, {path_type}, {destination_field}, {force_flow_direction_convention})"
   ]
  }
 ],
 "metadata": {
  "kernelspec": {
   "display_name": "ArcGISPro",
   "language": "Python",
   "name": "python3"
  },
  "language_info": {
   "file_extension": ".py",
   "name": "python",
   "version": "3"
  }
 },
 "nbformat": 4,
 "nbformat_minor": 2
}
